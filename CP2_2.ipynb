{
  "cells": [
    {
      "cell_type": "markdown",
      "metadata": {
        "id": "view-in-github",
        "colab_type": "text"
      },
      "source": [
        "<a href=\"https://colab.research.google.com/github/Mackenzie2407/Project-2/blob/main/CP2_2.ipynb\" target=\"_parent\"><img src=\"https://colab.research.google.com/assets/colab-badge.svg\" alt=\"Open In Colab\"/></a>"
      ]
    },
    {
      "cell_type": "code",
      "execution_count": 1,
      "metadata": {
        "id": "veVebgYJFx2t"
      },
      "outputs": [],
      "source": [
        "import pandas as pd\n",
        "import numpy as np\n",
        "import matplotlib.pyplot as plt\n",
        "import seaborn as sns"
      ]
    },
    {
      "cell_type": "code",
      "execution_count": 2,
      "metadata": {
        "id": "ht_5OAccgF22"
      },
      "outputs": [],
      "source": [
        "import numpy as np\n",
        "import pandas as pd\n",
        "import seaborn as sns\n",
        "import matplotlib.pyplot as plt\n",
        "import seaborn as sns\n",
        "from sklearn.preprocessing import StandardScaler, PolynomialFeatures\n",
        "from sklearn.linear_model import LinearRegression, Ridge, Lasso\n",
        "import warnings\n",
        "warnings.filterwarnings(action='ignore')"
      ]
    },
    {
      "cell_type": "code",
      "execution_count": 3,
      "metadata": {
        "id": "IgTGVCsKF63E",
        "colab": {
          "base_uri": "https://localhost:8080/"
        },
        "outputId": "747dea26-7954-40fd-ba9e-fdc5bd62853b"
      },
      "outputs": [
        {
          "output_type": "stream",
          "name": "stdout",
          "text": [
            "Mounted at /content/drive\n"
          ]
        }
      ],
      "source": [
        "from google.colab import drive\n",
        "drive.mount('/content/drive')"
      ]
    },
    {
      "cell_type": "code",
      "execution_count": 4,
      "metadata": {
        "id": "bG28bErzGFI3"
      },
      "outputs": [],
      "source": [
        "final_1 = pd.read_csv('/content/drive/MyDrive/final_1.csv')"
      ]
    },
    {
      "cell_type": "code",
      "execution_count": 5,
      "metadata": {
        "id": "DkG73y1lGScF"
      },
      "outputs": [],
      "source": [
        "final = final_1.copy()"
      ]
    },
    {
      "cell_type": "code",
      "execution_count": 6,
      "metadata": {
        "id": "xwPXy_YcGWTG",
        "colab": {
          "base_uri": "https://localhost:8080/"
        },
        "outputId": "8a189779-5b2d-4677-e728-f812e67ff0bd"
      },
      "outputs": [
        {
          "output_type": "execute_result",
          "data": {
            "text/plain": [
              "Index(['idx', 'game_date', 'game_time_y', 'MB_IDX_x', 'answer_index',\n",
              "       'survey_participant', 'participant', 'reserve_datetime',\n",
              "       'cancel_datetime', 'day', 'previous_result', 'weather', 'temperature',\n",
              "       'reserve_state_code', 'reserve_detail_no', 'ticket_no',\n",
              "       'product_grade_name', 'product_denomination_name', 'seat_Attribute_4',\n",
              "       'seat_Attribute_5', 'seat_Attribute_6', 'cancel_yn', 'decision_time',\n",
              "       'Rank'],\n",
              "      dtype='object')"
            ]
          },
          "metadata": {},
          "execution_count": 6
        }
      ],
      "source": [
        "final.columns"
      ]
    },
    {
      "cell_type": "code",
      "execution_count": 7,
      "metadata": {
        "id": "4cvDuGDASS0z",
        "colab": {
          "base_uri": "https://localhost:8080/",
          "height": 661
        },
        "outputId": "dc18bb36-efc3-41ca-d9f6-c9c69d5a676f"
      },
      "outputs": [
        {
          "output_type": "execute_result",
          "data": {
            "text/plain": [
              "         idx   game_date game_time_y  MB_IDX_x  answer_index  \\\n",
              "0          0  2022-02-19       16:30     96382           NaN   \n",
              "1          1  2022-02-26       14:00     96382          0.25   \n",
              "2          2  2022-03-05       19:00     96382          0.50   \n",
              "3          3  2022-03-13       14:00     96382          0.50   \n",
              "4          4  2022-04-02       14:00     96382          1.25   \n",
              "...      ...         ...         ...       ...           ...   \n",
              "38520  28238  2022-09-02       19:30    151988           NaN   \n",
              "38521  28239  2022-09-14       19:00    151988           NaN   \n",
              "38522  28240  2022-10-01       16:30    151988           NaN   \n",
              "38523  28241  2022-10-11       19:30    151988           NaN   \n",
              "38524  28242  2022-10-16       19:00    151988           NaN   \n",
              "\n",
              "       survey_participant  participant  reserve_datetime   cancel_datetime  \\\n",
              "0                       0            0  2022-02-15 14:21               NaN   \n",
              "1                       0            0  2022-02-22 14:05               NaN   \n",
              "2                       0            0               NaN  2022-03-01 14:09   \n",
              "3                       0            0               NaN               NaN   \n",
              "4                       0            0  2022-03-30 13:54               NaN   \n",
              "...                   ...          ...               ...               ...   \n",
              "38520                   1            1               NaN               NaN   \n",
              "38521                   1            1               NaN               NaN   \n",
              "38522                   1            1               NaN               NaN   \n",
              "38523                   1            1               NaN               NaN   \n",
              "38524                   0            0               NaN               NaN   \n",
              "\n",
              "      day  ...  reserve_detail_no ticket_no  product_grade_name  \\\n",
              "0       토  ...                1.0  71954648                  S석   \n",
              "1       토  ...                1.0  72078180                  S석   \n",
              "2       토  ...                1.0  72214633                  S석   \n",
              "3       일  ...                NaN       nan                 NaN   \n",
              "4       토  ...                1.0  72870281                  S석   \n",
              "...    ..  ...                ...       ...                 ...   \n",
              "38520   금  ...                NaN       nan                 NaN   \n",
              "38521   수  ...                NaN       nan                 NaN   \n",
              "38522   토  ...                NaN       nan                 NaN   \n",
              "38523   화  ...                NaN       nan                 NaN   \n",
              "38524   일  ...                NaN       nan                 NaN   \n",
              "\n",
              "      product_denomination_name  seat_Attribute_4 seat_Attribute_5  \\\n",
              "0                       ㅅㅇ전 게임권             S11구역               A열   \n",
              "1                       ㅅㅇ전 게임권             S11구역               B열   \n",
              "2                            성인             S11구역               B열   \n",
              "3                           NaN               NaN              NaN   \n",
              "4                          예매권북             S11구역               B열   \n",
              "...                         ...               ...              ...   \n",
              "38520                       NaN               NaN              NaN   \n",
              "38521                       NaN               NaN              NaN   \n",
              "38522                       NaN               NaN              NaN   \n",
              "38523                       NaN               NaN              NaN   \n",
              "38524                       NaN               NaN              NaN   \n",
              "\n",
              "      seat_Attribute_6 cancel_yn decision_time Rank  \n",
              "0                   9번         N    2022-02-15  NaN  \n",
              "1                  13번         N    2022-02-22  4.0  \n",
              "2                  13번         Y    2022-03-01  2.0  \n",
              "3                  NaN       NaN    2022-03-13  3.0  \n",
              "4                  10번         N    2022-03-30  2.0  \n",
              "...                ...       ...           ...  ...  \n",
              "38520              NaN       NaN    2022-09-02  4.0  \n",
              "38521              NaN       NaN    2022-09-14  4.0  \n",
              "38522              NaN       NaN    2022-10-01  4.0  \n",
              "38523              NaN       NaN    2022-10-11  4.0  \n",
              "38524              NaN       NaN    2022-10-16  4.0  \n",
              "\n",
              "[38525 rows x 24 columns]"
            ],
            "text/html": [
              "\n",
              "  <div id=\"df-663c97ef-71ca-47b2-95e6-8cc6bd6e6d6d\">\n",
              "    <div class=\"colab-df-container\">\n",
              "      <div>\n",
              "<style scoped>\n",
              "    .dataframe tbody tr th:only-of-type {\n",
              "        vertical-align: middle;\n",
              "    }\n",
              "\n",
              "    .dataframe tbody tr th {\n",
              "        vertical-align: top;\n",
              "    }\n",
              "\n",
              "    .dataframe thead th {\n",
              "        text-align: right;\n",
              "    }\n",
              "</style>\n",
              "<table border=\"1\" class=\"dataframe\">\n",
              "  <thead>\n",
              "    <tr style=\"text-align: right;\">\n",
              "      <th></th>\n",
              "      <th>idx</th>\n",
              "      <th>game_date</th>\n",
              "      <th>game_time_y</th>\n",
              "      <th>MB_IDX_x</th>\n",
              "      <th>answer_index</th>\n",
              "      <th>survey_participant</th>\n",
              "      <th>participant</th>\n",
              "      <th>reserve_datetime</th>\n",
              "      <th>cancel_datetime</th>\n",
              "      <th>day</th>\n",
              "      <th>...</th>\n",
              "      <th>reserve_detail_no</th>\n",
              "      <th>ticket_no</th>\n",
              "      <th>product_grade_name</th>\n",
              "      <th>product_denomination_name</th>\n",
              "      <th>seat_Attribute_4</th>\n",
              "      <th>seat_Attribute_5</th>\n",
              "      <th>seat_Attribute_6</th>\n",
              "      <th>cancel_yn</th>\n",
              "      <th>decision_time</th>\n",
              "      <th>Rank</th>\n",
              "    </tr>\n",
              "  </thead>\n",
              "  <tbody>\n",
              "    <tr>\n",
              "      <th>0</th>\n",
              "      <td>0</td>\n",
              "      <td>2022-02-19</td>\n",
              "      <td>16:30</td>\n",
              "      <td>96382</td>\n",
              "      <td>NaN</td>\n",
              "      <td>0</td>\n",
              "      <td>0</td>\n",
              "      <td>2022-02-15 14:21</td>\n",
              "      <td>NaN</td>\n",
              "      <td>토</td>\n",
              "      <td>...</td>\n",
              "      <td>1.0</td>\n",
              "      <td>71954648</td>\n",
              "      <td>S석</td>\n",
              "      <td>ㅅㅇ전 게임권</td>\n",
              "      <td>S11구역</td>\n",
              "      <td>A열</td>\n",
              "      <td>9번</td>\n",
              "      <td>N</td>\n",
              "      <td>2022-02-15</td>\n",
              "      <td>NaN</td>\n",
              "    </tr>\n",
              "    <tr>\n",
              "      <th>1</th>\n",
              "      <td>1</td>\n",
              "      <td>2022-02-26</td>\n",
              "      <td>14:00</td>\n",
              "      <td>96382</td>\n",
              "      <td>0.25</td>\n",
              "      <td>0</td>\n",
              "      <td>0</td>\n",
              "      <td>2022-02-22 14:05</td>\n",
              "      <td>NaN</td>\n",
              "      <td>토</td>\n",
              "      <td>...</td>\n",
              "      <td>1.0</td>\n",
              "      <td>72078180</td>\n",
              "      <td>S석</td>\n",
              "      <td>ㅅㅇ전 게임권</td>\n",
              "      <td>S11구역</td>\n",
              "      <td>B열</td>\n",
              "      <td>13번</td>\n",
              "      <td>N</td>\n",
              "      <td>2022-02-22</td>\n",
              "      <td>4.0</td>\n",
              "    </tr>\n",
              "    <tr>\n",
              "      <th>2</th>\n",
              "      <td>2</td>\n",
              "      <td>2022-03-05</td>\n",
              "      <td>19:00</td>\n",
              "      <td>96382</td>\n",
              "      <td>0.50</td>\n",
              "      <td>0</td>\n",
              "      <td>0</td>\n",
              "      <td>NaN</td>\n",
              "      <td>2022-03-01 14:09</td>\n",
              "      <td>토</td>\n",
              "      <td>...</td>\n",
              "      <td>1.0</td>\n",
              "      <td>72214633</td>\n",
              "      <td>S석</td>\n",
              "      <td>성인</td>\n",
              "      <td>S11구역</td>\n",
              "      <td>B열</td>\n",
              "      <td>13번</td>\n",
              "      <td>Y</td>\n",
              "      <td>2022-03-01</td>\n",
              "      <td>2.0</td>\n",
              "    </tr>\n",
              "    <tr>\n",
              "      <th>3</th>\n",
              "      <td>3</td>\n",
              "      <td>2022-03-13</td>\n",
              "      <td>14:00</td>\n",
              "      <td>96382</td>\n",
              "      <td>0.50</td>\n",
              "      <td>0</td>\n",
              "      <td>0</td>\n",
              "      <td>NaN</td>\n",
              "      <td>NaN</td>\n",
              "      <td>일</td>\n",
              "      <td>...</td>\n",
              "      <td>NaN</td>\n",
              "      <td>nan</td>\n",
              "      <td>NaN</td>\n",
              "      <td>NaN</td>\n",
              "      <td>NaN</td>\n",
              "      <td>NaN</td>\n",
              "      <td>NaN</td>\n",
              "      <td>NaN</td>\n",
              "      <td>2022-03-13</td>\n",
              "      <td>3.0</td>\n",
              "    </tr>\n",
              "    <tr>\n",
              "      <th>4</th>\n",
              "      <td>4</td>\n",
              "      <td>2022-04-02</td>\n",
              "      <td>14:00</td>\n",
              "      <td>96382</td>\n",
              "      <td>1.25</td>\n",
              "      <td>0</td>\n",
              "      <td>0</td>\n",
              "      <td>2022-03-30 13:54</td>\n",
              "      <td>NaN</td>\n",
              "      <td>토</td>\n",
              "      <td>...</td>\n",
              "      <td>1.0</td>\n",
              "      <td>72870281</td>\n",
              "      <td>S석</td>\n",
              "      <td>예매권북</td>\n",
              "      <td>S11구역</td>\n",
              "      <td>B열</td>\n",
              "      <td>10번</td>\n",
              "      <td>N</td>\n",
              "      <td>2022-03-30</td>\n",
              "      <td>2.0</td>\n",
              "    </tr>\n",
              "    <tr>\n",
              "      <th>...</th>\n",
              "      <td>...</td>\n",
              "      <td>...</td>\n",
              "      <td>...</td>\n",
              "      <td>...</td>\n",
              "      <td>...</td>\n",
              "      <td>...</td>\n",
              "      <td>...</td>\n",
              "      <td>...</td>\n",
              "      <td>...</td>\n",
              "      <td>...</td>\n",
              "      <td>...</td>\n",
              "      <td>...</td>\n",
              "      <td>...</td>\n",
              "      <td>...</td>\n",
              "      <td>...</td>\n",
              "      <td>...</td>\n",
              "      <td>...</td>\n",
              "      <td>...</td>\n",
              "      <td>...</td>\n",
              "      <td>...</td>\n",
              "      <td>...</td>\n",
              "    </tr>\n",
              "    <tr>\n",
              "      <th>38520</th>\n",
              "      <td>28238</td>\n",
              "      <td>2022-09-02</td>\n",
              "      <td>19:30</td>\n",
              "      <td>151988</td>\n",
              "      <td>NaN</td>\n",
              "      <td>1</td>\n",
              "      <td>1</td>\n",
              "      <td>NaN</td>\n",
              "      <td>NaN</td>\n",
              "      <td>금</td>\n",
              "      <td>...</td>\n",
              "      <td>NaN</td>\n",
              "      <td>nan</td>\n",
              "      <td>NaN</td>\n",
              "      <td>NaN</td>\n",
              "      <td>NaN</td>\n",
              "      <td>NaN</td>\n",
              "      <td>NaN</td>\n",
              "      <td>NaN</td>\n",
              "      <td>2022-09-02</td>\n",
              "      <td>4.0</td>\n",
              "    </tr>\n",
              "    <tr>\n",
              "      <th>38521</th>\n",
              "      <td>28239</td>\n",
              "      <td>2022-09-14</td>\n",
              "      <td>19:00</td>\n",
              "      <td>151988</td>\n",
              "      <td>NaN</td>\n",
              "      <td>1</td>\n",
              "      <td>1</td>\n",
              "      <td>NaN</td>\n",
              "      <td>NaN</td>\n",
              "      <td>수</td>\n",
              "      <td>...</td>\n",
              "      <td>NaN</td>\n",
              "      <td>nan</td>\n",
              "      <td>NaN</td>\n",
              "      <td>NaN</td>\n",
              "      <td>NaN</td>\n",
              "      <td>NaN</td>\n",
              "      <td>NaN</td>\n",
              "      <td>NaN</td>\n",
              "      <td>2022-09-14</td>\n",
              "      <td>4.0</td>\n",
              "    </tr>\n",
              "    <tr>\n",
              "      <th>38522</th>\n",
              "      <td>28240</td>\n",
              "      <td>2022-10-01</td>\n",
              "      <td>16:30</td>\n",
              "      <td>151988</td>\n",
              "      <td>NaN</td>\n",
              "      <td>1</td>\n",
              "      <td>1</td>\n",
              "      <td>NaN</td>\n",
              "      <td>NaN</td>\n",
              "      <td>토</td>\n",
              "      <td>...</td>\n",
              "      <td>NaN</td>\n",
              "      <td>nan</td>\n",
              "      <td>NaN</td>\n",
              "      <td>NaN</td>\n",
              "      <td>NaN</td>\n",
              "      <td>NaN</td>\n",
              "      <td>NaN</td>\n",
              "      <td>NaN</td>\n",
              "      <td>2022-10-01</td>\n",
              "      <td>4.0</td>\n",
              "    </tr>\n",
              "    <tr>\n",
              "      <th>38523</th>\n",
              "      <td>28241</td>\n",
              "      <td>2022-10-11</td>\n",
              "      <td>19:30</td>\n",
              "      <td>151988</td>\n",
              "      <td>NaN</td>\n",
              "      <td>1</td>\n",
              "      <td>1</td>\n",
              "      <td>NaN</td>\n",
              "      <td>NaN</td>\n",
              "      <td>화</td>\n",
              "      <td>...</td>\n",
              "      <td>NaN</td>\n",
              "      <td>nan</td>\n",
              "      <td>NaN</td>\n",
              "      <td>NaN</td>\n",
              "      <td>NaN</td>\n",
              "      <td>NaN</td>\n",
              "      <td>NaN</td>\n",
              "      <td>NaN</td>\n",
              "      <td>2022-10-11</td>\n",
              "      <td>4.0</td>\n",
              "    </tr>\n",
              "    <tr>\n",
              "      <th>38524</th>\n",
              "      <td>28242</td>\n",
              "      <td>2022-10-16</td>\n",
              "      <td>19:00</td>\n",
              "      <td>151988</td>\n",
              "      <td>NaN</td>\n",
              "      <td>0</td>\n",
              "      <td>0</td>\n",
              "      <td>NaN</td>\n",
              "      <td>NaN</td>\n",
              "      <td>일</td>\n",
              "      <td>...</td>\n",
              "      <td>NaN</td>\n",
              "      <td>nan</td>\n",
              "      <td>NaN</td>\n",
              "      <td>NaN</td>\n",
              "      <td>NaN</td>\n",
              "      <td>NaN</td>\n",
              "      <td>NaN</td>\n",
              "      <td>NaN</td>\n",
              "      <td>2022-10-16</td>\n",
              "      <td>4.0</td>\n",
              "    </tr>\n",
              "  </tbody>\n",
              "</table>\n",
              "<p>38525 rows × 24 columns</p>\n",
              "</div>\n",
              "      <button class=\"colab-df-convert\" onclick=\"convertToInteractive('df-663c97ef-71ca-47b2-95e6-8cc6bd6e6d6d')\"\n",
              "              title=\"Convert this dataframe to an interactive table.\"\n",
              "              style=\"display:none;\">\n",
              "        \n",
              "  <svg xmlns=\"http://www.w3.org/2000/svg\" height=\"24px\"viewBox=\"0 0 24 24\"\n",
              "       width=\"24px\">\n",
              "    <path d=\"M0 0h24v24H0V0z\" fill=\"none\"/>\n",
              "    <path d=\"M18.56 5.44l.94 2.06.94-2.06 2.06-.94-2.06-.94-.94-2.06-.94 2.06-2.06.94zm-11 1L8.5 8.5l.94-2.06 2.06-.94-2.06-.94L8.5 2.5l-.94 2.06-2.06.94zm10 10l.94 2.06.94-2.06 2.06-.94-2.06-.94-.94-2.06-.94 2.06-2.06.94z\"/><path d=\"M17.41 7.96l-1.37-1.37c-.4-.4-.92-.59-1.43-.59-.52 0-1.04.2-1.43.59L10.3 9.45l-7.72 7.72c-.78.78-.78 2.05 0 2.83L4 21.41c.39.39.9.59 1.41.59.51 0 1.02-.2 1.41-.59l7.78-7.78 2.81-2.81c.8-.78.8-2.07 0-2.86zM5.41 20L4 18.59l7.72-7.72 1.47 1.35L5.41 20z\"/>\n",
              "  </svg>\n",
              "      </button>\n",
              "      \n",
              "  <style>\n",
              "    .colab-df-container {\n",
              "      display:flex;\n",
              "      flex-wrap:wrap;\n",
              "      gap: 12px;\n",
              "    }\n",
              "\n",
              "    .colab-df-convert {\n",
              "      background-color: #E8F0FE;\n",
              "      border: none;\n",
              "      border-radius: 50%;\n",
              "      cursor: pointer;\n",
              "      display: none;\n",
              "      fill: #1967D2;\n",
              "      height: 32px;\n",
              "      padding: 0 0 0 0;\n",
              "      width: 32px;\n",
              "    }\n",
              "\n",
              "    .colab-df-convert:hover {\n",
              "      background-color: #E2EBFA;\n",
              "      box-shadow: 0px 1px 2px rgba(60, 64, 67, 0.3), 0px 1px 3px 1px rgba(60, 64, 67, 0.15);\n",
              "      fill: #174EA6;\n",
              "    }\n",
              "\n",
              "    [theme=dark] .colab-df-convert {\n",
              "      background-color: #3B4455;\n",
              "      fill: #D2E3FC;\n",
              "    }\n",
              "\n",
              "    [theme=dark] .colab-df-convert:hover {\n",
              "      background-color: #434B5C;\n",
              "      box-shadow: 0px 1px 3px 1px rgba(0, 0, 0, 0.15);\n",
              "      filter: drop-shadow(0px 1px 2px rgba(0, 0, 0, 0.3));\n",
              "      fill: #FFFFFF;\n",
              "    }\n",
              "  </style>\n",
              "\n",
              "      <script>\n",
              "        const buttonEl =\n",
              "          document.querySelector('#df-663c97ef-71ca-47b2-95e6-8cc6bd6e6d6d button.colab-df-convert');\n",
              "        buttonEl.style.display =\n",
              "          google.colab.kernel.accessAllowed ? 'block' : 'none';\n",
              "\n",
              "        async function convertToInteractive(key) {\n",
              "          const element = document.querySelector('#df-663c97ef-71ca-47b2-95e6-8cc6bd6e6d6d');\n",
              "          const dataTable =\n",
              "            await google.colab.kernel.invokeFunction('convertToInteractive',\n",
              "                                                     [key], {});\n",
              "          if (!dataTable) return;\n",
              "\n",
              "          const docLinkHtml = 'Like what you see? Visit the ' +\n",
              "            '<a target=\"_blank\" href=https://colab.research.google.com/notebooks/data_table.ipynb>data table notebook</a>'\n",
              "            + ' to learn more about interactive tables.';\n",
              "          element.innerHTML = '';\n",
              "          dataTable['output_type'] = 'display_data';\n",
              "          await google.colab.output.renderOutput(dataTable, element);\n",
              "          const docLink = document.createElement('div');\n",
              "          docLink.innerHTML = docLinkHtml;\n",
              "          element.appendChild(docLink);\n",
              "        }\n",
              "      </script>\n",
              "    </div>\n",
              "  </div>\n",
              "  "
            ]
          },
          "metadata": {},
          "execution_count": 7
        }
      ],
      "source": [
        "final['ticket_no']=final['ticket_no'].astype('str').str.split('.').str[0]\n",
        "final['ticket_no']=final['ticket_no'].str[-8:]\n",
        "final"
      ]
    },
    {
      "cell_type": "code",
      "execution_count": 8,
      "metadata": {
        "id": "-0izyo7OGX-5"
      },
      "outputs": [],
      "source": [
        "editf =final[['idx', 'game_date', 'game_time_y', 'MB_IDX_x', 'answer_index',\n",
        "       'survey_participant', 'participant', 'reserve_state_code', 'reserve_detail_no','ticket_no',\n",
        "       'day', 'previous_result', 'weather', 'temperature',\n",
        "       'Rank']]"
      ]
    },
    {
      "cell_type": "code",
      "execution_count": 9,
      "metadata": {
        "id": "Eq2Q9sdRGZWE",
        "colab": {
          "base_uri": "https://localhost:8080/",
          "height": 143
        },
        "outputId": "68dd7978-7857-4abd-b4f6-ee11d71c05bb"
      },
      "outputs": [
        {
          "output_type": "execute_result",
          "data": {
            "text/plain": [
              "   idx   game_date  survey_participant ticket_no  participant  \\\n",
              "0    0  2022-02-19                   0  71954648            0   \n",
              "1    1  2022-02-26                   0  72078180            0   \n",
              "2    2  2022-03-05                   0  72214633            0   \n",
              "\n",
              "  reserve_state_code  reserve_detail_no  \n",
              "0           COMPLETE                1.0  \n",
              "1           COMPLETE                1.0  \n",
              "2         ALL_CANCEL                1.0  "
            ],
            "text/html": [
              "\n",
              "  <div id=\"df-d8852693-f362-411b-a6aa-0ff925df12e4\">\n",
              "    <div class=\"colab-df-container\">\n",
              "      <div>\n",
              "<style scoped>\n",
              "    .dataframe tbody tr th:only-of-type {\n",
              "        vertical-align: middle;\n",
              "    }\n",
              "\n",
              "    .dataframe tbody tr th {\n",
              "        vertical-align: top;\n",
              "    }\n",
              "\n",
              "    .dataframe thead th {\n",
              "        text-align: right;\n",
              "    }\n",
              "</style>\n",
              "<table border=\"1\" class=\"dataframe\">\n",
              "  <thead>\n",
              "    <tr style=\"text-align: right;\">\n",
              "      <th></th>\n",
              "      <th>idx</th>\n",
              "      <th>game_date</th>\n",
              "      <th>survey_participant</th>\n",
              "      <th>ticket_no</th>\n",
              "      <th>participant</th>\n",
              "      <th>reserve_state_code</th>\n",
              "      <th>reserve_detail_no</th>\n",
              "    </tr>\n",
              "  </thead>\n",
              "  <tbody>\n",
              "    <tr>\n",
              "      <th>0</th>\n",
              "      <td>0</td>\n",
              "      <td>2022-02-19</td>\n",
              "      <td>0</td>\n",
              "      <td>71954648</td>\n",
              "      <td>0</td>\n",
              "      <td>COMPLETE</td>\n",
              "      <td>1.0</td>\n",
              "    </tr>\n",
              "    <tr>\n",
              "      <th>1</th>\n",
              "      <td>1</td>\n",
              "      <td>2022-02-26</td>\n",
              "      <td>0</td>\n",
              "      <td>72078180</td>\n",
              "      <td>0</td>\n",
              "      <td>COMPLETE</td>\n",
              "      <td>1.0</td>\n",
              "    </tr>\n",
              "    <tr>\n",
              "      <th>2</th>\n",
              "      <td>2</td>\n",
              "      <td>2022-03-05</td>\n",
              "      <td>0</td>\n",
              "      <td>72214633</td>\n",
              "      <td>0</td>\n",
              "      <td>ALL_CANCEL</td>\n",
              "      <td>1.0</td>\n",
              "    </tr>\n",
              "  </tbody>\n",
              "</table>\n",
              "</div>\n",
              "      <button class=\"colab-df-convert\" onclick=\"convertToInteractive('df-d8852693-f362-411b-a6aa-0ff925df12e4')\"\n",
              "              title=\"Convert this dataframe to an interactive table.\"\n",
              "              style=\"display:none;\">\n",
              "        \n",
              "  <svg xmlns=\"http://www.w3.org/2000/svg\" height=\"24px\"viewBox=\"0 0 24 24\"\n",
              "       width=\"24px\">\n",
              "    <path d=\"M0 0h24v24H0V0z\" fill=\"none\"/>\n",
              "    <path d=\"M18.56 5.44l.94 2.06.94-2.06 2.06-.94-2.06-.94-.94-2.06-.94 2.06-2.06.94zm-11 1L8.5 8.5l.94-2.06 2.06-.94-2.06-.94L8.5 2.5l-.94 2.06-2.06.94zm10 10l.94 2.06.94-2.06 2.06-.94-2.06-.94-.94-2.06-.94 2.06-2.06.94z\"/><path d=\"M17.41 7.96l-1.37-1.37c-.4-.4-.92-.59-1.43-.59-.52 0-1.04.2-1.43.59L10.3 9.45l-7.72 7.72c-.78.78-.78 2.05 0 2.83L4 21.41c.39.39.9.59 1.41.59.51 0 1.02-.2 1.41-.59l7.78-7.78 2.81-2.81c.8-.78.8-2.07 0-2.86zM5.41 20L4 18.59l7.72-7.72 1.47 1.35L5.41 20z\"/>\n",
              "  </svg>\n",
              "      </button>\n",
              "      \n",
              "  <style>\n",
              "    .colab-df-container {\n",
              "      display:flex;\n",
              "      flex-wrap:wrap;\n",
              "      gap: 12px;\n",
              "    }\n",
              "\n",
              "    .colab-df-convert {\n",
              "      background-color: #E8F0FE;\n",
              "      border: none;\n",
              "      border-radius: 50%;\n",
              "      cursor: pointer;\n",
              "      display: none;\n",
              "      fill: #1967D2;\n",
              "      height: 32px;\n",
              "      padding: 0 0 0 0;\n",
              "      width: 32px;\n",
              "    }\n",
              "\n",
              "    .colab-df-convert:hover {\n",
              "      background-color: #E2EBFA;\n",
              "      box-shadow: 0px 1px 2px rgba(60, 64, 67, 0.3), 0px 1px 3px 1px rgba(60, 64, 67, 0.15);\n",
              "      fill: #174EA6;\n",
              "    }\n",
              "\n",
              "    [theme=dark] .colab-df-convert {\n",
              "      background-color: #3B4455;\n",
              "      fill: #D2E3FC;\n",
              "    }\n",
              "\n",
              "    [theme=dark] .colab-df-convert:hover {\n",
              "      background-color: #434B5C;\n",
              "      box-shadow: 0px 1px 3px 1px rgba(0, 0, 0, 0.15);\n",
              "      filter: drop-shadow(0px 1px 2px rgba(0, 0, 0, 0.3));\n",
              "      fill: #FFFFFF;\n",
              "    }\n",
              "  </style>\n",
              "\n",
              "      <script>\n",
              "        const buttonEl =\n",
              "          document.querySelector('#df-d8852693-f362-411b-a6aa-0ff925df12e4 button.colab-df-convert');\n",
              "        buttonEl.style.display =\n",
              "          google.colab.kernel.accessAllowed ? 'block' : 'none';\n",
              "\n",
              "        async function convertToInteractive(key) {\n",
              "          const element = document.querySelector('#df-d8852693-f362-411b-a6aa-0ff925df12e4');\n",
              "          const dataTable =\n",
              "            await google.colab.kernel.invokeFunction('convertToInteractive',\n",
              "                                                     [key], {});\n",
              "          if (!dataTable) return;\n",
              "\n",
              "          const docLinkHtml = 'Like what you see? Visit the ' +\n",
              "            '<a target=\"_blank\" href=https://colab.research.google.com/notebooks/data_table.ipynb>data table notebook</a>'\n",
              "            + ' to learn more about interactive tables.';\n",
              "          element.innerHTML = '';\n",
              "          dataTable['output_type'] = 'display_data';\n",
              "          await google.colab.output.renderOutput(dataTable, element);\n",
              "          const docLink = document.createElement('div');\n",
              "          docLink.innerHTML = docLinkHtml;\n",
              "          element.appendChild(docLink);\n",
              "        }\n",
              "      </script>\n",
              "    </div>\n",
              "  </div>\n",
              "  "
            ]
          },
          "metadata": {},
          "execution_count": 9
        }
      ],
      "source": [
        "ongoing = editf[['idx', 'game_date', 'survey_participant','ticket_no','participant', 'reserve_state_code', 'reserve_detail_no']]\n",
        "ongoing.head(3)"
      ]
    },
    {
      "cell_type": "code",
      "execution_count": 10,
      "metadata": {
        "id": "J8yrKPCqGa_I",
        "colab": {
          "base_uri": "https://localhost:8080/",
          "height": 143
        },
        "outputId": "440d2c1a-39bc-4394-c64e-96e1f4edb4f7"
      },
      "outputs": [
        {
          "output_type": "execute_result",
          "data": {
            "text/plain": [
              "   idx   game_date  survey_participant ticket_no  participant  \\\n",
              "0    0  2022-02-19                   0  71954648            0   \n",
              "1    1  2022-02-26                   0  72078180            0   \n",
              "2    2  2022-03-05                   0  72214633            0   \n",
              "\n",
              "  reserve_state_code  reserve_detail_no  \n",
              "0           COMPLETE                1.0  \n",
              "1           COMPLETE                1.0  \n",
              "2         ALL_CANCEL                1.0  "
            ],
            "text/html": [
              "\n",
              "  <div id=\"df-a3aa5d23-fc86-460f-a746-4d33755830d8\">\n",
              "    <div class=\"colab-df-container\">\n",
              "      <div>\n",
              "<style scoped>\n",
              "    .dataframe tbody tr th:only-of-type {\n",
              "        vertical-align: middle;\n",
              "    }\n",
              "\n",
              "    .dataframe tbody tr th {\n",
              "        vertical-align: top;\n",
              "    }\n",
              "\n",
              "    .dataframe thead th {\n",
              "        text-align: right;\n",
              "    }\n",
              "</style>\n",
              "<table border=\"1\" class=\"dataframe\">\n",
              "  <thead>\n",
              "    <tr style=\"text-align: right;\">\n",
              "      <th></th>\n",
              "      <th>idx</th>\n",
              "      <th>game_date</th>\n",
              "      <th>survey_participant</th>\n",
              "      <th>ticket_no</th>\n",
              "      <th>participant</th>\n",
              "      <th>reserve_state_code</th>\n",
              "      <th>reserve_detail_no</th>\n",
              "    </tr>\n",
              "  </thead>\n",
              "  <tbody>\n",
              "    <tr>\n",
              "      <th>0</th>\n",
              "      <td>0</td>\n",
              "      <td>2022-02-19</td>\n",
              "      <td>0</td>\n",
              "      <td>71954648</td>\n",
              "      <td>0</td>\n",
              "      <td>COMPLETE</td>\n",
              "      <td>1.0</td>\n",
              "    </tr>\n",
              "    <tr>\n",
              "      <th>1</th>\n",
              "      <td>1</td>\n",
              "      <td>2022-02-26</td>\n",
              "      <td>0</td>\n",
              "      <td>72078180</td>\n",
              "      <td>0</td>\n",
              "      <td>COMPLETE</td>\n",
              "      <td>1.0</td>\n",
              "    </tr>\n",
              "    <tr>\n",
              "      <th>2</th>\n",
              "      <td>2</td>\n",
              "      <td>2022-03-05</td>\n",
              "      <td>0</td>\n",
              "      <td>72214633</td>\n",
              "      <td>0</td>\n",
              "      <td>ALL_CANCEL</td>\n",
              "      <td>1.0</td>\n",
              "    </tr>\n",
              "  </tbody>\n",
              "</table>\n",
              "</div>\n",
              "      <button class=\"colab-df-convert\" onclick=\"convertToInteractive('df-a3aa5d23-fc86-460f-a746-4d33755830d8')\"\n",
              "              title=\"Convert this dataframe to an interactive table.\"\n",
              "              style=\"display:none;\">\n",
              "        \n",
              "  <svg xmlns=\"http://www.w3.org/2000/svg\" height=\"24px\"viewBox=\"0 0 24 24\"\n",
              "       width=\"24px\">\n",
              "    <path d=\"M0 0h24v24H0V0z\" fill=\"none\"/>\n",
              "    <path d=\"M18.56 5.44l.94 2.06.94-2.06 2.06-.94-2.06-.94-.94-2.06-.94 2.06-2.06.94zm-11 1L8.5 8.5l.94-2.06 2.06-.94-2.06-.94L8.5 2.5l-.94 2.06-2.06.94zm10 10l.94 2.06.94-2.06 2.06-.94-2.06-.94-.94-2.06-.94 2.06-2.06.94z\"/><path d=\"M17.41 7.96l-1.37-1.37c-.4-.4-.92-.59-1.43-.59-.52 0-1.04.2-1.43.59L10.3 9.45l-7.72 7.72c-.78.78-.78 2.05 0 2.83L4 21.41c.39.39.9.59 1.41.59.51 0 1.02-.2 1.41-.59l7.78-7.78 2.81-2.81c.8-.78.8-2.07 0-2.86zM5.41 20L4 18.59l7.72-7.72 1.47 1.35L5.41 20z\"/>\n",
              "  </svg>\n",
              "      </button>\n",
              "      \n",
              "  <style>\n",
              "    .colab-df-container {\n",
              "      display:flex;\n",
              "      flex-wrap:wrap;\n",
              "      gap: 12px;\n",
              "    }\n",
              "\n",
              "    .colab-df-convert {\n",
              "      background-color: #E8F0FE;\n",
              "      border: none;\n",
              "      border-radius: 50%;\n",
              "      cursor: pointer;\n",
              "      display: none;\n",
              "      fill: #1967D2;\n",
              "      height: 32px;\n",
              "      padding: 0 0 0 0;\n",
              "      width: 32px;\n",
              "    }\n",
              "\n",
              "    .colab-df-convert:hover {\n",
              "      background-color: #E2EBFA;\n",
              "      box-shadow: 0px 1px 2px rgba(60, 64, 67, 0.3), 0px 1px 3px 1px rgba(60, 64, 67, 0.15);\n",
              "      fill: #174EA6;\n",
              "    }\n",
              "\n",
              "    [theme=dark] .colab-df-convert {\n",
              "      background-color: #3B4455;\n",
              "      fill: #D2E3FC;\n",
              "    }\n",
              "\n",
              "    [theme=dark] .colab-df-convert:hover {\n",
              "      background-color: #434B5C;\n",
              "      box-shadow: 0px 1px 3px 1px rgba(0, 0, 0, 0.15);\n",
              "      filter: drop-shadow(0px 1px 2px rgba(0, 0, 0, 0.3));\n",
              "      fill: #FFFFFF;\n",
              "    }\n",
              "  </style>\n",
              "\n",
              "      <script>\n",
              "        const buttonEl =\n",
              "          document.querySelector('#df-a3aa5d23-fc86-460f-a746-4d33755830d8 button.colab-df-convert');\n",
              "        buttonEl.style.display =\n",
              "          google.colab.kernel.accessAllowed ? 'block' : 'none';\n",
              "\n",
              "        async function convertToInteractive(key) {\n",
              "          const element = document.querySelector('#df-a3aa5d23-fc86-460f-a746-4d33755830d8');\n",
              "          const dataTable =\n",
              "            await google.colab.kernel.invokeFunction('convertToInteractive',\n",
              "                                                     [key], {});\n",
              "          if (!dataTable) return;\n",
              "\n",
              "          const docLinkHtml = 'Like what you see? Visit the ' +\n",
              "            '<a target=\"_blank\" href=https://colab.research.google.com/notebooks/data_table.ipynb>data table notebook</a>'\n",
              "            + ' to learn more about interactive tables.';\n",
              "          element.innerHTML = '';\n",
              "          dataTable['output_type'] = 'display_data';\n",
              "          await google.colab.output.renderOutput(dataTable, element);\n",
              "          const docLink = document.createElement('div');\n",
              "          docLink.innerHTML = docLinkHtml;\n",
              "          element.appendChild(docLink);\n",
              "        }\n",
              "      </script>\n",
              "    </div>\n",
              "  </div>\n",
              "  "
            ]
          },
          "metadata": {},
          "execution_count": 10
        }
      ],
      "source": [
        "survey0 = ongoing[ongoing['survey_participant']==0]\n",
        "survey0.head(3)"
      ]
    },
    {
      "cell_type": "code",
      "execution_count": 11,
      "metadata": {
        "id": "tEljMjPUOBla",
        "colab": {
          "base_uri": "https://localhost:8080/",
          "height": 143
        },
        "outputId": "88ad56f3-6b8b-456a-eaba-2e2ae3133f8a"
      },
      "outputs": [
        {
          "output_type": "execute_result",
          "data": {
            "text/plain": [
              "   idx   game_date ticket_no  participant\n",
              "0    0  2022-02-19  71954648            0\n",
              "1    1  2022-02-26  72078180            0\n",
              "2    2  2022-03-05  72214633            0"
            ],
            "text/html": [
              "\n",
              "  <div id=\"df-8ff98316-9de8-4caf-9ae4-e52d517db1a7\">\n",
              "    <div class=\"colab-df-container\">\n",
              "      <div>\n",
              "<style scoped>\n",
              "    .dataframe tbody tr th:only-of-type {\n",
              "        vertical-align: middle;\n",
              "    }\n",
              "\n",
              "    .dataframe tbody tr th {\n",
              "        vertical-align: top;\n",
              "    }\n",
              "\n",
              "    .dataframe thead th {\n",
              "        text-align: right;\n",
              "    }\n",
              "</style>\n",
              "<table border=\"1\" class=\"dataframe\">\n",
              "  <thead>\n",
              "    <tr style=\"text-align: right;\">\n",
              "      <th></th>\n",
              "      <th>idx</th>\n",
              "      <th>game_date</th>\n",
              "      <th>ticket_no</th>\n",
              "      <th>participant</th>\n",
              "    </tr>\n",
              "  </thead>\n",
              "  <tbody>\n",
              "    <tr>\n",
              "      <th>0</th>\n",
              "      <td>0</td>\n",
              "      <td>2022-02-19</td>\n",
              "      <td>71954648</td>\n",
              "      <td>0</td>\n",
              "    </tr>\n",
              "    <tr>\n",
              "      <th>1</th>\n",
              "      <td>1</td>\n",
              "      <td>2022-02-26</td>\n",
              "      <td>72078180</td>\n",
              "      <td>0</td>\n",
              "    </tr>\n",
              "    <tr>\n",
              "      <th>2</th>\n",
              "      <td>2</td>\n",
              "      <td>2022-03-05</td>\n",
              "      <td>72214633</td>\n",
              "      <td>0</td>\n",
              "    </tr>\n",
              "  </tbody>\n",
              "</table>\n",
              "</div>\n",
              "      <button class=\"colab-df-convert\" onclick=\"convertToInteractive('df-8ff98316-9de8-4caf-9ae4-e52d517db1a7')\"\n",
              "              title=\"Convert this dataframe to an interactive table.\"\n",
              "              style=\"display:none;\">\n",
              "        \n",
              "  <svg xmlns=\"http://www.w3.org/2000/svg\" height=\"24px\"viewBox=\"0 0 24 24\"\n",
              "       width=\"24px\">\n",
              "    <path d=\"M0 0h24v24H0V0z\" fill=\"none\"/>\n",
              "    <path d=\"M18.56 5.44l.94 2.06.94-2.06 2.06-.94-2.06-.94-.94-2.06-.94 2.06-2.06.94zm-11 1L8.5 8.5l.94-2.06 2.06-.94-2.06-.94L8.5 2.5l-.94 2.06-2.06.94zm10 10l.94 2.06.94-2.06 2.06-.94-2.06-.94-.94-2.06-.94 2.06-2.06.94z\"/><path d=\"M17.41 7.96l-1.37-1.37c-.4-.4-.92-.59-1.43-.59-.52 0-1.04.2-1.43.59L10.3 9.45l-7.72 7.72c-.78.78-.78 2.05 0 2.83L4 21.41c.39.39.9.59 1.41.59.51 0 1.02-.2 1.41-.59l7.78-7.78 2.81-2.81c.8-.78.8-2.07 0-2.86zM5.41 20L4 18.59l7.72-7.72 1.47 1.35L5.41 20z\"/>\n",
              "  </svg>\n",
              "      </button>\n",
              "      \n",
              "  <style>\n",
              "    .colab-df-container {\n",
              "      display:flex;\n",
              "      flex-wrap:wrap;\n",
              "      gap: 12px;\n",
              "    }\n",
              "\n",
              "    .colab-df-convert {\n",
              "      background-color: #E8F0FE;\n",
              "      border: none;\n",
              "      border-radius: 50%;\n",
              "      cursor: pointer;\n",
              "      display: none;\n",
              "      fill: #1967D2;\n",
              "      height: 32px;\n",
              "      padding: 0 0 0 0;\n",
              "      width: 32px;\n",
              "    }\n",
              "\n",
              "    .colab-df-convert:hover {\n",
              "      background-color: #E2EBFA;\n",
              "      box-shadow: 0px 1px 2px rgba(60, 64, 67, 0.3), 0px 1px 3px 1px rgba(60, 64, 67, 0.15);\n",
              "      fill: #174EA6;\n",
              "    }\n",
              "\n",
              "    [theme=dark] .colab-df-convert {\n",
              "      background-color: #3B4455;\n",
              "      fill: #D2E3FC;\n",
              "    }\n",
              "\n",
              "    [theme=dark] .colab-df-convert:hover {\n",
              "      background-color: #434B5C;\n",
              "      box-shadow: 0px 1px 3px 1px rgba(0, 0, 0, 0.15);\n",
              "      filter: drop-shadow(0px 1px 2px rgba(0, 0, 0, 0.3));\n",
              "      fill: #FFFFFF;\n",
              "    }\n",
              "  </style>\n",
              "\n",
              "      <script>\n",
              "        const buttonEl =\n",
              "          document.querySelector('#df-8ff98316-9de8-4caf-9ae4-e52d517db1a7 button.colab-df-convert');\n",
              "        buttonEl.style.display =\n",
              "          google.colab.kernel.accessAllowed ? 'block' : 'none';\n",
              "\n",
              "        async function convertToInteractive(key) {\n",
              "          const element = document.querySelector('#df-8ff98316-9de8-4caf-9ae4-e52d517db1a7');\n",
              "          const dataTable =\n",
              "            await google.colab.kernel.invokeFunction('convertToInteractive',\n",
              "                                                     [key], {});\n",
              "          if (!dataTable) return;\n",
              "\n",
              "          const docLinkHtml = 'Like what you see? Visit the ' +\n",
              "            '<a target=\"_blank\" href=https://colab.research.google.com/notebooks/data_table.ipynb>data table notebook</a>'\n",
              "            + ' to learn more about interactive tables.';\n",
              "          element.innerHTML = '';\n",
              "          dataTable['output_type'] = 'display_data';\n",
              "          await google.colab.output.renderOutput(dataTable, element);\n",
              "          const docLink = document.createElement('div');\n",
              "          docLink.innerHTML = docLinkHtml;\n",
              "          element.appendChild(docLink);\n",
              "        }\n",
              "      </script>\n",
              "    </div>\n",
              "  </div>\n",
              "  "
            ]
          },
          "metadata": {},
          "execution_count": 11
        }
      ],
      "source": [
        "participant0=survey0.groupby(['idx','game_date'])[['ticket_no']].max().reset_index()\n",
        "participant0 = participant0.set_index('idx').reset_index()\n",
        "participant0['participant'] = 0\n",
        "participant0.head(3)"
      ]
    },
    {
      "cell_type": "code",
      "execution_count": 12,
      "metadata": {
        "id": "yvxIcDLvGduB",
        "colab": {
          "base_uri": "https://localhost:8080/",
          "height": 143
        },
        "outputId": "6c672eab-aca5-405d-db6f-2258d653ad96"
      },
      "outputs": [
        {
          "output_type": "execute_result",
          "data": {
            "text/plain": [
              "   idx   game_date ticket_no\n",
              "0    9  2022-06-22       nan\n",
              "1   29  2022-06-22       nan\n",
              "2   55  2022-09-14  81070067"
            ],
            "text/html": [
              "\n",
              "  <div id=\"df-db03f706-2669-4437-92a9-61c2880042ad\">\n",
              "    <div class=\"colab-df-container\">\n",
              "      <div>\n",
              "<style scoped>\n",
              "    .dataframe tbody tr th:only-of-type {\n",
              "        vertical-align: middle;\n",
              "    }\n",
              "\n",
              "    .dataframe tbody tr th {\n",
              "        vertical-align: top;\n",
              "    }\n",
              "\n",
              "    .dataframe thead th {\n",
              "        text-align: right;\n",
              "    }\n",
              "</style>\n",
              "<table border=\"1\" class=\"dataframe\">\n",
              "  <thead>\n",
              "    <tr style=\"text-align: right;\">\n",
              "      <th></th>\n",
              "      <th>idx</th>\n",
              "      <th>game_date</th>\n",
              "      <th>ticket_no</th>\n",
              "    </tr>\n",
              "  </thead>\n",
              "  <tbody>\n",
              "    <tr>\n",
              "      <th>0</th>\n",
              "      <td>9</td>\n",
              "      <td>2022-06-22</td>\n",
              "      <td>nan</td>\n",
              "    </tr>\n",
              "    <tr>\n",
              "      <th>1</th>\n",
              "      <td>29</td>\n",
              "      <td>2022-06-22</td>\n",
              "      <td>nan</td>\n",
              "    </tr>\n",
              "    <tr>\n",
              "      <th>2</th>\n",
              "      <td>55</td>\n",
              "      <td>2022-09-14</td>\n",
              "      <td>81070067</td>\n",
              "    </tr>\n",
              "  </tbody>\n",
              "</table>\n",
              "</div>\n",
              "      <button class=\"colab-df-convert\" onclick=\"convertToInteractive('df-db03f706-2669-4437-92a9-61c2880042ad')\"\n",
              "              title=\"Convert this dataframe to an interactive table.\"\n",
              "              style=\"display:none;\">\n",
              "        \n",
              "  <svg xmlns=\"http://www.w3.org/2000/svg\" height=\"24px\"viewBox=\"0 0 24 24\"\n",
              "       width=\"24px\">\n",
              "    <path d=\"M0 0h24v24H0V0z\" fill=\"none\"/>\n",
              "    <path d=\"M18.56 5.44l.94 2.06.94-2.06 2.06-.94-2.06-.94-.94-2.06-.94 2.06-2.06.94zm-11 1L8.5 8.5l.94-2.06 2.06-.94-2.06-.94L8.5 2.5l-.94 2.06-2.06.94zm10 10l.94 2.06.94-2.06 2.06-.94-2.06-.94-.94-2.06-.94 2.06-2.06.94z\"/><path d=\"M17.41 7.96l-1.37-1.37c-.4-.4-.92-.59-1.43-.59-.52 0-1.04.2-1.43.59L10.3 9.45l-7.72 7.72c-.78.78-.78 2.05 0 2.83L4 21.41c.39.39.9.59 1.41.59.51 0 1.02-.2 1.41-.59l7.78-7.78 2.81-2.81c.8-.78.8-2.07 0-2.86zM5.41 20L4 18.59l7.72-7.72 1.47 1.35L5.41 20z\"/>\n",
              "  </svg>\n",
              "      </button>\n",
              "      \n",
              "  <style>\n",
              "    .colab-df-container {\n",
              "      display:flex;\n",
              "      flex-wrap:wrap;\n",
              "      gap: 12px;\n",
              "    }\n",
              "\n",
              "    .colab-df-convert {\n",
              "      background-color: #E8F0FE;\n",
              "      border: none;\n",
              "      border-radius: 50%;\n",
              "      cursor: pointer;\n",
              "      display: none;\n",
              "      fill: #1967D2;\n",
              "      height: 32px;\n",
              "      padding: 0 0 0 0;\n",
              "      width: 32px;\n",
              "    }\n",
              "\n",
              "    .colab-df-convert:hover {\n",
              "      background-color: #E2EBFA;\n",
              "      box-shadow: 0px 1px 2px rgba(60, 64, 67, 0.3), 0px 1px 3px 1px rgba(60, 64, 67, 0.15);\n",
              "      fill: #174EA6;\n",
              "    }\n",
              "\n",
              "    [theme=dark] .colab-df-convert {\n",
              "      background-color: #3B4455;\n",
              "      fill: #D2E3FC;\n",
              "    }\n",
              "\n",
              "    [theme=dark] .colab-df-convert:hover {\n",
              "      background-color: #434B5C;\n",
              "      box-shadow: 0px 1px 3px 1px rgba(0, 0, 0, 0.15);\n",
              "      filter: drop-shadow(0px 1px 2px rgba(0, 0, 0, 0.3));\n",
              "      fill: #FFFFFF;\n",
              "    }\n",
              "  </style>\n",
              "\n",
              "      <script>\n",
              "        const buttonEl =\n",
              "          document.querySelector('#df-db03f706-2669-4437-92a9-61c2880042ad button.colab-df-convert');\n",
              "        buttonEl.style.display =\n",
              "          google.colab.kernel.accessAllowed ? 'block' : 'none';\n",
              "\n",
              "        async function convertToInteractive(key) {\n",
              "          const element = document.querySelector('#df-db03f706-2669-4437-92a9-61c2880042ad');\n",
              "          const dataTable =\n",
              "            await google.colab.kernel.invokeFunction('convertToInteractive',\n",
              "                                                     [key], {});\n",
              "          if (!dataTable) return;\n",
              "\n",
              "          const docLinkHtml = 'Like what you see? Visit the ' +\n",
              "            '<a target=\"_blank\" href=https://colab.research.google.com/notebooks/data_table.ipynb>data table notebook</a>'\n",
              "            + ' to learn more about interactive tables.';\n",
              "          element.innerHTML = '';\n",
              "          dataTable['output_type'] = 'display_data';\n",
              "          await google.colab.output.renderOutput(dataTable, element);\n",
              "          const docLink = document.createElement('div');\n",
              "          docLink.innerHTML = docLinkHtml;\n",
              "          element.appendChild(docLink);\n",
              "        }\n",
              "      </script>\n",
              "    </div>\n",
              "  </div>\n",
              "  "
            ]
          },
          "metadata": {},
          "execution_count": 12
        }
      ],
      "source": [
        "survey1=ongoing[ongoing['survey_participant']==1]\n",
        "participant1=survey1.groupby(['idx','game_date'])[['ticket_no']].max().reset_index()\n",
        "participant1= participant1.set_index('idx').reset_index()\n",
        "participant1.head(3)"
      ]
    },
    {
      "cell_type": "code",
      "execution_count": 13,
      "metadata": {
        "id": "dish79qFYc97"
      },
      "outputs": [],
      "source": [
        "mock = final[['ticket_no', 'reserve_state_code']]"
      ]
    },
    {
      "cell_type": "code",
      "execution_count": 14,
      "metadata": {
        "id": "nHub1cZoYpek",
        "colab": {
          "base_uri": "https://localhost:8080/"
        },
        "outputId": "3fe9b821-0bb3-4010-eaea-28510069e112"
      },
      "outputs": [
        {
          "output_type": "execute_result",
          "data": {
            "text/plain": [
              "71954648    1\n",
              "82651259    1\n",
              "80257492    1\n",
              "Name: ticket_no, dtype: int64"
            ]
          },
          "metadata": {},
          "execution_count": 14
        }
      ],
      "source": [
        "mock = mock.drop_duplicates()\n",
        "mock.ticket_no.value_counts().head(3)"
      ]
    },
    {
      "cell_type": "code",
      "execution_count": 15,
      "metadata": {
        "id": "WeXwIz_OZzlI",
        "colab": {
          "base_uri": "https://localhost:8080/",
          "height": 423
        },
        "outputId": "fb2df928-fa84-4823-cb44-ccf077efd948"
      },
      "outputs": [
        {
          "output_type": "execute_result",
          "data": {
            "text/plain": [
              "         idx   game_date ticket_no reserve_state_code\n",
              "0          9  2022-06-22       nan                NaN\n",
              "1         29  2022-06-22       nan                NaN\n",
              "2         89  2022-06-22       nan                NaN\n",
              "3        109  2022-06-22       nan                NaN\n",
              "4        166  2022-05-17       nan                NaN\n",
              "...      ...         ...       ...                ...\n",
              "25003  28198  2022-08-13  79836764           COMPLETE\n",
              "25004  28199  2022-08-27  80496975           COMPLETE\n",
              "25005  28200  2022-09-02  80777864           COMPLETE\n",
              "25006  28205  2022-02-19  71954489           COMPLETE\n",
              "25007  28206  2022-02-26  72102570           COMPLETE\n",
              "\n",
              "[25008 rows x 4 columns]"
            ],
            "text/html": [
              "\n",
              "  <div id=\"df-4c8abf3d-13f5-419d-9bab-80d6530086cf\">\n",
              "    <div class=\"colab-df-container\">\n",
              "      <div>\n",
              "<style scoped>\n",
              "    .dataframe tbody tr th:only-of-type {\n",
              "        vertical-align: middle;\n",
              "    }\n",
              "\n",
              "    .dataframe tbody tr th {\n",
              "        vertical-align: top;\n",
              "    }\n",
              "\n",
              "    .dataframe thead th {\n",
              "        text-align: right;\n",
              "    }\n",
              "</style>\n",
              "<table border=\"1\" class=\"dataframe\">\n",
              "  <thead>\n",
              "    <tr style=\"text-align: right;\">\n",
              "      <th></th>\n",
              "      <th>idx</th>\n",
              "      <th>game_date</th>\n",
              "      <th>ticket_no</th>\n",
              "      <th>reserve_state_code</th>\n",
              "    </tr>\n",
              "  </thead>\n",
              "  <tbody>\n",
              "    <tr>\n",
              "      <th>0</th>\n",
              "      <td>9</td>\n",
              "      <td>2022-06-22</td>\n",
              "      <td>nan</td>\n",
              "      <td>NaN</td>\n",
              "    </tr>\n",
              "    <tr>\n",
              "      <th>1</th>\n",
              "      <td>29</td>\n",
              "      <td>2022-06-22</td>\n",
              "      <td>nan</td>\n",
              "      <td>NaN</td>\n",
              "    </tr>\n",
              "    <tr>\n",
              "      <th>2</th>\n",
              "      <td>89</td>\n",
              "      <td>2022-06-22</td>\n",
              "      <td>nan</td>\n",
              "      <td>NaN</td>\n",
              "    </tr>\n",
              "    <tr>\n",
              "      <th>3</th>\n",
              "      <td>109</td>\n",
              "      <td>2022-06-22</td>\n",
              "      <td>nan</td>\n",
              "      <td>NaN</td>\n",
              "    </tr>\n",
              "    <tr>\n",
              "      <th>4</th>\n",
              "      <td>166</td>\n",
              "      <td>2022-05-17</td>\n",
              "      <td>nan</td>\n",
              "      <td>NaN</td>\n",
              "    </tr>\n",
              "    <tr>\n",
              "      <th>...</th>\n",
              "      <td>...</td>\n",
              "      <td>...</td>\n",
              "      <td>...</td>\n",
              "      <td>...</td>\n",
              "    </tr>\n",
              "    <tr>\n",
              "      <th>25003</th>\n",
              "      <td>28198</td>\n",
              "      <td>2022-08-13</td>\n",
              "      <td>79836764</td>\n",
              "      <td>COMPLETE</td>\n",
              "    </tr>\n",
              "    <tr>\n",
              "      <th>25004</th>\n",
              "      <td>28199</td>\n",
              "      <td>2022-08-27</td>\n",
              "      <td>80496975</td>\n",
              "      <td>COMPLETE</td>\n",
              "    </tr>\n",
              "    <tr>\n",
              "      <th>25005</th>\n",
              "      <td>28200</td>\n",
              "      <td>2022-09-02</td>\n",
              "      <td>80777864</td>\n",
              "      <td>COMPLETE</td>\n",
              "    </tr>\n",
              "    <tr>\n",
              "      <th>25006</th>\n",
              "      <td>28205</td>\n",
              "      <td>2022-02-19</td>\n",
              "      <td>71954489</td>\n",
              "      <td>COMPLETE</td>\n",
              "    </tr>\n",
              "    <tr>\n",
              "      <th>25007</th>\n",
              "      <td>28206</td>\n",
              "      <td>2022-02-26</td>\n",
              "      <td>72102570</td>\n",
              "      <td>COMPLETE</td>\n",
              "    </tr>\n",
              "  </tbody>\n",
              "</table>\n",
              "<p>25008 rows × 4 columns</p>\n",
              "</div>\n",
              "      <button class=\"colab-df-convert\" onclick=\"convertToInteractive('df-4c8abf3d-13f5-419d-9bab-80d6530086cf')\"\n",
              "              title=\"Convert this dataframe to an interactive table.\"\n",
              "              style=\"display:none;\">\n",
              "        \n",
              "  <svg xmlns=\"http://www.w3.org/2000/svg\" height=\"24px\"viewBox=\"0 0 24 24\"\n",
              "       width=\"24px\">\n",
              "    <path d=\"M0 0h24v24H0V0z\" fill=\"none\"/>\n",
              "    <path d=\"M18.56 5.44l.94 2.06.94-2.06 2.06-.94-2.06-.94-.94-2.06-.94 2.06-2.06.94zm-11 1L8.5 8.5l.94-2.06 2.06-.94-2.06-.94L8.5 2.5l-.94 2.06-2.06.94zm10 10l.94 2.06.94-2.06 2.06-.94-2.06-.94-.94-2.06-.94 2.06-2.06.94z\"/><path d=\"M17.41 7.96l-1.37-1.37c-.4-.4-.92-.59-1.43-.59-.52 0-1.04.2-1.43.59L10.3 9.45l-7.72 7.72c-.78.78-.78 2.05 0 2.83L4 21.41c.39.39.9.59 1.41.59.51 0 1.02-.2 1.41-.59l7.78-7.78 2.81-2.81c.8-.78.8-2.07 0-2.86zM5.41 20L4 18.59l7.72-7.72 1.47 1.35L5.41 20z\"/>\n",
              "  </svg>\n",
              "      </button>\n",
              "      \n",
              "  <style>\n",
              "    .colab-df-container {\n",
              "      display:flex;\n",
              "      flex-wrap:wrap;\n",
              "      gap: 12px;\n",
              "    }\n",
              "\n",
              "    .colab-df-convert {\n",
              "      background-color: #E8F0FE;\n",
              "      border: none;\n",
              "      border-radius: 50%;\n",
              "      cursor: pointer;\n",
              "      display: none;\n",
              "      fill: #1967D2;\n",
              "      height: 32px;\n",
              "      padding: 0 0 0 0;\n",
              "      width: 32px;\n",
              "    }\n",
              "\n",
              "    .colab-df-convert:hover {\n",
              "      background-color: #E2EBFA;\n",
              "      box-shadow: 0px 1px 2px rgba(60, 64, 67, 0.3), 0px 1px 3px 1px rgba(60, 64, 67, 0.15);\n",
              "      fill: #174EA6;\n",
              "    }\n",
              "\n",
              "    [theme=dark] .colab-df-convert {\n",
              "      background-color: #3B4455;\n",
              "      fill: #D2E3FC;\n",
              "    }\n",
              "\n",
              "    [theme=dark] .colab-df-convert:hover {\n",
              "      background-color: #434B5C;\n",
              "      box-shadow: 0px 1px 3px 1px rgba(0, 0, 0, 0.15);\n",
              "      filter: drop-shadow(0px 1px 2px rgba(0, 0, 0, 0.3));\n",
              "      fill: #FFFFFF;\n",
              "    }\n",
              "  </style>\n",
              "\n",
              "      <script>\n",
              "        const buttonEl =\n",
              "          document.querySelector('#df-4c8abf3d-13f5-419d-9bab-80d6530086cf button.colab-df-convert');\n",
              "        buttonEl.style.display =\n",
              "          google.colab.kernel.accessAllowed ? 'block' : 'none';\n",
              "\n",
              "        async function convertToInteractive(key) {\n",
              "          const element = document.querySelector('#df-4c8abf3d-13f5-419d-9bab-80d6530086cf');\n",
              "          const dataTable =\n",
              "            await google.colab.kernel.invokeFunction('convertToInteractive',\n",
              "                                                     [key], {});\n",
              "          if (!dataTable) return;\n",
              "\n",
              "          const docLinkHtml = 'Like what you see? Visit the ' +\n",
              "            '<a target=\"_blank\" href=https://colab.research.google.com/notebooks/data_table.ipynb>data table notebook</a>'\n",
              "            + ' to learn more about interactive tables.';\n",
              "          element.innerHTML = '';\n",
              "          dataTable['output_type'] = 'display_data';\n",
              "          await google.colab.output.renderOutput(dataTable, element);\n",
              "          const docLink = document.createElement('div');\n",
              "          docLink.innerHTML = docLinkHtml;\n",
              "          element.appendChild(docLink);\n",
              "        }\n",
              "      </script>\n",
              "    </div>\n",
              "  </div>\n",
              "  "
            ]
          },
          "metadata": {},
          "execution_count": 15
        }
      ],
      "source": [
        "pm = pd.merge(participant1, mock, how='inner', on= 'ticket_no')\n",
        "pm"
      ]
    },
    {
      "cell_type": "code",
      "execution_count": 16,
      "metadata": {
        "id": "0Azswxk3aHFo",
        "colab": {
          "base_uri": "https://localhost:8080/",
          "height": 423
        },
        "outputId": "9bd8c2ed-b6db-44c2-9ffa-a2afb99da873"
      },
      "outputs": [
        {
          "output_type": "execute_result",
          "data": {
            "text/plain": [
              "         idx   game_date ticket_no reserve_state_code  participant\n",
              "0          9  2022-06-22       nan                NaN            1\n",
              "1         29  2022-06-22       nan                NaN            1\n",
              "2         89  2022-06-22       nan                NaN            1\n",
              "3        109  2022-06-22       nan                NaN            1\n",
              "4        166  2022-05-17       nan                NaN            1\n",
              "...      ...         ...       ...                ...          ...\n",
              "25003  28198  2022-08-13  79836764           COMPLETE            0\n",
              "25004  28199  2022-08-27  80496975           COMPLETE            0\n",
              "25005  28200  2022-09-02  80777864           COMPLETE            0\n",
              "25006  28205  2022-02-19  71954489           COMPLETE            0\n",
              "25007  28206  2022-02-26  72102570           COMPLETE            0\n",
              "\n",
              "[25008 rows x 5 columns]"
            ],
            "text/html": [
              "\n",
              "  <div id=\"df-ad4a60b0-9643-41dd-a93e-f9f570e793c6\">\n",
              "    <div class=\"colab-df-container\">\n",
              "      <div>\n",
              "<style scoped>\n",
              "    .dataframe tbody tr th:only-of-type {\n",
              "        vertical-align: middle;\n",
              "    }\n",
              "\n",
              "    .dataframe tbody tr th {\n",
              "        vertical-align: top;\n",
              "    }\n",
              "\n",
              "    .dataframe thead th {\n",
              "        text-align: right;\n",
              "    }\n",
              "</style>\n",
              "<table border=\"1\" class=\"dataframe\">\n",
              "  <thead>\n",
              "    <tr style=\"text-align: right;\">\n",
              "      <th></th>\n",
              "      <th>idx</th>\n",
              "      <th>game_date</th>\n",
              "      <th>ticket_no</th>\n",
              "      <th>reserve_state_code</th>\n",
              "      <th>participant</th>\n",
              "    </tr>\n",
              "  </thead>\n",
              "  <tbody>\n",
              "    <tr>\n",
              "      <th>0</th>\n",
              "      <td>9</td>\n",
              "      <td>2022-06-22</td>\n",
              "      <td>nan</td>\n",
              "      <td>NaN</td>\n",
              "      <td>1</td>\n",
              "    </tr>\n",
              "    <tr>\n",
              "      <th>1</th>\n",
              "      <td>29</td>\n",
              "      <td>2022-06-22</td>\n",
              "      <td>nan</td>\n",
              "      <td>NaN</td>\n",
              "      <td>1</td>\n",
              "    </tr>\n",
              "    <tr>\n",
              "      <th>2</th>\n",
              "      <td>89</td>\n",
              "      <td>2022-06-22</td>\n",
              "      <td>nan</td>\n",
              "      <td>NaN</td>\n",
              "      <td>1</td>\n",
              "    </tr>\n",
              "    <tr>\n",
              "      <th>3</th>\n",
              "      <td>109</td>\n",
              "      <td>2022-06-22</td>\n",
              "      <td>nan</td>\n",
              "      <td>NaN</td>\n",
              "      <td>1</td>\n",
              "    </tr>\n",
              "    <tr>\n",
              "      <th>4</th>\n",
              "      <td>166</td>\n",
              "      <td>2022-05-17</td>\n",
              "      <td>nan</td>\n",
              "      <td>NaN</td>\n",
              "      <td>1</td>\n",
              "    </tr>\n",
              "    <tr>\n",
              "      <th>...</th>\n",
              "      <td>...</td>\n",
              "      <td>...</td>\n",
              "      <td>...</td>\n",
              "      <td>...</td>\n",
              "      <td>...</td>\n",
              "    </tr>\n",
              "    <tr>\n",
              "      <th>25003</th>\n",
              "      <td>28198</td>\n",
              "      <td>2022-08-13</td>\n",
              "      <td>79836764</td>\n",
              "      <td>COMPLETE</td>\n",
              "      <td>0</td>\n",
              "    </tr>\n",
              "    <tr>\n",
              "      <th>25004</th>\n",
              "      <td>28199</td>\n",
              "      <td>2022-08-27</td>\n",
              "      <td>80496975</td>\n",
              "      <td>COMPLETE</td>\n",
              "      <td>0</td>\n",
              "    </tr>\n",
              "    <tr>\n",
              "      <th>25005</th>\n",
              "      <td>28200</td>\n",
              "      <td>2022-09-02</td>\n",
              "      <td>80777864</td>\n",
              "      <td>COMPLETE</td>\n",
              "      <td>0</td>\n",
              "    </tr>\n",
              "    <tr>\n",
              "      <th>25006</th>\n",
              "      <td>28205</td>\n",
              "      <td>2022-02-19</td>\n",
              "      <td>71954489</td>\n",
              "      <td>COMPLETE</td>\n",
              "      <td>0</td>\n",
              "    </tr>\n",
              "    <tr>\n",
              "      <th>25007</th>\n",
              "      <td>28206</td>\n",
              "      <td>2022-02-26</td>\n",
              "      <td>72102570</td>\n",
              "      <td>COMPLETE</td>\n",
              "      <td>0</td>\n",
              "    </tr>\n",
              "  </tbody>\n",
              "</table>\n",
              "<p>25008 rows × 5 columns</p>\n",
              "</div>\n",
              "      <button class=\"colab-df-convert\" onclick=\"convertToInteractive('df-ad4a60b0-9643-41dd-a93e-f9f570e793c6')\"\n",
              "              title=\"Convert this dataframe to an interactive table.\"\n",
              "              style=\"display:none;\">\n",
              "        \n",
              "  <svg xmlns=\"http://www.w3.org/2000/svg\" height=\"24px\"viewBox=\"0 0 24 24\"\n",
              "       width=\"24px\">\n",
              "    <path d=\"M0 0h24v24H0V0z\" fill=\"none\"/>\n",
              "    <path d=\"M18.56 5.44l.94 2.06.94-2.06 2.06-.94-2.06-.94-.94-2.06-.94 2.06-2.06.94zm-11 1L8.5 8.5l.94-2.06 2.06-.94-2.06-.94L8.5 2.5l-.94 2.06-2.06.94zm10 10l.94 2.06.94-2.06 2.06-.94-2.06-.94-.94-2.06-.94 2.06-2.06.94z\"/><path d=\"M17.41 7.96l-1.37-1.37c-.4-.4-.92-.59-1.43-.59-.52 0-1.04.2-1.43.59L10.3 9.45l-7.72 7.72c-.78.78-.78 2.05 0 2.83L4 21.41c.39.39.9.59 1.41.59.51 0 1.02-.2 1.41-.59l7.78-7.78 2.81-2.81c.8-.78.8-2.07 0-2.86zM5.41 20L4 18.59l7.72-7.72 1.47 1.35L5.41 20z\"/>\n",
              "  </svg>\n",
              "      </button>\n",
              "      \n",
              "  <style>\n",
              "    .colab-df-container {\n",
              "      display:flex;\n",
              "      flex-wrap:wrap;\n",
              "      gap: 12px;\n",
              "    }\n",
              "\n",
              "    .colab-df-convert {\n",
              "      background-color: #E8F0FE;\n",
              "      border: none;\n",
              "      border-radius: 50%;\n",
              "      cursor: pointer;\n",
              "      display: none;\n",
              "      fill: #1967D2;\n",
              "      height: 32px;\n",
              "      padding: 0 0 0 0;\n",
              "      width: 32px;\n",
              "    }\n",
              "\n",
              "    .colab-df-convert:hover {\n",
              "      background-color: #E2EBFA;\n",
              "      box-shadow: 0px 1px 2px rgba(60, 64, 67, 0.3), 0px 1px 3px 1px rgba(60, 64, 67, 0.15);\n",
              "      fill: #174EA6;\n",
              "    }\n",
              "\n",
              "    [theme=dark] .colab-df-convert {\n",
              "      background-color: #3B4455;\n",
              "      fill: #D2E3FC;\n",
              "    }\n",
              "\n",
              "    [theme=dark] .colab-df-convert:hover {\n",
              "      background-color: #434B5C;\n",
              "      box-shadow: 0px 1px 3px 1px rgba(0, 0, 0, 0.15);\n",
              "      filter: drop-shadow(0px 1px 2px rgba(0, 0, 0, 0.3));\n",
              "      fill: #FFFFFF;\n",
              "    }\n",
              "  </style>\n",
              "\n",
              "      <script>\n",
              "        const buttonEl =\n",
              "          document.querySelector('#df-ad4a60b0-9643-41dd-a93e-f9f570e793c6 button.colab-df-convert');\n",
              "        buttonEl.style.display =\n",
              "          google.colab.kernel.accessAllowed ? 'block' : 'none';\n",
              "\n",
              "        async function convertToInteractive(key) {\n",
              "          const element = document.querySelector('#df-ad4a60b0-9643-41dd-a93e-f9f570e793c6');\n",
              "          const dataTable =\n",
              "            await google.colab.kernel.invokeFunction('convertToInteractive',\n",
              "                                                     [key], {});\n",
              "          if (!dataTable) return;\n",
              "\n",
              "          const docLinkHtml = 'Like what you see? Visit the ' +\n",
              "            '<a target=\"_blank\" href=https://colab.research.google.com/notebooks/data_table.ipynb>data table notebook</a>'\n",
              "            + ' to learn more about interactive tables.';\n",
              "          element.innerHTML = '';\n",
              "          dataTable['output_type'] = 'display_data';\n",
              "          await google.colab.output.renderOutput(dataTable, element);\n",
              "          const docLink = document.createElement('div');\n",
              "          docLink.innerHTML = docLinkHtml;\n",
              "          element.appendChild(docLink);\n",
              "        }\n",
              "      </script>\n",
              "    </div>\n",
              "  </div>\n",
              "  "
            ]
          },
          "metadata": {},
          "execution_count": 16
        }
      ],
      "source": [
        "pm['participant'] = np.where(pm['reserve_state_code'] == 'COMPLETE', 0, 1)\n",
        "pm"
      ]
    },
    {
      "cell_type": "code",
      "execution_count": 17,
      "metadata": {
        "id": "1d1UIbR8aaPb",
        "colab": {
          "base_uri": "https://localhost:8080/",
          "height": 990
        },
        "outputId": "199b858e-91ff-4744-f27d-741f595d36fb"
      },
      "outputs": [
        {
          "output_type": "execute_result",
          "data": {
            "text/plain": [
              "     idx   game_date ticket_no  participant reserve_state_code\n",
              "0      0  2022-02-19  71954648            0           COMPLETE\n",
              "1      1  2022-02-26  72078180            0           COMPLETE\n",
              "2      2  2022-03-05  72214633            0         ALL_CANCEL\n",
              "3      3  2022-03-13       nan            0                NaN\n",
              "523    4  2022-04-02  72870281            0           COMPLETE\n",
              "4      5  2022-04-10       nan            0                NaN\n",
              "524    6  2022-05-08  74612448            0           COMPLETE\n",
              "5      7  2022-05-17       nan            0                NaN\n",
              "6      8  2022-05-29       nan            0                NaN\n",
              "7     10  2022-07-06       nan            0                NaN\n",
              "525   11  2022-08-03  79136240            0           COMPLETE\n",
              "526   12  2022-08-13  79657484            0           COMPLETE\n",
              "527   13  2022-08-27  80316919            0           COMPLETE\n",
              "528   14  2022-09-02  80685167            0           COMPLETE\n",
              "529   15  2022-09-14  81228070            0           COMPLETE\n",
              "530   16  2022-10-01  81997289            0           COMPLETE\n",
              "531   17  2022-10-11  82749251            0           COMPLETE\n",
              "532   18  2022-10-16  83073905            0           COMPLETE\n",
              "533   20  2022-02-19  71933533            0           COMPLETE\n",
              "534   21  2022-02-26  72061447            0           COMPLETE\n",
              "535   22  2022-03-05  72181142            0           COMPLETE\n",
              "536   23  2022-03-13  72345567            0           COMPLETE\n",
              "537   24  2022-04-02  72802281            0           COMPLETE\n",
              "538   25  2022-04-10  73161104            0           COMPLETE\n",
              "539   26  2022-05-08  74541769            0           COMPLETE\n",
              "8     27  2022-05-17       nan            0                NaN\n",
              "540   28  2022-05-29  75890684            0           COMPLETE\n",
              "9     30  2022-07-06       nan            0                NaN\n",
              "541   31  2022-08-03  79072266            0           COMPLETE\n",
              "542   32  2022-08-13  79611458            0           COMPLETE"
            ],
            "text/html": [
              "\n",
              "  <div id=\"df-10847b22-bdd3-4dbf-b90f-2fc58188945d\">\n",
              "    <div class=\"colab-df-container\">\n",
              "      <div>\n",
              "<style scoped>\n",
              "    .dataframe tbody tr th:only-of-type {\n",
              "        vertical-align: middle;\n",
              "    }\n",
              "\n",
              "    .dataframe tbody tr th {\n",
              "        vertical-align: top;\n",
              "    }\n",
              "\n",
              "    .dataframe thead th {\n",
              "        text-align: right;\n",
              "    }\n",
              "</style>\n",
              "<table border=\"1\" class=\"dataframe\">\n",
              "  <thead>\n",
              "    <tr style=\"text-align: right;\">\n",
              "      <th></th>\n",
              "      <th>idx</th>\n",
              "      <th>game_date</th>\n",
              "      <th>ticket_no</th>\n",
              "      <th>participant</th>\n",
              "      <th>reserve_state_code</th>\n",
              "    </tr>\n",
              "  </thead>\n",
              "  <tbody>\n",
              "    <tr>\n",
              "      <th>0</th>\n",
              "      <td>0</td>\n",
              "      <td>2022-02-19</td>\n",
              "      <td>71954648</td>\n",
              "      <td>0</td>\n",
              "      <td>COMPLETE</td>\n",
              "    </tr>\n",
              "    <tr>\n",
              "      <th>1</th>\n",
              "      <td>1</td>\n",
              "      <td>2022-02-26</td>\n",
              "      <td>72078180</td>\n",
              "      <td>0</td>\n",
              "      <td>COMPLETE</td>\n",
              "    </tr>\n",
              "    <tr>\n",
              "      <th>2</th>\n",
              "      <td>2</td>\n",
              "      <td>2022-03-05</td>\n",
              "      <td>72214633</td>\n",
              "      <td>0</td>\n",
              "      <td>ALL_CANCEL</td>\n",
              "    </tr>\n",
              "    <tr>\n",
              "      <th>3</th>\n",
              "      <td>3</td>\n",
              "      <td>2022-03-13</td>\n",
              "      <td>nan</td>\n",
              "      <td>0</td>\n",
              "      <td>NaN</td>\n",
              "    </tr>\n",
              "    <tr>\n",
              "      <th>523</th>\n",
              "      <td>4</td>\n",
              "      <td>2022-04-02</td>\n",
              "      <td>72870281</td>\n",
              "      <td>0</td>\n",
              "      <td>COMPLETE</td>\n",
              "    </tr>\n",
              "    <tr>\n",
              "      <th>4</th>\n",
              "      <td>5</td>\n",
              "      <td>2022-04-10</td>\n",
              "      <td>nan</td>\n",
              "      <td>0</td>\n",
              "      <td>NaN</td>\n",
              "    </tr>\n",
              "    <tr>\n",
              "      <th>524</th>\n",
              "      <td>6</td>\n",
              "      <td>2022-05-08</td>\n",
              "      <td>74612448</td>\n",
              "      <td>0</td>\n",
              "      <td>COMPLETE</td>\n",
              "    </tr>\n",
              "    <tr>\n",
              "      <th>5</th>\n",
              "      <td>7</td>\n",
              "      <td>2022-05-17</td>\n",
              "      <td>nan</td>\n",
              "      <td>0</td>\n",
              "      <td>NaN</td>\n",
              "    </tr>\n",
              "    <tr>\n",
              "      <th>6</th>\n",
              "      <td>8</td>\n",
              "      <td>2022-05-29</td>\n",
              "      <td>nan</td>\n",
              "      <td>0</td>\n",
              "      <td>NaN</td>\n",
              "    </tr>\n",
              "    <tr>\n",
              "      <th>7</th>\n",
              "      <td>10</td>\n",
              "      <td>2022-07-06</td>\n",
              "      <td>nan</td>\n",
              "      <td>0</td>\n",
              "      <td>NaN</td>\n",
              "    </tr>\n",
              "    <tr>\n",
              "      <th>525</th>\n",
              "      <td>11</td>\n",
              "      <td>2022-08-03</td>\n",
              "      <td>79136240</td>\n",
              "      <td>0</td>\n",
              "      <td>COMPLETE</td>\n",
              "    </tr>\n",
              "    <tr>\n",
              "      <th>526</th>\n",
              "      <td>12</td>\n",
              "      <td>2022-08-13</td>\n",
              "      <td>79657484</td>\n",
              "      <td>0</td>\n",
              "      <td>COMPLETE</td>\n",
              "    </tr>\n",
              "    <tr>\n",
              "      <th>527</th>\n",
              "      <td>13</td>\n",
              "      <td>2022-08-27</td>\n",
              "      <td>80316919</td>\n",
              "      <td>0</td>\n",
              "      <td>COMPLETE</td>\n",
              "    </tr>\n",
              "    <tr>\n",
              "      <th>528</th>\n",
              "      <td>14</td>\n",
              "      <td>2022-09-02</td>\n",
              "      <td>80685167</td>\n",
              "      <td>0</td>\n",
              "      <td>COMPLETE</td>\n",
              "    </tr>\n",
              "    <tr>\n",
              "      <th>529</th>\n",
              "      <td>15</td>\n",
              "      <td>2022-09-14</td>\n",
              "      <td>81228070</td>\n",
              "      <td>0</td>\n",
              "      <td>COMPLETE</td>\n",
              "    </tr>\n",
              "    <tr>\n",
              "      <th>530</th>\n",
              "      <td>16</td>\n",
              "      <td>2022-10-01</td>\n",
              "      <td>81997289</td>\n",
              "      <td>0</td>\n",
              "      <td>COMPLETE</td>\n",
              "    </tr>\n",
              "    <tr>\n",
              "      <th>531</th>\n",
              "      <td>17</td>\n",
              "      <td>2022-10-11</td>\n",
              "      <td>82749251</td>\n",
              "      <td>0</td>\n",
              "      <td>COMPLETE</td>\n",
              "    </tr>\n",
              "    <tr>\n",
              "      <th>532</th>\n",
              "      <td>18</td>\n",
              "      <td>2022-10-16</td>\n",
              "      <td>83073905</td>\n",
              "      <td>0</td>\n",
              "      <td>COMPLETE</td>\n",
              "    </tr>\n",
              "    <tr>\n",
              "      <th>533</th>\n",
              "      <td>20</td>\n",
              "      <td>2022-02-19</td>\n",
              "      <td>71933533</td>\n",
              "      <td>0</td>\n",
              "      <td>COMPLETE</td>\n",
              "    </tr>\n",
              "    <tr>\n",
              "      <th>534</th>\n",
              "      <td>21</td>\n",
              "      <td>2022-02-26</td>\n",
              "      <td>72061447</td>\n",
              "      <td>0</td>\n",
              "      <td>COMPLETE</td>\n",
              "    </tr>\n",
              "    <tr>\n",
              "      <th>535</th>\n",
              "      <td>22</td>\n",
              "      <td>2022-03-05</td>\n",
              "      <td>72181142</td>\n",
              "      <td>0</td>\n",
              "      <td>COMPLETE</td>\n",
              "    </tr>\n",
              "    <tr>\n",
              "      <th>536</th>\n",
              "      <td>23</td>\n",
              "      <td>2022-03-13</td>\n",
              "      <td>72345567</td>\n",
              "      <td>0</td>\n",
              "      <td>COMPLETE</td>\n",
              "    </tr>\n",
              "    <tr>\n",
              "      <th>537</th>\n",
              "      <td>24</td>\n",
              "      <td>2022-04-02</td>\n",
              "      <td>72802281</td>\n",
              "      <td>0</td>\n",
              "      <td>COMPLETE</td>\n",
              "    </tr>\n",
              "    <tr>\n",
              "      <th>538</th>\n",
              "      <td>25</td>\n",
              "      <td>2022-04-10</td>\n",
              "      <td>73161104</td>\n",
              "      <td>0</td>\n",
              "      <td>COMPLETE</td>\n",
              "    </tr>\n",
              "    <tr>\n",
              "      <th>539</th>\n",
              "      <td>26</td>\n",
              "      <td>2022-05-08</td>\n",
              "      <td>74541769</td>\n",
              "      <td>0</td>\n",
              "      <td>COMPLETE</td>\n",
              "    </tr>\n",
              "    <tr>\n",
              "      <th>8</th>\n",
              "      <td>27</td>\n",
              "      <td>2022-05-17</td>\n",
              "      <td>nan</td>\n",
              "      <td>0</td>\n",
              "      <td>NaN</td>\n",
              "    </tr>\n",
              "    <tr>\n",
              "      <th>540</th>\n",
              "      <td>28</td>\n",
              "      <td>2022-05-29</td>\n",
              "      <td>75890684</td>\n",
              "      <td>0</td>\n",
              "      <td>COMPLETE</td>\n",
              "    </tr>\n",
              "    <tr>\n",
              "      <th>9</th>\n",
              "      <td>30</td>\n",
              "      <td>2022-07-06</td>\n",
              "      <td>nan</td>\n",
              "      <td>0</td>\n",
              "      <td>NaN</td>\n",
              "    </tr>\n",
              "    <tr>\n",
              "      <th>541</th>\n",
              "      <td>31</td>\n",
              "      <td>2022-08-03</td>\n",
              "      <td>79072266</td>\n",
              "      <td>0</td>\n",
              "      <td>COMPLETE</td>\n",
              "    </tr>\n",
              "    <tr>\n",
              "      <th>542</th>\n",
              "      <td>32</td>\n",
              "      <td>2022-08-13</td>\n",
              "      <td>79611458</td>\n",
              "      <td>0</td>\n",
              "      <td>COMPLETE</td>\n",
              "    </tr>\n",
              "  </tbody>\n",
              "</table>\n",
              "</div>\n",
              "      <button class=\"colab-df-convert\" onclick=\"convertToInteractive('df-10847b22-bdd3-4dbf-b90f-2fc58188945d')\"\n",
              "              title=\"Convert this dataframe to an interactive table.\"\n",
              "              style=\"display:none;\">\n",
              "        \n",
              "  <svg xmlns=\"http://www.w3.org/2000/svg\" height=\"24px\"viewBox=\"0 0 24 24\"\n",
              "       width=\"24px\">\n",
              "    <path d=\"M0 0h24v24H0V0z\" fill=\"none\"/>\n",
              "    <path d=\"M18.56 5.44l.94 2.06.94-2.06 2.06-.94-2.06-.94-.94-2.06-.94 2.06-2.06.94zm-11 1L8.5 8.5l.94-2.06 2.06-.94-2.06-.94L8.5 2.5l-.94 2.06-2.06.94zm10 10l.94 2.06.94-2.06 2.06-.94-2.06-.94-.94-2.06-.94 2.06-2.06.94z\"/><path d=\"M17.41 7.96l-1.37-1.37c-.4-.4-.92-.59-1.43-.59-.52 0-1.04.2-1.43.59L10.3 9.45l-7.72 7.72c-.78.78-.78 2.05 0 2.83L4 21.41c.39.39.9.59 1.41.59.51 0 1.02-.2 1.41-.59l7.78-7.78 2.81-2.81c.8-.78.8-2.07 0-2.86zM5.41 20L4 18.59l7.72-7.72 1.47 1.35L5.41 20z\"/>\n",
              "  </svg>\n",
              "      </button>\n",
              "      \n",
              "  <style>\n",
              "    .colab-df-container {\n",
              "      display:flex;\n",
              "      flex-wrap:wrap;\n",
              "      gap: 12px;\n",
              "    }\n",
              "\n",
              "    .colab-df-convert {\n",
              "      background-color: #E8F0FE;\n",
              "      border: none;\n",
              "      border-radius: 50%;\n",
              "      cursor: pointer;\n",
              "      display: none;\n",
              "      fill: #1967D2;\n",
              "      height: 32px;\n",
              "      padding: 0 0 0 0;\n",
              "      width: 32px;\n",
              "    }\n",
              "\n",
              "    .colab-df-convert:hover {\n",
              "      background-color: #E2EBFA;\n",
              "      box-shadow: 0px 1px 2px rgba(60, 64, 67, 0.3), 0px 1px 3px 1px rgba(60, 64, 67, 0.15);\n",
              "      fill: #174EA6;\n",
              "    }\n",
              "\n",
              "    [theme=dark] .colab-df-convert {\n",
              "      background-color: #3B4455;\n",
              "      fill: #D2E3FC;\n",
              "    }\n",
              "\n",
              "    [theme=dark] .colab-df-convert:hover {\n",
              "      background-color: #434B5C;\n",
              "      box-shadow: 0px 1px 3px 1px rgba(0, 0, 0, 0.15);\n",
              "      filter: drop-shadow(0px 1px 2px rgba(0, 0, 0, 0.3));\n",
              "      fill: #FFFFFF;\n",
              "    }\n",
              "  </style>\n",
              "\n",
              "      <script>\n",
              "        const buttonEl =\n",
              "          document.querySelector('#df-10847b22-bdd3-4dbf-b90f-2fc58188945d button.colab-df-convert');\n",
              "        buttonEl.style.display =\n",
              "          google.colab.kernel.accessAllowed ? 'block' : 'none';\n",
              "\n",
              "        async function convertToInteractive(key) {\n",
              "          const element = document.querySelector('#df-10847b22-bdd3-4dbf-b90f-2fc58188945d');\n",
              "          const dataTable =\n",
              "            await google.colab.kernel.invokeFunction('convertToInteractive',\n",
              "                                                     [key], {});\n",
              "          if (!dataTable) return;\n",
              "\n",
              "          const docLinkHtml = 'Like what you see? Visit the ' +\n",
              "            '<a target=\"_blank\" href=https://colab.research.google.com/notebooks/data_table.ipynb>data table notebook</a>'\n",
              "            + ' to learn more about interactive tables.';\n",
              "          element.innerHTML = '';\n",
              "          dataTable['output_type'] = 'display_data';\n",
              "          await google.colab.output.renderOutput(dataTable, element);\n",
              "          const docLink = document.createElement('div');\n",
              "          docLink.innerHTML = docLinkHtml;\n",
              "          element.appendChild(docLink);\n",
              "        }\n",
              "      </script>\n",
              "    </div>\n",
              "  </div>\n",
              "  "
            ]
          },
          "metadata": {},
          "execution_count": 17
        }
      ],
      "source": [
        "p0m = pd.merge(participant0, mock, how='inner', on= 'ticket_no')\n",
        "p0m.sort_values(by='idx', ascending=True).head(30)"
      ]
    },
    {
      "cell_type": "code",
      "execution_count": 18,
      "metadata": {
        "id": "sg38s8faagnV"
      },
      "outputs": [],
      "source": [
        "ppm = pd.concat([p0m, pm], axis=0)\n",
        "ppm = ppm.sort_values(by='idx', ascending=True)"
      ]
    },
    {
      "cell_type": "code",
      "execution_count": 19,
      "metadata": {
        "id": "cd-T_9SCa2FM"
      },
      "outputs": [],
      "source": [
        "ppm.head(3)\n",
        "ppm2=ppm[['idx', 'participant']]"
      ]
    },
    {
      "cell_type": "code",
      "execution_count": 20,
      "metadata": {
        "id": "UDvTZN4jbRow"
      },
      "outputs": [],
      "source": [
        "tomerge=final[['idx', 'game_date', 'game_time_y', 'MB_IDX_x', 'answer_index',\n",
        "       'survey_participant', 'reserve_state_code', 'reserve_detail_no','ticket_no',\n",
        "       'day', 'previous_result', 'weather', 'temperature',\n",
        "       'Rank','decision_time']]"
      ]
    },
    {
      "cell_type": "code",
      "execution_count": 21,
      "metadata": {
        "id": "91f-9aTPeCzW"
      },
      "outputs": [],
      "source": [
        "tp = pd.merge(ppm, tomerge, how='inner', on='idx')\n",
        "tp.to_csv('complete_final.csv', index=False) #엑셀로 정리할 부분 해줌"
      ]
    },
    {
      "cell_type": "code",
      "execution_count": 22,
      "metadata": {
        "id": "cq5FLRnsj-wF",
        "colab": {
          "base_uri": "https://localhost:8080/",
          "height": 423
        },
        "outputId": "95f7af87-6076-48bb-ab9a-b492cbc158c3"
      },
      "outputs": [
        {
          "output_type": "execute_result",
          "data": {
            "text/plain": [
              "         idx   game_date game_time_y  MB_IDX_x  answer_index  \\\n",
              "0          0  2022-02-19       16:30     96382           NaN   \n",
              "1          1  2022-02-26       14:00     96382          0.25   \n",
              "2          2  2022-03-05       19:00     96382          0.50   \n",
              "3          3  2022-03-13       14:00     96382          0.50   \n",
              "4          4  2022-04-02       14:00     96382          1.25   \n",
              "...      ...         ...         ...       ...           ...   \n",
              "38520  28238  2022-09-02       19:30    151988           NaN   \n",
              "38521  28239  2022-09-14       19:00    151988           NaN   \n",
              "38522  28240  2022-10-01       16:30    151988           NaN   \n",
              "38523  28241  2022-10-11       19:30    151988           NaN   \n",
              "38524  28242  2022-10-16       19:00    151988           NaN   \n",
              "\n",
              "       survey_participant  day  previous_result  weather  temperature  rank  \\\n",
              "0                       0    6              NaN        1         -1.7   NaN   \n",
              "1                       0    6              0.0        1          4.1   4.0   \n",
              "2                       0    6              0.0        0          2.0   2.0   \n",
              "3                       0    7              1.0        2         10.0   3.0   \n",
              "4                       0    6              0.0        0          6.8   2.0   \n",
              "...                   ...  ...              ...      ...          ...   ...   \n",
              "38520                   1    5              0.0        0         25.1   4.0   \n",
              "38521                   1    3              2.0        1         24.4   4.0   \n",
              "38522                   1    6              1.0        1         19.6   4.0   \n",
              "38523                   1    2              2.0        0         11.1   4.0   \n",
              "38524                   0    7              0.0        1         16.3   4.0   \n",
              "\n",
              "       participant  \n",
              "0                0  \n",
              "1                0  \n",
              "2                0  \n",
              "3                0  \n",
              "4                0  \n",
              "...            ...  \n",
              "38520            1  \n",
              "38521            1  \n",
              "38522            1  \n",
              "38523            1  \n",
              "38524            0  \n",
              "\n",
              "[38525 rows x 12 columns]"
            ],
            "text/html": [
              "\n",
              "  <div id=\"df-f949aabe-dc62-4697-9365-cebcda5774ea\">\n",
              "    <div class=\"colab-df-container\">\n",
              "      <div>\n",
              "<style scoped>\n",
              "    .dataframe tbody tr th:only-of-type {\n",
              "        vertical-align: middle;\n",
              "    }\n",
              "\n",
              "    .dataframe tbody tr th {\n",
              "        vertical-align: top;\n",
              "    }\n",
              "\n",
              "    .dataframe thead th {\n",
              "        text-align: right;\n",
              "    }\n",
              "</style>\n",
              "<table border=\"1\" class=\"dataframe\">\n",
              "  <thead>\n",
              "    <tr style=\"text-align: right;\">\n",
              "      <th></th>\n",
              "      <th>idx</th>\n",
              "      <th>game_date</th>\n",
              "      <th>game_time_y</th>\n",
              "      <th>MB_IDX_x</th>\n",
              "      <th>answer_index</th>\n",
              "      <th>survey_participant</th>\n",
              "      <th>day</th>\n",
              "      <th>previous_result</th>\n",
              "      <th>weather</th>\n",
              "      <th>temperature</th>\n",
              "      <th>rank</th>\n",
              "      <th>participant</th>\n",
              "    </tr>\n",
              "  </thead>\n",
              "  <tbody>\n",
              "    <tr>\n",
              "      <th>0</th>\n",
              "      <td>0</td>\n",
              "      <td>2022-02-19</td>\n",
              "      <td>16:30</td>\n",
              "      <td>96382</td>\n",
              "      <td>NaN</td>\n",
              "      <td>0</td>\n",
              "      <td>6</td>\n",
              "      <td>NaN</td>\n",
              "      <td>1</td>\n",
              "      <td>-1.7</td>\n",
              "      <td>NaN</td>\n",
              "      <td>0</td>\n",
              "    </tr>\n",
              "    <tr>\n",
              "      <th>1</th>\n",
              "      <td>1</td>\n",
              "      <td>2022-02-26</td>\n",
              "      <td>14:00</td>\n",
              "      <td>96382</td>\n",
              "      <td>0.25</td>\n",
              "      <td>0</td>\n",
              "      <td>6</td>\n",
              "      <td>0.0</td>\n",
              "      <td>1</td>\n",
              "      <td>4.1</td>\n",
              "      <td>4.0</td>\n",
              "      <td>0</td>\n",
              "    </tr>\n",
              "    <tr>\n",
              "      <th>2</th>\n",
              "      <td>2</td>\n",
              "      <td>2022-03-05</td>\n",
              "      <td>19:00</td>\n",
              "      <td>96382</td>\n",
              "      <td>0.50</td>\n",
              "      <td>0</td>\n",
              "      <td>6</td>\n",
              "      <td>0.0</td>\n",
              "      <td>0</td>\n",
              "      <td>2.0</td>\n",
              "      <td>2.0</td>\n",
              "      <td>0</td>\n",
              "    </tr>\n",
              "    <tr>\n",
              "      <th>3</th>\n",
              "      <td>3</td>\n",
              "      <td>2022-03-13</td>\n",
              "      <td>14:00</td>\n",
              "      <td>96382</td>\n",
              "      <td>0.50</td>\n",
              "      <td>0</td>\n",
              "      <td>7</td>\n",
              "      <td>1.0</td>\n",
              "      <td>2</td>\n",
              "      <td>10.0</td>\n",
              "      <td>3.0</td>\n",
              "      <td>0</td>\n",
              "    </tr>\n",
              "    <tr>\n",
              "      <th>4</th>\n",
              "      <td>4</td>\n",
              "      <td>2022-04-02</td>\n",
              "      <td>14:00</td>\n",
              "      <td>96382</td>\n",
              "      <td>1.25</td>\n",
              "      <td>0</td>\n",
              "      <td>6</td>\n",
              "      <td>0.0</td>\n",
              "      <td>0</td>\n",
              "      <td>6.8</td>\n",
              "      <td>2.0</td>\n",
              "      <td>0</td>\n",
              "    </tr>\n",
              "    <tr>\n",
              "      <th>...</th>\n",
              "      <td>...</td>\n",
              "      <td>...</td>\n",
              "      <td>...</td>\n",
              "      <td>...</td>\n",
              "      <td>...</td>\n",
              "      <td>...</td>\n",
              "      <td>...</td>\n",
              "      <td>...</td>\n",
              "      <td>...</td>\n",
              "      <td>...</td>\n",
              "      <td>...</td>\n",
              "      <td>...</td>\n",
              "    </tr>\n",
              "    <tr>\n",
              "      <th>38520</th>\n",
              "      <td>28238</td>\n",
              "      <td>2022-09-02</td>\n",
              "      <td>19:30</td>\n",
              "      <td>151988</td>\n",
              "      <td>NaN</td>\n",
              "      <td>1</td>\n",
              "      <td>5</td>\n",
              "      <td>0.0</td>\n",
              "      <td>0</td>\n",
              "      <td>25.1</td>\n",
              "      <td>4.0</td>\n",
              "      <td>1</td>\n",
              "    </tr>\n",
              "    <tr>\n",
              "      <th>38521</th>\n",
              "      <td>28239</td>\n",
              "      <td>2022-09-14</td>\n",
              "      <td>19:00</td>\n",
              "      <td>151988</td>\n",
              "      <td>NaN</td>\n",
              "      <td>1</td>\n",
              "      <td>3</td>\n",
              "      <td>2.0</td>\n",
              "      <td>1</td>\n",
              "      <td>24.4</td>\n",
              "      <td>4.0</td>\n",
              "      <td>1</td>\n",
              "    </tr>\n",
              "    <tr>\n",
              "      <th>38522</th>\n",
              "      <td>28240</td>\n",
              "      <td>2022-10-01</td>\n",
              "      <td>16:30</td>\n",
              "      <td>151988</td>\n",
              "      <td>NaN</td>\n",
              "      <td>1</td>\n",
              "      <td>6</td>\n",
              "      <td>1.0</td>\n",
              "      <td>1</td>\n",
              "      <td>19.6</td>\n",
              "      <td>4.0</td>\n",
              "      <td>1</td>\n",
              "    </tr>\n",
              "    <tr>\n",
              "      <th>38523</th>\n",
              "      <td>28241</td>\n",
              "      <td>2022-10-11</td>\n",
              "      <td>19:30</td>\n",
              "      <td>151988</td>\n",
              "      <td>NaN</td>\n",
              "      <td>1</td>\n",
              "      <td>2</td>\n",
              "      <td>2.0</td>\n",
              "      <td>0</td>\n",
              "      <td>11.1</td>\n",
              "      <td>4.0</td>\n",
              "      <td>1</td>\n",
              "    </tr>\n",
              "    <tr>\n",
              "      <th>38524</th>\n",
              "      <td>28242</td>\n",
              "      <td>2022-10-16</td>\n",
              "      <td>19:00</td>\n",
              "      <td>151988</td>\n",
              "      <td>NaN</td>\n",
              "      <td>0</td>\n",
              "      <td>7</td>\n",
              "      <td>0.0</td>\n",
              "      <td>1</td>\n",
              "      <td>16.3</td>\n",
              "      <td>4.0</td>\n",
              "      <td>0</td>\n",
              "    </tr>\n",
              "  </tbody>\n",
              "</table>\n",
              "<p>38525 rows × 12 columns</p>\n",
              "</div>\n",
              "      <button class=\"colab-df-convert\" onclick=\"convertToInteractive('df-f949aabe-dc62-4697-9365-cebcda5774ea')\"\n",
              "              title=\"Convert this dataframe to an interactive table.\"\n",
              "              style=\"display:none;\">\n",
              "        \n",
              "  <svg xmlns=\"http://www.w3.org/2000/svg\" height=\"24px\"viewBox=\"0 0 24 24\"\n",
              "       width=\"24px\">\n",
              "    <path d=\"M0 0h24v24H0V0z\" fill=\"none\"/>\n",
              "    <path d=\"M18.56 5.44l.94 2.06.94-2.06 2.06-.94-2.06-.94-.94-2.06-.94 2.06-2.06.94zm-11 1L8.5 8.5l.94-2.06 2.06-.94-2.06-.94L8.5 2.5l-.94 2.06-2.06.94zm10 10l.94 2.06.94-2.06 2.06-.94-2.06-.94-.94-2.06-.94 2.06-2.06.94z\"/><path d=\"M17.41 7.96l-1.37-1.37c-.4-.4-.92-.59-1.43-.59-.52 0-1.04.2-1.43.59L10.3 9.45l-7.72 7.72c-.78.78-.78 2.05 0 2.83L4 21.41c.39.39.9.59 1.41.59.51 0 1.02-.2 1.41-.59l7.78-7.78 2.81-2.81c.8-.78.8-2.07 0-2.86zM5.41 20L4 18.59l7.72-7.72 1.47 1.35L5.41 20z\"/>\n",
              "  </svg>\n",
              "      </button>\n",
              "      \n",
              "  <style>\n",
              "    .colab-df-container {\n",
              "      display:flex;\n",
              "      flex-wrap:wrap;\n",
              "      gap: 12px;\n",
              "    }\n",
              "\n",
              "    .colab-df-convert {\n",
              "      background-color: #E8F0FE;\n",
              "      border: none;\n",
              "      border-radius: 50%;\n",
              "      cursor: pointer;\n",
              "      display: none;\n",
              "      fill: #1967D2;\n",
              "      height: 32px;\n",
              "      padding: 0 0 0 0;\n",
              "      width: 32px;\n",
              "    }\n",
              "\n",
              "    .colab-df-convert:hover {\n",
              "      background-color: #E2EBFA;\n",
              "      box-shadow: 0px 1px 2px rgba(60, 64, 67, 0.3), 0px 1px 3px 1px rgba(60, 64, 67, 0.15);\n",
              "      fill: #174EA6;\n",
              "    }\n",
              "\n",
              "    [theme=dark] .colab-df-convert {\n",
              "      background-color: #3B4455;\n",
              "      fill: #D2E3FC;\n",
              "    }\n",
              "\n",
              "    [theme=dark] .colab-df-convert:hover {\n",
              "      background-color: #434B5C;\n",
              "      box-shadow: 0px 1px 3px 1px rgba(0, 0, 0, 0.15);\n",
              "      filter: drop-shadow(0px 1px 2px rgba(0, 0, 0, 0.3));\n",
              "      fill: #FFFFFF;\n",
              "    }\n",
              "  </style>\n",
              "\n",
              "      <script>\n",
              "        const buttonEl =\n",
              "          document.querySelector('#df-f949aabe-dc62-4697-9365-cebcda5774ea button.colab-df-convert');\n",
              "        buttonEl.style.display =\n",
              "          google.colab.kernel.accessAllowed ? 'block' : 'none';\n",
              "\n",
              "        async function convertToInteractive(key) {\n",
              "          const element = document.querySelector('#df-f949aabe-dc62-4697-9365-cebcda5774ea');\n",
              "          const dataTable =\n",
              "            await google.colab.kernel.invokeFunction('convertToInteractive',\n",
              "                                                     [key], {});\n",
              "          if (!dataTable) return;\n",
              "\n",
              "          const docLinkHtml = 'Like what you see? Visit the ' +\n",
              "            '<a target=\"_blank\" href=https://colab.research.google.com/notebooks/data_table.ipynb>data table notebook</a>'\n",
              "            + ' to learn more about interactive tables.';\n",
              "          element.innerHTML = '';\n",
              "          dataTable['output_type'] = 'display_data';\n",
              "          await google.colab.output.renderOutput(dataTable, element);\n",
              "          const docLink = document.createElement('div');\n",
              "          docLink.innerHTML = docLinkHtml;\n",
              "          element.appendChild(docLink);\n",
              "        }\n",
              "      </script>\n",
              "    </div>\n",
              "  </div>\n",
              "  "
            ]
          },
          "metadata": {},
          "execution_count": 22
        }
      ],
      "source": [
        "cf= pd.read_csv('/content/drive/MyDrive/complete_final.csv', encoding='cp949')\n",
        "cf"
      ]
    },
    {
      "cell_type": "code",
      "execution_count": 23,
      "metadata": {
        "id": "7B3pD-HVmG6z",
        "colab": {
          "base_uri": "https://localhost:8080/"
        },
        "outputId": "05a6fad7-4283-4d2c-b050-7ba359bdc68e"
      },
      "outputs": [
        {
          "output_type": "execute_result",
          "data": {
            "text/plain": [
              "Index(['idx', 'game_date', 'game_time_y', 'MB_IDX_x', 'answer_index',\n",
              "       'survey_participant', 'day', 'previous_result', 'weather',\n",
              "       'temperature', 'rank', 'participant'],\n",
              "      dtype='object')"
            ]
          },
          "metadata": {},
          "execution_count": 23
        }
      ],
      "source": [
        "cfedit = cf.drop_duplicates()\n",
        "cfedit.columns"
      ]
    },
    {
      "cell_type": "code",
      "source": [
        "cfedit = pd.read_csv('/content/drive/MyDrive/cfedit.csv')"
      ],
      "metadata": {
        "id": "xfvdE7I9XcYT"
      },
      "execution_count": 24,
      "outputs": []
    },
    {
      "cell_type": "code",
      "source": [
        "cfedit.to_csv('cfedit.csv', index=False)"
      ],
      "metadata": {
        "id": "Z_VO06LgWBrZ"
      },
      "execution_count": 25,
      "outputs": []
    },
    {
      "cell_type": "code",
      "source": [
        "cfedit[['game_date', 'game_time_y', 'MB_IDX_x',\n",
        "        'day', 'previous_result', 'weather',\n",
        "       'temperature', 'rank']] = cfedit[['game_date', 'game_time_y', 'MB_IDX_x', \n",
        "        'day', 'previous_result', 'weather',\n",
        "       'temperature', 'rank']].astype('object')\n"
      ],
      "metadata": {
        "id": "JdipTinI_ikD"
      },
      "execution_count": 26,
      "outputs": []
    },
    {
      "cell_type": "code",
      "execution_count": 27,
      "metadata": {
        "colab": {
          "base_uri": "https://localhost:8080/"
        },
        "id": "0bOdHwE2naBl",
        "outputId": "85002872-4597-4537-aa6b-832e162d2389"
      },
      "outputs": [
        {
          "output_type": "stream",
          "name": "stdout",
          "text": [
            "Looking in indexes: https://pypi.org/simple, https://us-python.pkg.dev/colab-wheels/public/simple/\n",
            "Collecting category_encoders\n",
            "  Downloading category_encoders-2.6.0-py2.py3-none-any.whl (81 kB)\n",
            "\u001b[2K     \u001b[90m━━━━━━━━━━━━━━━━━━━━━━━━━━━━━━━━━━━━━━━━\u001b[0m \u001b[32m81.2/81.2 KB\u001b[0m \u001b[31m2.8 MB/s\u001b[0m eta \u001b[36m0:00:00\u001b[0m\n",
            "\u001b[?25hRequirement already satisfied: statsmodels>=0.9.0 in /usr/local/lib/python3.8/dist-packages (from category_encoders) (0.12.2)\n",
            "Requirement already satisfied: scikit-learn>=0.20.0 in /usr/local/lib/python3.8/dist-packages (from category_encoders) (1.0.2)\n",
            "Requirement already satisfied: numpy>=1.14.0 in /usr/local/lib/python3.8/dist-packages (from category_encoders) (1.21.6)\n",
            "Requirement already satisfied: scipy>=1.0.0 in /usr/local/lib/python3.8/dist-packages (from category_encoders) (1.7.3)\n",
            "Requirement already satisfied: pandas>=1.0.5 in /usr/local/lib/python3.8/dist-packages (from category_encoders) (1.3.5)\n",
            "Requirement already satisfied: patsy>=0.5.1 in /usr/local/lib/python3.8/dist-packages (from category_encoders) (0.5.3)\n",
            "Requirement already satisfied: pytz>=2017.3 in /usr/local/lib/python3.8/dist-packages (from pandas>=1.0.5->category_encoders) (2022.7.1)\n",
            "Requirement already satisfied: python-dateutil>=2.7.3 in /usr/local/lib/python3.8/dist-packages (from pandas>=1.0.5->category_encoders) (2.8.2)\n",
            "Requirement already satisfied: six in /usr/local/lib/python3.8/dist-packages (from patsy>=0.5.1->category_encoders) (1.15.0)\n",
            "Requirement already satisfied: joblib>=0.11 in /usr/local/lib/python3.8/dist-packages (from scikit-learn>=0.20.0->category_encoders) (1.2.0)\n",
            "Requirement already satisfied: threadpoolctl>=2.0.0 in /usr/local/lib/python3.8/dist-packages (from scikit-learn>=0.20.0->category_encoders) (3.1.0)\n",
            "Installing collected packages: category_encoders\n",
            "Successfully installed category_encoders-2.6.0\n"
          ]
        }
      ],
      "source": [
        "pip install --upgrade category_encoders"
      ]
    },
    {
      "cell_type": "code",
      "execution_count": 28,
      "metadata": {
        "id": "tHzazpmMnbZ6"
      },
      "outputs": [],
      "source": [
        "from sklearn.model_selection import train_test_split\n",
        "from sklearn.metrics import accuracy_score\n",
        "from sklearn.preprocessing import LabelEncoder \n",
        "from sklearn.ensemble import RandomForestClassifier\n",
        "from sklearn.pipeline import make_pipeline\n",
        "from category_encoders import OrdinalEncoder\n",
        "from sklearn.model_selection import cross_val_score\n",
        "from sklearn.metrics import roc_auc_score\n",
        "from sklearn.impute import SimpleImputer"
      ]
    },
    {
      "cell_type": "code",
      "execution_count": 29,
      "metadata": {
        "id": "L2KgJqjUndKB"
      },
      "outputs": [],
      "source": [
        "features = ['game_time_y', 'MB_IDX_x', 'answer_index',\n",
        "        'day', 'previous_result', 'weather',\n",
        "       'temperature', 'rank']\n",
        "target = 'participant'"
      ]
    },
    {
      "cell_type": "code",
      "execution_count": 30,
      "metadata": {
        "colab": {
          "base_uri": "https://localhost:8080/"
        },
        "id": "Z98AMYRgn1xd",
        "outputId": "584510f2-9f46-4448-f7ea-99c5c26c1ad6"
      },
      "outputs": [
        {
          "output_type": "stream",
          "name": "stdout",
          "text": [
            "train set: (18099, 13)\n",
            "val set: (4525, 13)\n",
            "test set: (5656, 13)\n"
          ]
        }
      ],
      "source": [
        "train, test = train_test_split(cfedit, test_size = 0.2, stratify = cfedit['participant'],random_state = 42)\n",
        "train, val = train_test_split(train, test_size = 0.2, stratify = train['participant'],random_state = 42)\n",
        "print(\"train set:\", train.shape)\n",
        "print(\"val set:\", val.shape)\n",
        "print(\"test set:\", test.shape)"
      ]
    },
    {
      "cell_type": "code",
      "execution_count": 31,
      "metadata": {
        "id": "CLxesrC-oDQf"
      },
      "outputs": [],
      "source": [
        "X_train = train[features]\n",
        "X_test = test[features]\n",
        "X_val = val[features]\n",
        "y_train = train[target]\n",
        "y_test = test[target]\n",
        "y_val = val[target]"
      ]
    },
    {
      "cell_type": "code",
      "execution_count": 32,
      "metadata": {
        "colab": {
          "base_uri": "https://localhost:8080/"
        },
        "id": "YCqBY6z0oEpu",
        "outputId": "3887d605-d202-411c-9abc-b927e4f5a973"
      },
      "outputs": [
        {
          "output_type": "stream",
          "name": "stdout",
          "text": [
            "기준모델의 정확도는 0.757 입니다\n"
          ]
        }
      ],
      "source": [
        "base = y_train.mode()[0]\n",
        "baseline = len(y_train)*[base]\n",
        "baseline_acc = accuracy_score(y_train, baseline)\n",
        "print(f'기준모델의 정확도는 {baseline_acc.round(3)} 입니다')"
      ]
    },
    {
      "cell_type": "code",
      "execution_count": 33,
      "metadata": {
        "colab": {
          "base_uri": "https://localhost:8080/"
        },
        "id": "xxyCfziboIAK",
        "outputId": "d9b2f5dc-3f14-4a4b-f313-424eb3d879ca"
      },
      "outputs": [
        {
          "output_type": "stream",
          "name": "stdout",
          "text": [
            "훈련 정확도:  1.0\n",
            "검증 정확도:  0.7213259668508287\n"
          ]
        }
      ],
      "source": [
        "from sklearn.tree import DecisionTreeClassifier\n",
        "pipe_dt = make_pipeline(\n",
        "    OrdinalEncoder(),\n",
        "    SimpleImputer(),\n",
        "    DecisionTreeClassifier(random_state=1, criterion=\"entropy\"),\n",
        ")\n",
        "pipe_dt.fit(X_train, y_train)\n",
        "\n",
        "print(\"훈련 정확도: \", pipe_dt.score(X_train, y_train))\n",
        "print(\"검증 정확도: \", pipe_dt.score(X_val, y_val))\n",
        "\n",
        "y_pred = pipe_dt.predict(X_test)"
      ]
    },
    {
      "cell_type": "code",
      "execution_count": 34,
      "metadata": {
        "colab": {
          "base_uri": "https://localhost:8080/"
        },
        "id": "nYfLiW9VoLSJ",
        "outputId": "f53aa03d-b0be-42cf-a8c8-ca5b86d9ee05"
      },
      "outputs": [
        {
          "output_type": "stream",
          "name": "stdout",
          "text": [
            "              precision    recall  f1-score   support\n",
            "\n",
            "           0       0.43      0.44      0.44      1377\n",
            "           1       0.82      0.81      0.82      4279\n",
            "\n",
            "    accuracy                           0.72      5656\n",
            "   macro avg       0.63      0.63      0.63      5656\n",
            "weighted avg       0.73      0.72      0.72      5656\n",
            "\n"
          ]
        }
      ],
      "source": [
        "from sklearn.metrics import classification_report\n",
        "\n",
        "y_pred = pipe_dt.predict(X_test)\n",
        "print(classification_report(y_test, y_pred))"
      ]
    },
    {
      "cell_type": "code",
      "execution_count": 35,
      "metadata": {
        "colab": {
          "base_uri": "https://localhost:8080/"
        },
        "id": "-MlaBJZqoN96",
        "outputId": "623b6d82-fd95-4b39-88bc-6a65e2ea43ba"
      },
      "outputs": [
        {
          "output_type": "stream",
          "name": "stdout",
          "text": [
            "훈련 정확도:  0.8376705895353335\n",
            "검증 정확도:  0.8141436464088397\n"
          ]
        }
      ],
      "source": [
        "pipe_rf = make_pipeline(\n",
        "    OrdinalEncoder(),\n",
        "    SimpleImputer(),\n",
        "    RandomForestClassifier(max_depth = 10, random_state=42, oob_score=True, n_jobs=-1),\n",
        ")\n",
        "\n",
        "pipe_rf.fit(X_train, y_train)\n",
        "print(\"훈련 정확도: \", pipe_rf.score(X_train, y_train))\n",
        "print(\"검증 정확도: \", pipe_rf.score(X_val, y_val))"
      ]
    },
    {
      "cell_type": "code",
      "execution_count": 36,
      "metadata": {
        "colab": {
          "base_uri": "https://localhost:8080/"
        },
        "id": "HaGXsqhjoS3I",
        "outputId": "599fd38c-9737-4446-ad42-5e66684c97de"
      },
      "outputs": [
        {
          "output_type": "stream",
          "name": "stdout",
          "text": [
            "              precision    recall  f1-score   support\n",
            "\n",
            "           0       0.84      0.31      0.45      1377\n",
            "           1       0.82      0.98      0.89      4279\n",
            "\n",
            "    accuracy                           0.82      5656\n",
            "   macro avg       0.83      0.65      0.67      5656\n",
            "weighted avg       0.82      0.82      0.78      5656\n",
            "\n"
          ]
        }
      ],
      "source": [
        "y_pred = pipe_rf.predict(X_test)\n",
        "print(classification_report(y_test, y_pred))"
      ]
    },
    {
      "cell_type": "code",
      "execution_count": 37,
      "metadata": {
        "id": "NL30fBLtoeYx"
      },
      "outputs": [],
      "source": [
        "from xgboost import XGBClassifier\n",
        "pipe = make_pipeline(\n",
        "    OrdinalEncoder(),\n",
        "    SimpleImputer(strategy=\"median\"),\n",
        "    XGBClassifier(\n",
        "        objective=\"binary:logistic\",\n",
        "        eval_metric=\"auc\",\n",
        "        n_estimators=200,\n",
        "        random_state=42,\n",
        "        n_jobs=-1,\n",
        "        max_depth=6,\n",
        "        min_child_weight=8,\n",
        "        colsample_bytree=0.6,\n",
        "        learning_rate=0.1,\n",
        "        subsample = 0.8,\n",
        "        use_label_encoder=False,\n",
        "        scale_pos_weight = 1\n",
        "    ),\n",
        ")\n",
        "\n",
        "pipe.fit(X_train, y_train)\n",
        "pipe.score(X_val, y_val)\n",
        "y_pred = pipe.predict(X_test)"
      ]
    },
    {
      "cell_type": "code",
      "execution_count": 38,
      "metadata": {
        "colab": {
          "base_uri": "https://localhost:8080/"
        },
        "id": "AzvBOjc5phVd",
        "outputId": "f0401d4c-2cea-4a7c-b5fc-52af26bb49b2"
      },
      "outputs": [
        {
          "output_type": "stream",
          "name": "stdout",
          "text": [
            "              precision    recall  f1-score   support\n",
            "\n",
            "           0       0.86      0.30      0.45      1377\n",
            "           1       0.81      0.98      0.89      4279\n",
            "\n",
            "    accuracy                           0.82      5656\n",
            "   macro avg       0.84      0.64      0.67      5656\n",
            "weighted avg       0.83      0.82      0.78      5656\n",
            "\n"
          ]
        }
      ],
      "source": [
        "from sklearn.metrics import classification_report\n",
        "print(classification_report(y_test, y_pred))\n",
        "    "
      ]
    },
    {
      "cell_type": "code",
      "execution_count": 39,
      "metadata": {
        "colab": {
          "base_uri": "https://localhost:8080/",
          "height": 523
        },
        "id": "rvNFycktpjKf",
        "outputId": "22678a17-bbbe-4731-dc94-7afe5738dbec"
      },
      "outputs": [
        {
          "output_type": "display_data",
          "data": {
            "text/plain": [
              "<Figure size 600x600 with 1 Axes>"
            ],
            "image/png": "[encoded data removed]"
          },
          "metadata": {
            "needs_background": "light"
          }
        }
      ],
      "source": [
        "import matplotlib.pyplot as plt\n",
        "\n",
        "feature_importances = list(\n",
        "    zip(X_train.columns, pipe.named_steps[\"xgbclassifier\"].feature_importances_)\n",
        ")\n",
        "feature_importances = sorted(feature_importances, key=lambda x: x[1], reverse=True)\n",
        "\n",
        "plt.figure(figsize=(5, 5), dpi=120)\n",
        "\n",
        "plt.barh(*list(zip(*feature_importances[::-1])), alpha = 1)\n",
        "plt.axvline(0.03, color=\"red\", linewidth=0.5);"
      ]
    },
    {
      "cell_type": "code",
      "source": [
        "score = pipe.score(X_test, y_test)"
      ],
      "metadata": {
        "id": "NTWQPHvIDHtf"
      },
      "execution_count": 40,
      "outputs": []
    },
    {
      "cell_type": "code",
      "execution_count": 41,
      "metadata": {
        "colab": {
          "base_uri": "https://localhost:8080/"
        },
        "id": "wYp7p4GYnQ40",
        "outputId": "e85cb427-b5ab-49db-ed6e-04f3666befa8"
      },
      "outputs": [
        {
          "output_type": "stream",
          "name": "stdout",
          "text": [
            "Perm game_time_y :: 검증 정확도 0.800354\n",
            "Perm MB_IDX_x :: 검증 정확도 0.815400\n",
            "Perm answer_index :: 검증 정확도 0.805446\n",
            "Perm day :: 검증 정확도 0.817309\n",
            "Perm previous_result :: 검증 정확도 0.774593\n",
            "Perm weather :: 검증 정확도 0.817910\n",
            "Perm temperature :: 검증 정확도 0.690117\n",
            "Perm rank :: 검증 정확도 0.586086\n"
          ]
        }
      ],
      "source": [
        "pi = pd.Series(dtype=float)\n",
        "\n",
        "n_iter = 10  # 랜덤으로 특성을 섞어 평가 성능을 확인하는 과정을 몇 번 반복할지 결정합니다.\n",
        "np.random.seed(2) # random seed를 고정하여 반복적으로 아래 코드를 수행해도 같은 결과가 나오게 합니다.\n",
        "\n",
        "for feature in features:\n",
        "    X_test_permed = X_test.copy()\n",
        "\n",
        "    # 모델을 재학습하지 않고, 기존 모델에서 feature 값을 여러 번(n_iter) 섞고 검증하여 평균 성능을 확인합니다.\n",
        "    scores_permutated = []\n",
        "    for _ in range(n_iter):\n",
        "        X_test_permed[feature] = np.random.permutation(X_test_permed[feature])\n",
        "        scores_permutated.append(pipe.score(X_test_permed, y_test))\n",
        "    avg_score_permutated = np.mean(scores_permutated)\n",
        "    print(f\"Perm {feature} :: 검증 정확도 {avg_score_permutated:.6f}\")\n",
        "\n",
        "    # permutation importance는 해당 특성을 랜덤으로 섞었을 때의 성능 하락폭으로 정의됩니다.\n",
        "    pi[feature] = score - avg_score_permutated"
      ]
    },
    {
      "cell_type": "code",
      "execution_count": 42,
      "metadata": {
        "id": "xU0twTWDnUV_",
        "colab": {
          "base_uri": "https://localhost:8080/",
          "height": 299
        },
        "outputId": "a8a7296d-9378-4e1e-bbbd-fc2683b6b7d7"
      },
      "outputs": [
        {
          "output_type": "execute_result",
          "data": {
            "text/plain": [
              "Text(0.5, 1.0, 'Permutation Importance')"
            ]
          },
          "metadata": {},
          "execution_count": 42
        },
        {
          "output_type": "display_data",
          "data": {
            "text/plain": [
              "<Figure size 432x288 with 1 Axes>"
            ],
            "image/png": "[encoded data removed]"
          },
          "metadata": {
            "needs_background": "light"
          }
        }
      ],
      "source": [
        "pi.sort_values().plot.barh()\n",
        "plt.title(\"Permutation Importance\")"
      ]
    },
    {
      "cell_type": "code",
      "execution_count": 43,
      "metadata": {
        "id": "oep0w_XaqonG",
        "colab": {
          "base_uri": "https://localhost:8080/",
          "height": 837
        },
        "outputId": "d1ef002f-253e-4592-a9e6-a300d33fcbf5"
      },
      "outputs": [
        {
          "output_type": "stream",
          "name": "stdout",
          "text": [
            "Looking in indexes: https://pypi.org/simple, https://us-python.pkg.dev/colab-wheels/public/simple/\n",
            "Collecting pdpbox\n",
            "  Downloading PDPbox-0.2.1.tar.gz (34.0 MB)\n",
            "\u001b[2K     \u001b[90m━━━━━━━━━━━━━━━━━━━━━━━━━━━━━━━━━━━━━━━━\u001b[0m \u001b[32m34.0/34.0 MB\u001b[0m \u001b[31m16.3 MB/s\u001b[0m eta \u001b[36m0:00:00\u001b[0m\n",
            "\u001b[?25h  Preparing metadata (setup.py) ... \u001b[?25l\u001b[?25hdone\n",
            "Requirement already satisfied: pandas in /usr/local/lib/python3.8/dist-packages (from pdpbox) (1.3.5)\n",
            "Requirement already satisfied: numpy in /usr/local/lib/python3.8/dist-packages (from pdpbox) (1.21.6)\n",
            "Requirement already satisfied: scipy in /usr/local/lib/python3.8/dist-packages (from pdpbox) (1.7.3)\n",
            "Requirement already satisfied: joblib in /usr/local/lib/python3.8/dist-packages (from pdpbox) (1.2.0)\n",
            "Requirement already satisfied: psutil in /usr/local/lib/python3.8/dist-packages (from pdpbox) (5.4.8)\n",
            "Collecting matplotlib==3.1.1\n",
            "  Downloading matplotlib-3.1.1.tar.gz (37.8 MB)\n",
            "\u001b[2K     \u001b[90m━━━━━━━━━━━━━━━━━━━━━━━━━━━━━━━━━━━━━━━━\u001b[0m \u001b[32m37.8/37.8 MB\u001b[0m \u001b[31m12.3 MB/s\u001b[0m eta \u001b[36m0:00:00\u001b[0m\n",
            "\u001b[?25h  Preparing metadata (setup.py) ... \u001b[?25l\u001b[?25hdone\n",
            "Collecting sklearn\n",
            "  Downloading sklearn-0.0.post1.tar.gz (3.6 kB)\n",
            "  Preparing metadata (setup.py) ... \u001b[?25l\u001b[?25hdone\n",
            "Requirement already satisfied: cycler>=0.10 in /usr/local/lib/python3.8/dist-packages (from matplotlib==3.1.1->pdpbox) (0.11.0)\n",
            "Requirement already satisfied: kiwisolver>=1.0.1 in /usr/local/lib/python3.8/dist-packages (from matplotlib==3.1.1->pdpbox) (1.4.4)\n",
            "Requirement already satisfied: pyparsing!=2.0.4,!=2.1.2,!=2.1.6,>=2.0.1 in /usr/local/lib/python3.8/dist-packages (from matplotlib==3.1.1->pdpbox) (3.0.9)\n",
            "Requirement already satisfied: python-dateutil>=2.1 in /usr/local/lib/python3.8/dist-packages (from matplotlib==3.1.1->pdpbox) (2.8.2)\n",
            "Requirement already satisfied: pytz>=2017.3 in /usr/local/lib/python3.8/dist-packages (from pandas->pdpbox) (2022.7.1)\n",
            "Requirement already satisfied: six>=1.5 in /usr/local/lib/python3.8/dist-packages (from python-dateutil>=2.1->matplotlib==3.1.1->pdpbox) (1.15.0)\n",
            "Building wheels for collected packages: pdpbox, matplotlib, sklearn\n",
            "  Building wheel for pdpbox (setup.py) ... \u001b[?25l\u001b[?25hdone\n",
            "  Created wheel for pdpbox: filename=PDPbox-0.2.1-py3-none-any.whl size=35758224 sha256=4df1cf2a93c70248a3d9244d3d767d015ad6ca0ee9b180cd251163ad5bdc817d\n",
            "  Stored in directory: /root/.cache/pip/wheels/35/fb/ef/a08dd2a1611435285fa3f9d9104bf554f10c2eb7293b526ccb\n",
            "  Building wheel for matplotlib (setup.py) ... \u001b[?25l\u001b[?25hdone\n",
            "  Created wheel for matplotlib: filename=matplotlib-3.1.1-cp38-cp38-linux_x86_64.whl size=12090065 sha256=a98f715408b6419a5b26ca415454e93e54daa5011bca7d4ff8c2f35f6d8f6c52\n",
            "  Stored in directory: /root/.cache/pip/wheels/85/86/f1/054e7477b5e68f3c4a1258d12ae1c2205d6889283ce631dfe5\n",
            "  Building wheel for sklearn (setup.py) ... \u001b[?25l\u001b[?25hdone\n",
            "  Created wheel for sklearn: filename=sklearn-0.0.post1-py3-none-any.whl size=2344 sha256=b7f08a45f442d438fbc9043fa19a2019e1162aa4db4c04d1040996b616962dfc\n",
            "  Stored in directory: /root/.cache/pip/wheels/14/25/f7/1cc0956978ae479e75140219088deb7a36f60459df242b1a72\n",
            "Successfully built pdpbox matplotlib sklearn\n",
            "Installing collected packages: sklearn, matplotlib, pdpbox\n",
            "  Attempting uninstall: matplotlib\n",
            "    Found existing installation: matplotlib 3.2.2\n",
            "    Uninstalling matplotlib-3.2.2:\n",
            "      Successfully uninstalled matplotlib-3.2.2\n",
            "Successfully installed matplotlib-3.1.1 pdpbox-0.2.1 sklearn-0.0.post1\n"
          ]
        },
        {
          "output_type": "display_data",
          "data": {
            "application/vnd.colab-display-data+json": {
              "pip_warning": {
                "packages": [
                  "matplotlib",
                  "mpl_toolkits"
                ]
              }
            }
          },
          "metadata": {}
        }
      ],
      "source": [
        "pip install pdpbox"
      ]
    },
    {
      "cell_type": "code",
      "execution_count": 44,
      "metadata": {
        "id": "zc7MywC3euUl",
        "colab": {
          "base_uri": "https://localhost:8080/"
        },
        "outputId": "d9f92335-c6ad-4bad-c457-2ca67c96fa5b"
      },
      "outputs": [
        {
          "output_type": "stream",
          "name": "stdout",
          "text": [
            "Looking in indexes: https://pypi.org/simple, https://us-python.pkg.dev/colab-wheels/public/simple/\n",
            "Collecting eli5\n",
            "  Downloading eli5-0.13.0.tar.gz (216 kB)\n",
            "\u001b[2K     \u001b[90m━━━━━━━━━━━━━━━━━━━━━━━━━━━━━━━━━━━━━━━\u001b[0m \u001b[32m216.2/216.2 KB\u001b[0m \u001b[31m5.4 MB/s\u001b[0m eta \u001b[36m0:00:00\u001b[0m\n",
            "\u001b[?25h  Preparing metadata (setup.py) ... \u001b[?25l\u001b[?25hdone\n",
            "Requirement already satisfied: attrs>17.1.0 in /usr/local/lib/python3.8/dist-packages (from eli5) (22.2.0)\n",
            "Collecting jinja2>=3.0.0\n",
            "  Downloading Jinja2-3.1.2-py3-none-any.whl (133 kB)\n",
            "\u001b[2K     \u001b[90m━━━━━━━━━━━━━━━━━━━━━━━━━━━━━━━━━━━━━━\u001b[0m \u001b[32m133.1/133.1 KB\u001b[0m \u001b[31m14.1 MB/s\u001b[0m eta \u001b[36m0:00:00\u001b[0m\n",
            "\u001b[?25hRequirement already satisfied: numpy>=1.9.0 in /usr/local/lib/python3.8/dist-packages (from eli5) (1.21.6)\n",
            "Requirement already satisfied: scipy in /usr/local/lib/python3.8/dist-packages (from eli5) (1.7.3)\n",
            "Requirement already satisfied: six in /usr/local/lib/python3.8/dist-packages (from eli5) (1.15.0)\n",
            "Requirement already satisfied: scikit-learn>=0.20 in /usr/local/lib/python3.8/dist-packages (from eli5) (1.0.2)\n",
            "Requirement already satisfied: graphviz in /usr/local/lib/python3.8/dist-packages (from eli5) (0.10.1)\n",
            "Requirement already satisfied: tabulate>=0.7.7 in /usr/local/lib/python3.8/dist-packages (from eli5) (0.8.10)\n",
            "Requirement already satisfied: MarkupSafe>=2.0 in /usr/local/lib/python3.8/dist-packages (from jinja2>=3.0.0->eli5) (2.0.1)\n",
            "Requirement already satisfied: threadpoolctl>=2.0.0 in /usr/local/lib/python3.8/dist-packages (from scikit-learn>=0.20->eli5) (3.1.0)\n",
            "Requirement already satisfied: joblib>=0.11 in /usr/local/lib/python3.8/dist-packages (from scikit-learn>=0.20->eli5) (1.2.0)\n",
            "Building wheels for collected packages: eli5\n",
            "  Building wheel for eli5 (setup.py) ... \u001b[?25l\u001b[?25hdone\n",
            "  Created wheel for eli5: filename=eli5-0.13.0-py2.py3-none-any.whl size=107748 sha256=9cd86065775d8e99d2e4582f46fd5526c58d9472cf1a42eb952a2a13f8951bac\n",
            "  Stored in directory: /root/.cache/pip/wheels/85/ac/25/ffcd87ef8f9b1eec324fdf339359be71f22612459d8c75d89c\n",
            "Successfully built eli5\n",
            "Installing collected packages: jinja2, eli5\n",
            "  Attempting uninstall: jinja2\n",
            "    Found existing installation: Jinja2 2.11.3\n",
            "    Uninstalling Jinja2-2.11.3:\n",
            "      Successfully uninstalled Jinja2-2.11.3\n",
            "\u001b[31mERROR: pip's dependency resolver does not currently take into account all the packages that are installed. This behaviour is the source of the following dependency conflicts.\n",
            "notebook 5.7.16 requires jinja2<=3.0.0, but you have jinja2 3.1.2 which is incompatible.\n",
            "flask 1.1.4 requires Jinja2<3.0,>=2.10.1, but you have jinja2 3.1.2 which is incompatible.\u001b[0m\u001b[31m\n",
            "\u001b[0mSuccessfully installed eli5-0.13.0 jinja2-3.1.2\n",
            "Looking in indexes: https://pypi.org/simple, https://us-python.pkg.dev/colab-wheels/public/simple/\n",
            "Requirement already satisfied: category_encoders in /usr/local/lib/python3.8/dist-packages (2.6.0)\n",
            "Requirement already satisfied: scipy>=1.0.0 in /usr/local/lib/python3.8/dist-packages (from category_encoders) (1.7.3)\n",
            "Requirement already satisfied: statsmodels>=0.9.0 in /usr/local/lib/python3.8/dist-packages (from category_encoders) (0.12.2)\n",
            "Requirement already satisfied: patsy>=0.5.1 in /usr/local/lib/python3.8/dist-packages (from category_encoders) (0.5.3)\n",
            "Requirement already satisfied: pandas>=1.0.5 in /usr/local/lib/python3.8/dist-packages (from category_encoders) (1.3.5)\n",
            "Requirement already satisfied: scikit-learn>=0.20.0 in /usr/local/lib/python3.8/dist-packages (from category_encoders) (1.0.2)\n",
            "Requirement already satisfied: numpy>=1.14.0 in /usr/local/lib/python3.8/dist-packages (from category_encoders) (1.21.6)\n",
            "Requirement already satisfied: pytz>=2017.3 in /usr/local/lib/python3.8/dist-packages (from pandas>=1.0.5->category_encoders) (2022.7.1)\n",
            "Requirement already satisfied: python-dateutil>=2.7.3 in /usr/local/lib/python3.8/dist-packages (from pandas>=1.0.5->category_encoders) (2.8.2)\n",
            "Requirement already satisfied: six in /usr/local/lib/python3.8/dist-packages (from patsy>=0.5.1->category_encoders) (1.15.0)\n",
            "Requirement already satisfied: threadpoolctl>=2.0.0 in /usr/local/lib/python3.8/dist-packages (from scikit-learn>=0.20.0->category_encoders) (3.1.0)\n",
            "Requirement already satisfied: joblib>=0.11 in /usr/local/lib/python3.8/dist-packages (from scikit-learn>=0.20.0->category_encoders) (1.2.0)\n"
          ]
        }
      ],
      "source": [
        "!pip3 install eli5\n",
        "!pip install category_encoders"
      ]
    },
    {
      "cell_type": "code",
      "execution_count": 45,
      "metadata": {
        "id": "aOdTjSNIf2Ho",
        "colab": {
          "base_uri": "https://localhost:8080/",
          "height": 837
        },
        "outputId": "3146614e-0651-4581-bc8b-bf2a1996a061"
      },
      "outputs": [
        {
          "output_type": "stream",
          "name": "stdout",
          "text": [
            "Looking in indexes: https://pypi.org/simple, https://us-python.pkg.dev/colab-wheels/public/simple/\n",
            "Requirement already satisfied: category_encoders in /usr/local/lib/python3.8/dist-packages (2.6.0)\n",
            "Requirement already satisfied: patsy>=0.5.1 in /usr/local/lib/python3.8/dist-packages (from category_encoders) (0.5.3)\n",
            "Requirement already satisfied: scipy>=1.0.0 in /usr/local/lib/python3.8/dist-packages (from category_encoders) (1.7.3)\n",
            "Requirement already satisfied: pandas>=1.0.5 in /usr/local/lib/python3.8/dist-packages (from category_encoders) (1.3.5)\n",
            "Requirement already satisfied: numpy>=1.14.0 in /usr/local/lib/python3.8/dist-packages (from category_encoders) (1.21.6)\n",
            "Requirement already satisfied: statsmodels>=0.9.0 in /usr/local/lib/python3.8/dist-packages (from category_encoders) (0.12.2)\n",
            "Requirement already satisfied: scikit-learn>=0.20.0 in /usr/local/lib/python3.8/dist-packages (from category_encoders) (1.0.2)\n",
            "Requirement already satisfied: python-dateutil>=2.7.3 in /usr/local/lib/python3.8/dist-packages (from pandas>=1.0.5->category_encoders) (2.8.2)\n",
            "Requirement already satisfied: pytz>=2017.3 in /usr/local/lib/python3.8/dist-packages (from pandas>=1.0.5->category_encoders) (2022.7.1)\n",
            "Requirement already satisfied: six in /usr/local/lib/python3.8/dist-packages (from patsy>=0.5.1->category_encoders) (1.15.0)\n",
            "Requirement already satisfied: joblib>=0.11 in /usr/local/lib/python3.8/dist-packages (from scikit-learn>=0.20.0->category_encoders) (1.2.0)\n",
            "Requirement already satisfied: threadpoolctl>=2.0.0 in /usr/local/lib/python3.8/dist-packages (from scikit-learn>=0.20.0->category_encoders) (3.1.0)\n",
            "Looking in indexes: https://pypi.org/simple, https://us-python.pkg.dev/colab-wheels/public/simple/\n",
            "Requirement already satisfied: pdpbox in /usr/local/lib/python3.8/dist-packages (0.2.1)\n",
            "Requirement already satisfied: psutil in /usr/local/lib/python3.8/dist-packages (from pdpbox) (5.4.8)\n",
            "Requirement already satisfied: sklearn in /usr/local/lib/python3.8/dist-packages (from pdpbox) (0.0.post1)\n",
            "Requirement already satisfied: joblib in /usr/local/lib/python3.8/dist-packages (from pdpbox) (1.2.0)\n",
            "Requirement already satisfied: matplotlib==3.1.1 in /usr/local/lib/python3.8/dist-packages (from pdpbox) (3.1.1)\n",
            "Requirement already satisfied: numpy in /usr/local/lib/python3.8/dist-packages (from pdpbox) (1.21.6)\n",
            "Requirement already satisfied: scipy in /usr/local/lib/python3.8/dist-packages (from pdpbox) (1.7.3)\n",
            "Requirement already satisfied: pandas in /usr/local/lib/python3.8/dist-packages (from pdpbox) (1.3.5)\n",
            "Requirement already satisfied: pyparsing!=2.0.4,!=2.1.2,!=2.1.6,>=2.0.1 in /usr/local/lib/python3.8/dist-packages (from matplotlib==3.1.1->pdpbox) (3.0.9)\n",
            "Requirement already satisfied: cycler>=0.10 in /usr/local/lib/python3.8/dist-packages (from matplotlib==3.1.1->pdpbox) (0.11.0)\n",
            "Requirement already satisfied: python-dateutil>=2.1 in /usr/local/lib/python3.8/dist-packages (from matplotlib==3.1.1->pdpbox) (2.8.2)\n",
            "Requirement already satisfied: kiwisolver>=1.0.1 in /usr/local/lib/python3.8/dist-packages (from matplotlib==3.1.1->pdpbox) (1.4.4)\n",
            "Requirement already satisfied: pytz>=2017.3 in /usr/local/lib/python3.8/dist-packages (from pandas->pdpbox) (2022.7.1)\n",
            "Requirement already satisfied: six>=1.5 in /usr/local/lib/python3.8/dist-packages (from python-dateutil>=2.1->matplotlib==3.1.1->pdpbox) (1.15.0)\n",
            "Looking in indexes: https://pypi.org/simple, https://us-python.pkg.dev/colab-wheels/public/simple/\n",
            "Collecting xgboost==1.7.2\n",
            "  Downloading xgboost-1.7.2-py3-none-manylinux2014_x86_64.whl (193.6 MB)\n",
            "\u001b[2K     \u001b[90m━━━━━━━━━━━━━━━━━━━━━━━━━━━━━━━━━━━━━━━\u001b[0m \u001b[32m193.6/193.6 MB\u001b[0m \u001b[31m5.2 MB/s\u001b[0m eta \u001b[36m0:00:00\u001b[0m\n",
            "\u001b[?25hRequirement already satisfied: scipy in /usr/local/lib/python3.8/dist-packages (from xgboost==1.7.2) (1.7.3)\n",
            "Requirement already satisfied: numpy in /usr/local/lib/python3.8/dist-packages (from xgboost==1.7.2) (1.21.6)\n",
            "Installing collected packages: xgboost\n",
            "  Attempting uninstall: xgboost\n",
            "    Found existing installation: xgboost 0.90\n",
            "    Uninstalling xgboost-0.90:\n",
            "      Successfully uninstalled xgboost-0.90\n",
            "Successfully installed xgboost-1.7.2\n"
          ]
        },
        {
          "output_type": "display_data",
          "data": {
            "application/vnd.colab-display-data+json": {
              "pip_warning": {
                "packages": [
                  "xgboost"
                ]
              }
            }
          },
          "metadata": {}
        }
      ],
      "source": [
        "!pip install category_encoders\n",
        "!pip3 install pdpbox\n",
        "!pip3 install xgboost==1.7.2"
      ]
    },
    {
      "cell_type": "code",
      "execution_count": 46,
      "metadata": {
        "id": "I20pP_-geSyJ"
      },
      "outputs": [],
      "source": [
        "from pdpbox.pdp import pdp_interact, pdp_interact_plot"
      ]
    },
    {
      "cell_type": "code",
      "execution_count": 47,
      "metadata": {
        "id": "6nYCHwDSkTgS",
        "colab": {
          "base_uri": "https://localhost:8080/"
        },
        "outputId": "7ad45555-0d24-4bca-94f6-abba8b61237b"
      },
      "outputs": [
        {
          "output_type": "stream",
          "name": "stdout",
          "text": [
            "[0]\tvalidation_0-auc:0.600002\tvalidation_1-auc:0.589445\n",
            "Multiple eval metrics have been passed: 'validation_1-auc' will be used for early stopping.\n",
            "\n",
            "Will train until validation_1-auc hasn't improved in 50 rounds.\n",
            "[1]\tvalidation_0-auc:0.657626\tvalidation_1-auc:0.648549\n",
            "[2]\tvalidation_0-auc:0.726922\tvalidation_1-auc:0.715772\n",
            "[3]\tvalidation_0-auc:0.724235\tvalidation_1-auc:0.711094\n",
            "[4]\tvalidation_0-auc:0.72731\tvalidation_1-auc:0.709829\n",
            "[5]\tvalidation_0-auc:0.723413\tvalidation_1-auc:0.705785\n",
            "[6]\tvalidation_0-auc:0.738175\tvalidation_1-auc:0.721226\n",
            "[7]\tvalidation_0-auc:0.751631\tvalidation_1-auc:0.7335\n",
            "[8]\tvalidation_0-auc:0.754424\tvalidation_1-auc:0.738898\n",
            "[9]\tvalidation_0-auc:0.753976\tvalidation_1-auc:0.740017\n",
            "[10]\tvalidation_0-auc:0.753926\tvalidation_1-auc:0.739929\n",
            "[11]\tvalidation_0-auc:0.758884\tvalidation_1-auc:0.743466\n",
            "[12]\tvalidation_0-auc:0.761156\tvalidation_1-auc:0.744039\n",
            "[13]\tvalidation_0-auc:0.761095\tvalidation_1-auc:0.744179\n",
            "[14]\tvalidation_0-auc:0.765284\tvalidation_1-auc:0.747554\n",
            "[15]\tvalidation_0-auc:0.768538\tvalidation_1-auc:0.749792\n",
            "[16]\tvalidation_0-auc:0.76998\tvalidation_1-auc:0.750505\n",
            "[17]\tvalidation_0-auc:0.770134\tvalidation_1-auc:0.75089\n",
            "[18]\tvalidation_0-auc:0.769827\tvalidation_1-auc:0.750921\n",
            "[19]\tvalidation_0-auc:0.771001\tvalidation_1-auc:0.751625\n",
            "[20]\tvalidation_0-auc:0.771825\tvalidation_1-auc:0.753091\n",
            "[21]\tvalidation_0-auc:0.771767\tvalidation_1-auc:0.752599\n",
            "[22]\tvalidation_0-auc:0.771597\tvalidation_1-auc:0.752932\n",
            "[23]\tvalidation_0-auc:0.771704\tvalidation_1-auc:0.752778\n",
            "[24]\tvalidation_0-auc:0.77207\tvalidation_1-auc:0.753417\n",
            "[25]\tvalidation_0-auc:0.772235\tvalidation_1-auc:0.753225\n",
            "[26]\tvalidation_0-auc:0.772487\tvalidation_1-auc:0.753759\n",
            "[27]\tvalidation_0-auc:0.773384\tvalidation_1-auc:0.754533\n",
            "[28]\tvalidation_0-auc:0.774159\tvalidation_1-auc:0.755042\n",
            "[29]\tvalidation_0-auc:0.77489\tvalidation_1-auc:0.755327\n",
            "[30]\tvalidation_0-auc:0.775792\tvalidation_1-auc:0.754877\n",
            "[31]\tvalidation_0-auc:0.77642\tvalidation_1-auc:0.755018\n",
            "[32]\tvalidation_0-auc:0.776975\tvalidation_1-auc:0.755651\n",
            "[33]\tvalidation_0-auc:0.777009\tvalidation_1-auc:0.755526\n",
            "[34]\tvalidation_0-auc:0.77756\tvalidation_1-auc:0.756018\n",
            "[35]\tvalidation_0-auc:0.783513\tvalidation_1-auc:0.760252\n",
            "[36]\tvalidation_0-auc:0.784773\tvalidation_1-auc:0.760239\n",
            "[37]\tvalidation_0-auc:0.785364\tvalidation_1-auc:0.760969\n",
            "[38]\tvalidation_0-auc:0.785341\tvalidation_1-auc:0.760818\n",
            "[39]\tvalidation_0-auc:0.785525\tvalidation_1-auc:0.761253\n",
            "[40]\tvalidation_0-auc:0.786439\tvalidation_1-auc:0.761251\n",
            "[41]\tvalidation_0-auc:0.786554\tvalidation_1-auc:0.761279\n",
            "[42]\tvalidation_0-auc:0.786903\tvalidation_1-auc:0.761603\n",
            "[43]\tvalidation_0-auc:0.786877\tvalidation_1-auc:0.761592\n",
            "[44]\tvalidation_0-auc:0.787606\tvalidation_1-auc:0.762429\n",
            "[45]\tvalidation_0-auc:0.788628\tvalidation_1-auc:0.763552\n",
            "[46]\tvalidation_0-auc:0.788578\tvalidation_1-auc:0.763552\n",
            "[47]\tvalidation_0-auc:0.78866\tvalidation_1-auc:0.763559\n",
            "[48]\tvalidation_0-auc:0.788789\tvalidation_1-auc:0.763506\n",
            "[49]\tvalidation_0-auc:0.789763\tvalidation_1-auc:0.76423\n",
            "[50]\tvalidation_0-auc:0.790476\tvalidation_1-auc:0.764249\n",
            "[51]\tvalidation_0-auc:0.790469\tvalidation_1-auc:0.764325\n",
            "[52]\tvalidation_0-auc:0.790573\tvalidation_1-auc:0.764282\n",
            "[53]\tvalidation_0-auc:0.79104\tvalidation_1-auc:0.764419\n",
            "[54]\tvalidation_0-auc:0.79094\tvalidation_1-auc:0.764125\n",
            "[55]\tvalidation_0-auc:0.792114\tvalidation_1-auc:0.764737\n",
            "[56]\tvalidation_0-auc:0.792631\tvalidation_1-auc:0.764944\n",
            "[57]\tvalidation_0-auc:0.792991\tvalidation_1-auc:0.764742\n",
            "[58]\tvalidation_0-auc:0.794406\tvalidation_1-auc:0.765784\n",
            "[59]\tvalidation_0-auc:0.794441\tvalidation_1-auc:0.765833\n",
            "[60]\tvalidation_0-auc:0.795184\tvalidation_1-auc:0.765921\n",
            "[61]\tvalidation_0-auc:0.79532\tvalidation_1-auc:0.76595\n",
            "[62]\tvalidation_0-auc:0.795924\tvalidation_1-auc:0.766213\n",
            "[63]\tvalidation_0-auc:0.795863\tvalidation_1-auc:0.766121\n",
            "[64]\tvalidation_0-auc:0.795899\tvalidation_1-auc:0.766168\n",
            "[65]\tvalidation_0-auc:0.796301\tvalidation_1-auc:0.766539\n",
            "[66]\tvalidation_0-auc:0.796301\tvalidation_1-auc:0.766613\n",
            "[67]\tvalidation_0-auc:0.796291\tvalidation_1-auc:0.766437\n",
            "[68]\tvalidation_0-auc:0.797159\tvalidation_1-auc:0.766932\n",
            "[69]\tvalidation_0-auc:0.797834\tvalidation_1-auc:0.766977\n",
            "[70]\tvalidation_0-auc:0.797754\tvalidation_1-auc:0.766877\n",
            "[71]\tvalidation_0-auc:0.799358\tvalidation_1-auc:0.768262\n",
            "[72]\tvalidation_0-auc:0.799331\tvalidation_1-auc:0.768325\n",
            "[73]\tvalidation_0-auc:0.80045\tvalidation_1-auc:0.768815\n",
            "[74]\tvalidation_0-auc:0.800772\tvalidation_1-auc:0.76889\n",
            "[75]\tvalidation_0-auc:0.800887\tvalidation_1-auc:0.769113\n",
            "[76]\tvalidation_0-auc:0.800766\tvalidation_1-auc:0.769069\n",
            "[77]\tvalidation_0-auc:0.801576\tvalidation_1-auc:0.769392\n",
            "[78]\tvalidation_0-auc:0.801596\tvalidation_1-auc:0.769424\n",
            "[79]\tvalidation_0-auc:0.801513\tvalidation_1-auc:0.769215\n",
            "[80]\tvalidation_0-auc:0.801797\tvalidation_1-auc:0.769364\n",
            "[81]\tvalidation_0-auc:0.80164\tvalidation_1-auc:0.769266\n",
            "[82]\tvalidation_0-auc:0.801496\tvalidation_1-auc:0.769405\n",
            "[83]\tvalidation_0-auc:0.802102\tvalidation_1-auc:0.770057\n",
            "[84]\tvalidation_0-auc:0.802056\tvalidation_1-auc:0.770031\n",
            "[85]\tvalidation_0-auc:0.802405\tvalidation_1-auc:0.770333\n",
            "[86]\tvalidation_0-auc:0.802391\tvalidation_1-auc:0.770444\n",
            "[87]\tvalidation_0-auc:0.803234\tvalidation_1-auc:0.770797\n",
            "[88]\tvalidation_0-auc:0.803416\tvalidation_1-auc:0.770881\n",
            "[89]\tvalidation_0-auc:0.804336\tvalidation_1-auc:0.771115\n",
            "[90]\tvalidation_0-auc:0.804362\tvalidation_1-auc:0.770983\n",
            "[91]\tvalidation_0-auc:0.805299\tvalidation_1-auc:0.771168\n",
            "[92]\tvalidation_0-auc:0.805328\tvalidation_1-auc:0.771109\n",
            "[93]\tvalidation_0-auc:0.805304\tvalidation_1-auc:0.771101\n",
            "[94]\tvalidation_0-auc:0.805268\tvalidation_1-auc:0.771054\n",
            "[95]\tvalidation_0-auc:0.805251\tvalidation_1-auc:0.770901\n",
            "[96]\tvalidation_0-auc:0.805535\tvalidation_1-auc:0.771195\n",
            "[97]\tvalidation_0-auc:0.805513\tvalidation_1-auc:0.771055\n",
            "[98]\tvalidation_0-auc:0.805725\tvalidation_1-auc:0.771078\n",
            "[99]\tvalidation_0-auc:0.806427\tvalidation_1-auc:0.771215\n",
            "[100]\tvalidation_0-auc:0.806498\tvalidation_1-auc:0.771176\n",
            "[101]\tvalidation_0-auc:0.806483\tvalidation_1-auc:0.771158\n",
            "[102]\tvalidation_0-auc:0.807139\tvalidation_1-auc:0.771403\n",
            "[103]\tvalidation_0-auc:0.807566\tvalidation_1-auc:0.771736\n",
            "[104]\tvalidation_0-auc:0.807567\tvalidation_1-auc:0.771703\n",
            "[105]\tvalidation_0-auc:0.808078\tvalidation_1-auc:0.771948\n",
            "[106]\tvalidation_0-auc:0.809293\tvalidation_1-auc:0.772607\n",
            "[107]\tvalidation_0-auc:0.810505\tvalidation_1-auc:0.772624\n",
            "[108]\tvalidation_0-auc:0.810823\tvalidation_1-auc:0.772915\n",
            "[109]\tvalidation_0-auc:0.810793\tvalidation_1-auc:0.772868\n",
            "[110]\tvalidation_0-auc:0.810751\tvalidation_1-auc:0.772784\n",
            "[111]\tvalidation_0-auc:0.810709\tvalidation_1-auc:0.772738\n",
            "[112]\tvalidation_0-auc:0.811238\tvalidation_1-auc:0.772854\n",
            "[113]\tvalidation_0-auc:0.811486\tvalidation_1-auc:0.773151\n",
            "[114]\tvalidation_0-auc:0.811379\tvalidation_1-auc:0.773091\n",
            "[115]\tvalidation_0-auc:0.81133\tvalidation_1-auc:0.773068\n",
            "[116]\tvalidation_0-auc:0.811455\tvalidation_1-auc:0.773063\n",
            "[117]\tvalidation_0-auc:0.811568\tvalidation_1-auc:0.773034\n",
            "[118]\tvalidation_0-auc:0.81184\tvalidation_1-auc:0.773366\n",
            "[119]\tvalidation_0-auc:0.812279\tvalidation_1-auc:0.773401\n",
            "[120]\tvalidation_0-auc:0.812231\tvalidation_1-auc:0.77337\n",
            "[121]\tvalidation_0-auc:0.812925\tvalidation_1-auc:0.773875\n",
            "[122]\tvalidation_0-auc:0.812972\tvalidation_1-auc:0.773726\n",
            "[123]\tvalidation_0-auc:0.813248\tvalidation_1-auc:0.773833\n",
            "[124]\tvalidation_0-auc:0.813696\tvalidation_1-auc:0.774298\n",
            "[125]\tvalidation_0-auc:0.813772\tvalidation_1-auc:0.774375\n",
            "[126]\tvalidation_0-auc:0.813967\tvalidation_1-auc:0.774174\n",
            "[127]\tvalidation_0-auc:0.814721\tvalidation_1-auc:0.774591\n",
            "[128]\tvalidation_0-auc:0.814685\tvalidation_1-auc:0.774533\n",
            "[129]\tvalidation_0-auc:0.814932\tvalidation_1-auc:0.774745\n",
            "[130]\tvalidation_0-auc:0.814882\tvalidation_1-auc:0.774738\n",
            "[131]\tvalidation_0-auc:0.815197\tvalidation_1-auc:0.774924\n",
            "[132]\tvalidation_0-auc:0.815427\tvalidation_1-auc:0.774859\n",
            "[133]\tvalidation_0-auc:0.815383\tvalidation_1-auc:0.774714\n",
            "[134]\tvalidation_0-auc:0.81569\tvalidation_1-auc:0.774808\n",
            "[135]\tvalidation_0-auc:0.815844\tvalidation_1-auc:0.774926\n",
            "[136]\tvalidation_0-auc:0.815922\tvalidation_1-auc:0.775009\n",
            "[137]\tvalidation_0-auc:0.816064\tvalidation_1-auc:0.775078\n",
            "[138]\tvalidation_0-auc:0.816559\tvalidation_1-auc:0.775258\n",
            "[139]\tvalidation_0-auc:0.816629\tvalidation_1-auc:0.775311\n",
            "[140]\tvalidation_0-auc:0.816656\tvalidation_1-auc:0.775295\n",
            "[141]\tvalidation_0-auc:0.816654\tvalidation_1-auc:0.775293\n",
            "[142]\tvalidation_0-auc:0.816796\tvalidation_1-auc:0.775412\n",
            "[143]\tvalidation_0-auc:0.817194\tvalidation_1-auc:0.775447\n",
            "[144]\tvalidation_0-auc:0.817943\tvalidation_1-auc:0.775112\n",
            "[145]\tvalidation_0-auc:0.817929\tvalidation_1-auc:0.775066\n",
            "[146]\tvalidation_0-auc:0.817936\tvalidation_1-auc:0.774989\n",
            "[147]\tvalidation_0-auc:0.817929\tvalidation_1-auc:0.774887\n",
            "[148]\tvalidation_0-auc:0.81786\tvalidation_1-auc:0.774861\n",
            "[149]\tvalidation_0-auc:0.818609\tvalidation_1-auc:0.775197\n",
            "[150]\tvalidation_0-auc:0.818621\tvalidation_1-auc:0.775228\n",
            "[151]\tvalidation_0-auc:0.818705\tvalidation_1-auc:0.775238\n",
            "[152]\tvalidation_0-auc:0.818668\tvalidation_1-auc:0.775137\n",
            "[153]\tvalidation_0-auc:0.8193\tvalidation_1-auc:0.775159\n",
            "[154]\tvalidation_0-auc:0.819222\tvalidation_1-auc:0.775073\n",
            "[155]\tvalidation_0-auc:0.819278\tvalidation_1-auc:0.774939\n",
            "[156]\tvalidation_0-auc:0.819466\tvalidation_1-auc:0.775201\n",
            "[157]\tvalidation_0-auc:0.819454\tvalidation_1-auc:0.775145\n",
            "[158]\tvalidation_0-auc:0.819484\tvalidation_1-auc:0.775191\n",
            "[159]\tvalidation_0-auc:0.81977\tvalidation_1-auc:0.775259\n",
            "[160]\tvalidation_0-auc:0.819818\tvalidation_1-auc:0.775301\n",
            "[161]\tvalidation_0-auc:0.819705\tvalidation_1-auc:0.775203\n",
            "[162]\tvalidation_0-auc:0.819911\tvalidation_1-auc:0.775227\n",
            "[163]\tvalidation_0-auc:0.81997\tvalidation_1-auc:0.775245\n",
            "[164]\tvalidation_0-auc:0.820695\tvalidation_1-auc:0.775916\n",
            "[165]\tvalidation_0-auc:0.820715\tvalidation_1-auc:0.775924\n",
            "[166]\tvalidation_0-auc:0.82103\tvalidation_1-auc:0.776149\n",
            "[167]\tvalidation_0-auc:0.821122\tvalidation_1-auc:0.776276\n",
            "[168]\tvalidation_0-auc:0.821512\tvalidation_1-auc:0.776797\n",
            "[169]\tvalidation_0-auc:0.82179\tvalidation_1-auc:0.776964\n",
            "[170]\tvalidation_0-auc:0.822273\tvalidation_1-auc:0.77678\n",
            "[171]\tvalidation_0-auc:0.82223\tvalidation_1-auc:0.776697\n",
            "[172]\tvalidation_0-auc:0.822492\tvalidation_1-auc:0.776499\n",
            "[173]\tvalidation_0-auc:0.822407\tvalidation_1-auc:0.776404\n",
            "[174]\tvalidation_0-auc:0.822397\tvalidation_1-auc:0.776518\n",
            "[175]\tvalidation_0-auc:0.822441\tvalidation_1-auc:0.776481\n",
            "[176]\tvalidation_0-auc:0.822458\tvalidation_1-auc:0.776503\n",
            "[177]\tvalidation_0-auc:0.822574\tvalidation_1-auc:0.776581\n",
            "[178]\tvalidation_0-auc:0.822595\tvalidation_1-auc:0.776566\n",
            "[179]\tvalidation_0-auc:0.82308\tvalidation_1-auc:0.776367\n",
            "[180]\tvalidation_0-auc:0.823081\tvalidation_1-auc:0.776231\n",
            "[181]\tvalidation_0-auc:0.82303\tvalidation_1-auc:0.776241\n",
            "[182]\tvalidation_0-auc:0.823066\tvalidation_1-auc:0.776202\n",
            "[183]\tvalidation_0-auc:0.823373\tvalidation_1-auc:0.776306\n",
            "[184]\tvalidation_0-auc:0.823551\tvalidation_1-auc:0.776412\n",
            "[185]\tvalidation_0-auc:0.82347\tvalidation_1-auc:0.776388\n",
            "[186]\tvalidation_0-auc:0.82362\tvalidation_1-auc:0.776379\n",
            "[187]\tvalidation_0-auc:0.823577\tvalidation_1-auc:0.776301\n",
            "[188]\tvalidation_0-auc:0.824039\tvalidation_1-auc:0.776485\n",
            "[189]\tvalidation_0-auc:0.824034\tvalidation_1-auc:0.776438\n",
            "[190]\tvalidation_0-auc:0.824173\tvalidation_1-auc:0.776603\n",
            "[191]\tvalidation_0-auc:0.824314\tvalidation_1-auc:0.776623\n",
            "[192]\tvalidation_0-auc:0.824571\tvalidation_1-auc:0.77656\n",
            "[193]\tvalidation_0-auc:0.825107\tvalidation_1-auc:0.776804\n",
            "[194]\tvalidation_0-auc:0.825163\tvalidation_1-auc:0.776713\n",
            "[195]\tvalidation_0-auc:0.825304\tvalidation_1-auc:0.776763\n",
            "[196]\tvalidation_0-auc:0.825319\tvalidation_1-auc:0.776698\n",
            "[197]\tvalidation_0-auc:0.825491\tvalidation_1-auc:0.776648\n",
            "[198]\tvalidation_0-auc:0.825523\tvalidation_1-auc:0.776538\n",
            "[199]\tvalidation_0-auc:0.825846\tvalidation_1-auc:0.776653\n"
          ]
        },
        {
          "output_type": "execute_result",
          "data": {
            "text/plain": [
              "XGBClassifier(colsample_bytree=0.6, eval_metric='auc', max_depth=6,\n",
              "              min_child_weight=8, n_estimators=200, n_jobs=-1, subsample=0.8,\n",
              "              use_label_encoder=False)"
            ]
          },
          "metadata": {},
          "execution_count": 47
        }
      ],
      "source": [
        "from category_encoders import OrdinalEncoder\n",
        "from sklearn.metrics import classification_report, roc_auc_score\n",
        "from xgboost import XGBClassifier\n",
        "\n",
        "encoder = OrdinalEncoder()\n",
        "X_train_encoded = encoder.fit_transform(X_train)  # 학습데이터\n",
        "X_val_encoded = encoder.transform(X_val)  # 검증데이터\n",
        "\n",
        "boosting = XGBClassifier(\n",
        "    n_estimators=200,\n",
        "    n_jobs=-1,\n",
        "    eval_metric=\"auc\",\n",
        "    objective=\"binary:logistic\",  # default\n",
        "    learning_rate=0.1,\n",
        "    max_depth=6,\n",
        "    min_child_weight=8,\n",
        "    use_label_encoder=False,\n",
        "    subsample=0.8,\n",
        "    scale_pos_weight = 1,\n",
        "    colsample_bytree=0.6,\n",
        "\n",
        ")\n",
        "\n",
        "eval_set = [(X_train_encoded, y_train), (X_val_encoded, y_val)]\n",
        "\n",
        "boosting.fit(X_train_encoded, y_train, eval_set=eval_set, early_stopping_rounds=50)"
      ]
    },
    {
      "cell_type": "code",
      "execution_count": 48,
      "metadata": {
        "id": "lIbXTqqWozyX",
        "colab": {
          "base_uri": "https://localhost:8080/"
        },
        "outputId": "9f3bb6b3-2c34-4549-b499-5de7f688cb12"
      },
      "outputs": [
        {
          "output_type": "execute_result",
          "data": {
            "text/plain": [
              "Index(['game_time_y', 'MB_IDX_x', 'answer_index', 'day', 'previous_result',\n",
              "       'weather', 'temperature', 'rank'],\n",
              "      dtype='object')"
            ]
          },
          "metadata": {},
          "execution_count": 48
        }
      ],
      "source": [
        "X_train.columns"
      ]
    },
    {
      "cell_type": "code",
      "execution_count": 49,
      "metadata": {
        "id": "C_0r4bwZo1ZG"
      },
      "outputs": [],
      "source": [
        "from pdpbox.pdp import pdp_interact, pdp_interact_plot\n"
      ]
    },
    {
      "cell_type": "code",
      "execution_count": 50,
      "metadata": {
        "id": "S2mMGks5o3It",
        "colab": {
          "base_uri": "https://localhost:8080/"
        },
        "outputId": "7fb9c8db-2fe9-4a49-ca06-84b89ea0ba09"
      },
      "outputs": [
        {
          "output_type": "stream",
          "name": "stdout",
          "text": [
            "[{'col': 'game_time_y', 'mapping': 19:00    1\n",
            "20:00    2\n",
            "16:30    3\n",
            "14:00    4\n",
            "19:30    5\n",
            "NaN     -2\n",
            "dtype: int64, 'data_type': dtype('O')}, {'col': 'MB_IDX_x', 'mapping': 145034.0       1\n",
            "151455.0       2\n",
            "108678.0       3\n",
            "106176.0       4\n",
            "135070.0       5\n",
            "            ... \n",
            "129228.0    1479\n",
            "140915.0    1480\n",
            "103044.0    1481\n",
            "142998.0    1482\n",
            "NaN           -2\n",
            "Length: 1483, dtype: int64, 'data_type': dtype('O')}, {'col': 'day', 'mapping': 3.0    1\n",
            "6.0    2\n",
            "7.0    3\n",
            "2.0    4\n",
            "5.0    5\n",
            "NaN   -2\n",
            "dtype: int64, 'data_type': dtype('O')}, {'col': 'previous_result', 'mapping': 1.0    1\n",
            "2.0    2\n",
            "0.0    3\n",
            "NaN    4\n",
            "dtype: int64, 'data_type': dtype('O')}, {'col': 'weather', 'mapping': 2.0    1\n",
            "1.0    2\n",
            "0.0    3\n",
            "NaN   -2\n",
            "dtype: int64, 'data_type': dtype('O')}, {'col': 'temperature', 'mapping':  25.3     1\n",
            " 21.4     2\n",
            " 15.2     3\n",
            " 24.4     4\n",
            " 6.8      5\n",
            " 11.1     6\n",
            " 29.0     7\n",
            " 16.7     8\n",
            " 10.0     9\n",
            " 17.4    10\n",
            " 25.1    11\n",
            " 4.1     12\n",
            " 22.9    13\n",
            " 16.3    14\n",
            " 24.6    15\n",
            " 20.0    16\n",
            " 19.6    17\n",
            "-1.7     18\n",
            " 2.0     19\n",
            " NaN     -2\n",
            "dtype: int64, 'data_type': dtype('O')}, {'col': 'rank', 'mapping': 5.0    1\n",
            "3.0    2\n",
            "4.0    3\n",
            "2.0    4\n",
            "NaN    5\n",
            "7.0    6\n",
            "6.0    7\n",
            "dtype: int64, 'data_type': dtype('O')}]\n"
          ]
        }
      ],
      "source": [
        "\n",
        "mappings = encoder.mapping\n",
        "print(mappings)"
      ]
    },
    {
      "cell_type": "code",
      "source": [
        "target_feature = \"rank\""
      ],
      "metadata": {
        "id": "6eQZ0LwrHHpj"
      },
      "execution_count": 51,
      "outputs": []
    },
    {
      "cell_type": "code",
      "source": [
        "mapping_data = list(filter(lambda x: x[\"col\"] == target_feature, mappings))\n",
        "print(mapping_data)"
      ],
      "metadata": {
        "colab": {
          "base_uri": "https://localhost:8080/"
        },
        "id": "mqh0teV2HLhA",
        "outputId": "135ac9c1-8b6e-49f9-9604-ac3a27a4162e"
      },
      "execution_count": 52,
      "outputs": [
        {
          "output_type": "stream",
          "name": "stdout",
          "text": [
            "[{'col': 'rank', 'mapping': 5.0    1\n",
            "3.0    2\n",
            "4.0    3\n",
            "2.0    4\n",
            "NaN    5\n",
            "7.0    6\n",
            "6.0    7\n",
            "dtype: int64, 'data_type': dtype('O')}]\n"
          ]
        }
      ]
    },
    {
      "cell_type": "code",
      "source": [
        "maps = mapping_data[0][\"mapping\"]\n",
        "print(type(maps))\n",
        "print(maps)"
      ],
      "metadata": {
        "colab": {
          "base_uri": "https://localhost:8080/"
        },
        "id": "BCZZAsM2HNB-",
        "outputId": "f113437a-5dad-4b77-e8de-c3fa89f67273"
      },
      "execution_count": 53,
      "outputs": [
        {
          "output_type": "stream",
          "name": "stdout",
          "text": [
            "<class 'pandas.core.series.Series'>\n",
            "5.0    1\n",
            "3.0    2\n",
            "4.0    3\n",
            "2.0    4\n",
            "NaN    5\n",
            "7.0    6\n",
            "6.0    7\n",
            "dtype: int64\n"
          ]
        }
      ]
    },
    {
      "cell_type": "code",
      "source": [
        "pdp_dist = pdp_isolate(\n",
        "    model=boosting,\n",
        "    dataset=X_val_encoded,\n",
        "    model_features=X_val.columns,\n",
        "    feature=target_feature,\n",
        "    cust_grid_points=[1,2,3,4,5,6,7],  # 특성값을 찍어 볼 지점을 직접 지정할 수 있습니다.\n",
        ")\n",
        "pdp_plot(pdp_dist, target_feature)"
      ],
      "metadata": {
        "colab": {
          "base_uri": "https://localhost:8080/",
          "height": 246
        },
        "id": "mZNSgc8dYoQY",
        "outputId": "fc282400-de38-484b-9405-23d5bebcf008"
      },
      "execution_count": 54,
      "outputs": [
        {
          "output_type": "error",
          "ename": "NameError",
          "evalue": "ignored",
          "traceback": [
            "\u001b[0;31m---------------------------------------------------------------------------\u001b[0m",
            "\u001b[0;31mNameError\u001b[0m                                 Traceback (most recent call last)",
            "\u001b[0;32m<ipython-input-54-c4971a39bc3c>\u001b[0m in \u001b[0;36m<module>\u001b[0;34m\u001b[0m\n\u001b[0;32m----> 1\u001b[0;31m pdp_dist = pdp_isolate(\n\u001b[0m\u001b[1;32m      2\u001b[0m     \u001b[0mmodel\u001b[0m\u001b[0;34m=\u001b[0m\u001b[0mboosting\u001b[0m\u001b[0;34m,\u001b[0m\u001b[0;34m\u001b[0m\u001b[0;34m\u001b[0m\u001b[0m\n\u001b[1;32m      3\u001b[0m     \u001b[0mdataset\u001b[0m\u001b[0;34m=\u001b[0m\u001b[0mX_val_encoded\u001b[0m\u001b[0;34m,\u001b[0m\u001b[0;34m\u001b[0m\u001b[0;34m\u001b[0m\u001b[0m\n\u001b[1;32m      4\u001b[0m     \u001b[0mmodel_features\u001b[0m\u001b[0;34m=\u001b[0m\u001b[0mX_val\u001b[0m\u001b[0;34m.\u001b[0m\u001b[0mcolumns\u001b[0m\u001b[0;34m,\u001b[0m\u001b[0;34m\u001b[0m\u001b[0;34m\u001b[0m\u001b[0m\n\u001b[1;32m      5\u001b[0m     \u001b[0mfeature\u001b[0m\u001b[0;34m=\u001b[0m\u001b[0mtarget_feature\u001b[0m\u001b[0;34m,\u001b[0m\u001b[0;34m\u001b[0m\u001b[0;34m\u001b[0m\u001b[0m\n",
            "\u001b[0;31mNameError\u001b[0m: name 'pdp_isolate' is not defined"
          ]
        }
      ]
    },
    {
      "cell_type": "code",
      "source": [
        "encoded_features = maps.values.tolist()\n",
        "original_features = maps.index.tolist()\n",
        "print(encoded_features, original_features)"
      ],
      "metadata": {
        "id": "D2ju6JUjYzy0"
      },
      "execution_count": null,
      "outputs": []
    },
    {
      "cell_type": "code",
      "source": [
        "pdp_plot(pdp_dist, target_feature)\n",
        "plt.xticks(encoded_features, original_features, rotation=90)"
      ],
      "metadata": {
        "id": "ldFKOBm-Y3wh"
      },
      "execution_count": null,
      "outputs": []
    },
    {
      "cell_type": "code",
      "execution_count": null,
      "metadata": {
        "id": "AjebNjfJuwmF"
      },
      "outputs": [],
      "source": [
        "target_features = [\"rank\", \"temperature\"]\n",
        "\n",
        "interaction = pdp_interact(\n",
        "    model=boosting,\n",
        "    dataset=X_val_encoded,\n",
        "    model_features=X_val_encoded.columns,\n",
        "    features=target_features,\n",
        "    cust_grid_points=[\n",
        "        [1,2,3,4,5,6,7],  # 첫 번째 특성인 marital-status에 대해서는 grid point를 지정해 주고,\n",
        "        [1,4,7,10,13,16,19,21,24,27,30]  # 두 번째 특성인 age에 대해서는 자동 생성되는 grid point를 사용합니다.\n",
        "    ],\n",
        ")\n",
        "\n",
        "axes = pdp_interact_plot(interaction, plot_type=\"grid\", feature_names=target_features)\n",
        "plot_params={'xticks':[encoded_features, original_features]}"
      ]
    },
    {
      "cell_type": "code",
      "source": [
        "target_features = [\"rank\", \"previous_result\"]\n",
        "\n",
        "interaction = pdp_interact(\n",
        "    model=boosting,\n",
        "    dataset=X_val_encoded,\n",
        "    model_features=X_val_encoded.columns,\n",
        "    features=target_features,\n",
        "    cust_grid_points=[\n",
        "        [1,2,3,4,5,6,7],  # 첫 번째 특성인 marital-status에 대해서는 grid point를 지정해 주고,\n",
        "        [0,1,2]  # 두 번째 특성인 age에 대해서는 자동 생성되는 grid point를 사용합니다.\n",
        "    ],\n",
        ")\n",
        "\n",
        "axes = pdp_interact_plot(interaction, plot_type=\"grid\", feature_names=target_features)\n",
        "plot_params={'xticks':[encoded_features, original_features]}"
      ],
      "metadata": {
        "id": "maSzNVh9hzSI"
      },
      "execution_count": null,
      "outputs": []
    },
    {
      "cell_type": "code",
      "source": [
        "cfedit.head(3)"
      ],
      "metadata": {
        "id": "eiVr5E0i3Kda"
      },
      "execution_count": null,
      "outputs": []
    },
    {
      "cell_type": "code",
      "source": [
        "ppm"
      ],
      "metadata": {
        "id": "18ZUncGe3mYR"
      },
      "execution_count": null,
      "outputs": []
    },
    {
      "cell_type": "code",
      "source": [
        "final.columns"
      ],
      "metadata": {
        "id": "bT8pbZoUNllZ"
      },
      "execution_count": null,
      "outputs": []
    },
    {
      "cell_type": "code",
      "source": [
        "premi = final[['idx', 'game_date', 'game_time_y', 'MB_IDX_x', 'answer_index','day', 'previous_result', 'weather', 'temperature','product_grade_name','cancel_yn','Rank']]"
      ],
      "metadata": {
        "id": "CuwvT9_3PDqC"
      },
      "execution_count": null,
      "outputs": []
    },
    {
      "cell_type": "code",
      "source": [
        "premi.product_grade_name.value_counts().head(20)"
      ],
      "metadata": {
        "id": "SZuHAb5YQCws"
      },
      "execution_count": null,
      "outputs": []
    },
    {
      "cell_type": "code",
      "source": [
        "premi['premium'] = np.where(premi['product_grade_name'] =='S석', 0, \n",
        "                np.where(premi['product_grade_name'] == 'Exciting석', 0,\n",
        "                np.where(premi['product_grade_name'] == 'World class석', 0,\n",
        "                np.where(premi['product_grade_name'] == 'With석', 0,\n",
        "                np.where(premi['product_grade_name'] == 'Expert석', 0,\n",
        "                np.where(premi['product_grade_name'] == 'Wide view석', 0,\n",
        "                np.where(premi['product_grade_name'] == '원정석', 0,\n",
        "                np.where(premi['product_grade_name'] == 'N석', 0, 1))))))))"
      ],
      "metadata": {
        "id": "-MmlciR-PTiL"
      },
      "execution_count": null,
      "outputs": []
    },
    {
      "cell_type": "code",
      "source": [
        "premie=premi.dropna(subset=['product_grade_name'])\n",
        "premie.premium.value_counts()"
      ],
      "metadata": {
        "id": "qgf0FffWTTcC"
      },
      "execution_count": null,
      "outputs": []
    },
    {
      "cell_type": "code",
      "source": [
        "premie.cancel_yn.value_counts()"
      ],
      "metadata": {
        "id": "212h3Dg_Udld"
      },
      "execution_count": null,
      "outputs": []
    },
    {
      "cell_type": "code",
      "source": [
        "premied=premie[premie['cancel_yn']=='N']\n",
        "premied.premium.value_counts()"
      ],
      "metadata": {
        "id": "lf55Yoq-UG-O"
      },
      "execution_count": null,
      "outputs": []
    },
    {
      "cell_type": "code",
      "source": [
        "premied.columns"
      ],
      "metadata": {
        "id": "iiRo0RiVWCGp"
      },
      "execution_count": null,
      "outputs": []
    },
    {
      "cell_type": "code",
      "source": [
        "premied[['game_date', 'game_time_y', 'MB_IDX_x',\n",
        "        'day', 'previous_result', 'weather',\n",
        "       'temperature', 'Rank']] = premied[['game_date', 'game_time_y', 'MB_IDX_x', \n",
        "        'day', 'previous_result', 'weather',\n",
        "       'temperature', 'Rank']].astype('object')"
      ],
      "metadata": {
        "id": "mW64NKnHUsKp"
      },
      "execution_count": null,
      "outputs": []
    },
    {
      "cell_type": "code",
      "source": [
        "features = ['game_date', 'game_time_y', 'MB_IDX_x',\n",
        "        'day', 'previous_result', 'weather',\n",
        "       'temperature', 'Rank']\n",
        "target = 'premium'"
      ],
      "metadata": {
        "id": "haeckKyGV_Hw"
      },
      "execution_count": null,
      "outputs": []
    },
    {
      "cell_type": "code",
      "source": [
        "train, test = train_test_split(premied, test_size = 0.2, stratify = premied['premium'],random_state = 42)\n",
        "train, val = train_test_split(train, test_size = 0.2, stratify = train['premium'],random_state = 42)\n",
        "print(\"train set:\", train.shape)\n",
        "print(\"val set:\", val.shape)\n",
        "print(\"test set:\", test.shape)"
      ],
      "metadata": {
        "id": "Zw3AYYqOWcUV"
      },
      "execution_count": null,
      "outputs": []
    },
    {
      "cell_type": "code",
      "source": [
        "from xgboost import XGBClassifier\n",
        "pipe = make_pipeline(\n",
        "    OrdinalEncoder(),\n",
        "    SimpleImputer(strategy=\"median\"),\n",
        "    XGBClassifier(\n",
        "        objective=\"binary:logistic\",\n",
        "        eval_metric=\"auc\",\n",
        "        n_estimators=200,\n",
        "        random_state=42,\n",
        "        n_jobs=-1,\n",
        "        max_depth=6,\n",
        "        min_child_weight=8,\n",
        "        colsample_bytree=0.6,\n",
        "        learning_rate=0.1,\n",
        "        subsample = 0.8,\n",
        "        use_label_encoder=False,\n",
        "        scale_pos_weight = 1\n",
        "    ),\n",
        ")\n",
        "\n",
        "pipe.fit(X_train, y_train)\n",
        "pipe.score(X_val, y_val)\n",
        "y_pred = pipe.predict(X_test)"
      ],
      "metadata": {
        "id": "cnGcwRWKZrqB"
      },
      "execution_count": null,
      "outputs": []
    },
    {
      "cell_type": "code",
      "source": [
        "from sklearn.metrics import classification_report\n",
        "print(classification_report(y_test, y_pred))\n",
        "    "
      ],
      "metadata": {
        "id": "iow-ArG8Zs-9"
      },
      "execution_count": null,
      "outputs": []
    },
    {
      "cell_type": "code",
      "source": [
        "import matplotlib.pyplot as plt\n",
        "\n",
        "feature_importances = list(\n",
        "    zip(X_train.columns, pipe.named_steps[\"xgbclassifier\"].feature_importances_)\n",
        ")\n",
        "feature_importances = sorted(feature_importances, key=lambda x: x[1], reverse=True)\n",
        "\n",
        "plt.figure(figsize=(5, 5), dpi=120)\n",
        "\n",
        "plt.barh(*list(zip(*feature_importances[::-1])), alpha = 1)\n"
      ],
      "metadata": {
        "id": "bCZZN96oaGND"
      },
      "execution_count": null,
      "outputs": []
    },
    {
      "cell_type": "code",
      "source": [
        "premied['count'] = 1"
      ],
      "metadata": {
        "id": "v7XD-yXOibC5"
      },
      "execution_count": null,
      "outputs": []
    },
    {
      "cell_type": "code",
      "source": [
        "preme = premied.groupby(['Rank','premium'])[['count']].sum().sort_values(by='Rank', ascending=True).reset_index()\n",
        "preme"
      ],
      "metadata": {
        "id": "7brZdZmndxiV"
      },
      "execution_count": null,
      "outputs": []
    },
    {
      "cell_type": "code",
      "source": [
        "import pandas as pd\n",
        "\n",
        "General = [2267, 609, 7015, 1913, 22, 57]\n",
        "Premium = [398, 30, 801, 204, 2, 3]\n",
        "rank = ['2', '3', '4', '5', '6', '7']\n",
        "\n",
        "df = pd.DataFrame({'General' : General, 'Premium' : Premium}, index = rank)\n",
        "df"
      ],
      "metadata": {
        "id": "1aAAy5qikdZB"
      },
      "execution_count": null,
      "outputs": []
    },
    {
      "cell_type": "code",
      "source": [
        "df['mean'] = df['General'] + df['Premium']\n",
        "df['mean'] = df['Premium']/df['mean']\n",
        "df"
      ],
      "metadata": {
        "id": "wyOipfXFtgyp"
      },
      "execution_count": null,
      "outputs": []
    },
    {
      "cell_type": "code",
      "source": [
        "df['mean'].plot.bar(alpha=0.5)"
      ],
      "metadata": {
        "id": "3YlULkQyt78o"
      },
      "execution_count": null,
      "outputs": []
    },
    {
      "cell_type": "code",
      "source": [
        "import matplotlib.pyplot as plt\n",
        "import numpy as np\n",
        "\n",
        "# 그림 사이즈, 바 굵기 조정\n",
        "fig, ax = plt.subplots(figsize=(12,6))\n",
        "bar_width = 0.25\n",
        "\n",
        "# 연도가 4개이므로 0, 1, 2, 3 위치를 기준으로 삼음\n",
        "index = np.arange(6)\n",
        "\n",
        "# 각 연도별로 3개 샵의 bar를 순서대로 나타내는 과정, 각 그래프는 0.25의 간격을 두고 그려짐\n",
        "b1 = plt.bar(index, df['General'], bar_width, alpha=0.5, color='skyblue', label='General')\n",
        "\n",
        "b2 = plt.bar(index + bar_width, df['Premium'], bar_width, alpha=0.9, color='skyblue', label='Premium')\n",
        "\n",
        "\n",
        "# x축 위치를 정 가운데로 조정하고 x축의 텍스트를 year 정보와 매칭\n",
        "plt.xticks(np.arange(bar_width, 6+ bar_width, 1), rank)\n",
        "\n",
        "# x축, y축 이름 및 범례 설정\n",
        "plt.xlabel('rank', size = 13)\n",
        "plt.ylabel('count', size = 13)\n",
        "plt.legend()\n",
        "plt.show()"
      ],
      "metadata": {
        "id": "SPJLBMmKjbzg"
      },
      "execution_count": null,
      "outputs": []
    },
    {
      "cell_type": "code",
      "source": [
        "ppre = premied.groupby(['previous_result','premium'])[['count']].sum().sort_values(by='previous_result', ascending=True).reset_index()\n",
        "ppre"
      ],
      "metadata": {
        "id": "a6F3VPXU02Kk"
      },
      "execution_count": null,
      "outputs": []
    },
    {
      "cell_type": "code",
      "source": [
        "import pandas as pd\n",
        "\n",
        "General = [4821,3063,3933]\n",
        "Premium = [669,308,451]\n",
        "result = ['0', '1', '2']\n",
        "\n",
        "df2 = pd.DataFrame({'General' : General, 'Premium' : Premium}, index = result)\n",
        "df2"
      ],
      "metadata": {
        "id": "HSU-RbQ41bpY"
      },
      "execution_count": null,
      "outputs": []
    },
    {
      "cell_type": "code",
      "source": [
        "df2['mean'] = df2['General'] + df2['Premium']\n",
        "df2['mean'] = df2['Premium']/df2['mean']\n",
        "df2"
      ],
      "metadata": {
        "id": "s_zCwGAN2el_"
      },
      "execution_count": null,
      "outputs": []
    },
    {
      "cell_type": "code",
      "source": [
        "df2['mean'].plot.bar(alpha=0.5)"
      ],
      "metadata": {
        "id": "aIP0OoW82lgU"
      },
      "execution_count": null,
      "outputs": []
    },
    {
      "cell_type": "code",
      "source": [
        "import matplotlib.pyplot as plt\n",
        "import numpy as np\n",
        "\n",
        "# 그림 사이즈, 바 굵기 조정\n",
        "fig, ax = plt.subplots(figsize=(12,6))\n",
        "bar_width = 0.25\n",
        "\n",
        "# 연도가 4개이므로 0, 1, 2, 3 위치를 기준으로 삼음\n",
        "index = np.arange(3)\n",
        "\n",
        "# 각 연도별로 3개 샵의 bar를 순서대로 나타내는 과정, 각 그래프는 0.25의 간격을 두고 그려짐\n",
        "b1 = plt.bar(index, df2['General'], bar_width, alpha=0.5, color='skyblue', label='General')\n",
        "\n",
        "b2 = plt.bar(index + bar_width, df2['Premium'], bar_width, alpha=0.9, color='skyblue', label='Premium')\n",
        "\n",
        "\n",
        "# x축 위치를 정 가운데로 조정하고 x축의 텍스트를 year 정보와 매칭\n",
        "plt.xticks(np.arange(bar_width, 0+ bar_width, 1), rank)\n",
        "\n",
        "# x축, y축 이름 및 범례 설정\n",
        "plt.xlabel('result', size = 13)\n",
        "plt.ylabel('count', size = 13)\n",
        "plt.legend()\n",
        "plt.show()"
      ],
      "metadata": {
        "id": "LP3ksAP517jW"
      },
      "execution_count": null,
      "outputs": []
    },
    {
      "cell_type": "code",
      "source": [
        "cfedit['count'] =1\n",
        "cfedit.columns"
      ],
      "metadata": {
        "id": "9Zd4VGos7N4R"
      },
      "execution_count": null,
      "outputs": []
    },
    {
      "cell_type": "code",
      "source": [
        "c1 = cfedit[cfedit['participant']==0]"
      ],
      "metadata": {
        "id": "FdZ0RPfs8NAL"
      },
      "execution_count": null,
      "outputs": []
    },
    {
      "cell_type": "code",
      "source": [
        "c2=c1.groupby(['rank'])[['count']].sum().sort_values(by='rank', ascending=True).reset_index()\n",
        "c2"
      ],
      "metadata": {
        "id": "vSaYgMz67ri6"
      },
      "execution_count": null,
      "outputs": []
    },
    {
      "cell_type": "code",
      "source": [
        "c2['count'].plot.bar()"
      ],
      "metadata": {
        "id": "wWsVFcsi255Z"
      },
      "execution_count": null,
      "outputs": []
    },
    {
      "cell_type": "code",
      "source": [
        "c2['value_count'] = [23, 6, 54, 25, 1, 1]\n",
        "c2##"
      ],
      "metadata": {
        "id": "D4xKhUQk-l3w"
      },
      "execution_count": null,
      "outputs": []
    },
    {
      "cell_type": "code",
      "source": [
        "c2['mean'] = c2['count']/c2['value_count']\n",
        "c2"
      ],
      "metadata": {
        "id": "w7HZfD0bBaM5"
      },
      "execution_count": null,
      "outputs": []
    },
    {
      "cell_type": "code",
      "source": [
        "c2['mean'].plot.bar()"
      ],
      "metadata": {
        "id": "Rdty8-ycDpju"
      },
      "execution_count": null,
      "outputs": []
    },
    {
      "cell_type": "code",
      "source": [
        "c3=c1.groupby(['previous_result'])[['count']].sum().sort_values(by='previous_result', ascending=True).reset_index()\n",
        "c3['value_count'] = [7,5,6]\n",
        "c3['mean'] = c3['count']/c3['value_count']\n",
        "c3"
      ],
      "metadata": {
        "id": "8aIkIBf58tVy"
      },
      "execution_count": null,
      "outputs": []
    },
    {
      "cell_type": "code",
      "source": [
        "c3['count'].plot.bar()"
      ],
      "metadata": {
        "id": "UhFaF80GHOIf"
      },
      "execution_count": null,
      "outputs": []
    },
    {
      "cell_type": "code",
      "source": [
        "c3['mean'].plot.bar()"
      ],
      "metadata": {
        "id": "3y2EpC7GHfCd"
      },
      "execution_count": null,
      "outputs": []
    },
    {
      "cell_type": "code",
      "source": [
        "a00=cfedit.groupby(['answer_index', 'participant'])[['count']].sum().sort_values(by='answer_index', ascending=True).reset_index()\n",
        "a0 = a00[a00['participant']==0]\n",
        "a1 = a00[a00['participant']==1]"
      ],
      "metadata": {
        "id": "moiTA4gZPrFf"
      },
      "execution_count": null,
      "outputs": []
    },
    {
      "cell_type": "code",
      "source": [
        "a00.head(3)"
      ],
      "metadata": {
        "id": "is3KobNrhWdQ"
      },
      "execution_count": null,
      "outputs": []
    },
    {
      "cell_type": "code",
      "source": [
        "a0['count'].sum()"
      ],
      "metadata": {
        "id": "8mLBjo82RzL5"
      },
      "execution_count": null,
      "outputs": []
    },
    {
      "cell_type": "code",
      "source": [
        "a1['count'].sum()"
      ],
      "metadata": {
        "id": "8eaaHbmLbsR4"
      },
      "execution_count": null,
      "outputs": []
    },
    {
      "cell_type": "code",
      "source": [
        "a01 =pd.merge(a0, a1, how='inner', on='answer_index')\n",
        "a012 = a01[['answer_index', 'count_x', 'count_y']]\n",
        "a012"
      ],
      "metadata": {
        "id": "d6qIdMUkSQgN"
      },
      "execution_count": null,
      "outputs": []
    },
    {
      "cell_type": "code",
      "source": [
        "import matplotlib.pyplot as plt\n",
        "import numpy as np\n",
        "\n",
        "# 그림 사이즈, 바 굵기 조정\n",
        "fig, ax = plt.subplots(figsize=(12,6))\n",
        "bar_width = 0.25\n",
        "\n",
        "# 연도가 4개이므로 0, 1, 2, 3 위치를 기준으로 삼음\n",
        "index = np.arange(15)\n",
        "\n",
        "# 각 연도별로 3개 샵의 bar를 순서대로 나타내는 과정, 각 그래프는 0.25의 간격을 두고 그려짐\n",
        "b1 = plt.bar(index, a012['count_x'], bar_width, alpha=0.5, color='blue', label='participant')\n",
        "\n",
        "b2 = plt.bar(index + bar_width, a012['count_y'], bar_width, alpha=0.5, color='red', label='Non_participant')\n",
        "\n",
        "\n",
        "# x축 위치를 정 가운데로 조정하고 x축의 텍스트를 year 정보와 매칭\n",
        "plt.xticks(np.arange(bar_width, 0+ bar_width, 1), rank)\n",
        "\n",
        "# x축, y축 이름 및 범례 설정\n",
        "plt.xlabel('anwer_score', size = 13)\n",
        "plt.ylabel('count', size = 13)\n",
        "plt.legend()\n",
        "plt.show()"
      ],
      "metadata": {
        "id": "fZ_fudNDS0YR"
      },
      "execution_count": null,
      "outputs": []
    },
    {
      "cell_type": "code",
      "source": [
        "b00=cfedit.groupby(['participant'])[['answer_index']].mean().sort_values(by='answer_index', ascending=True).reset_index()\n",
        "b00"
      ],
      "metadata": {
        "id": "Aq1AdnKFjRwo"
      },
      "execution_count": null,
      "outputs": []
    },
    {
      "cell_type": "code",
      "source": [
        "pro = final[['ticket_no', 'product_grade_name', 'product_denomination_name', 'cancel_yn']]\n",
        "pro"
      ],
      "metadata": {
        "id": "z8fS2E0LxxiN"
      },
      "execution_count": null,
      "outputs": []
    },
    {
      "cell_type": "code",
      "source": [
        "pro=pro.drop_duplicates()\n",
        "pro"
      ],
      "metadata": {
        "id": "5uu4Qak-yCWv"
      },
      "execution_count": null,
      "outputs": []
    },
    {
      "cell_type": "code",
      "source": [
        "fn2 = final[['idx', 'game_date', 'game_time_y', 'MB_IDX_x','product_grade_name','product_denomination_name', 'cancel_yn','Rank']]\n",
        "fn2.columns"
      ],
      "metadata": {
        "id": "cMw1EGiUyTwm"
      },
      "execution_count": null,
      "outputs": []
    },
    {
      "cell_type": "code",
      "source": [
        "final['product_denomination_name'] = final['product_denomination_name'].fillna('None')"
      ],
      "metadata": {
        "id": "y5-NGWG-bPci"
      },
      "execution_count": null,
      "outputs": []
    },
    {
      "cell_type": "code",
      "source": [
        "final.loc[final['product_denomination_name'].str.contains('예매권북'), 'benefit'] = 3000\n",
        "final.loc[final['product_denomination_name'].str.contains('5천원'), 'benefit'] = 5000\n",
        "final.loc[final['product_denomination_name'].str.contains('5,000'), 'benefit'] = 5000\n",
        "final.loc[final['product_denomination_name'].str.contains('3,000'), 'benefit'] = 3000\n",
        "final.loc[final['product_denomination_name'].str.contains('1,000'), 'benefit'] = 1000\n",
        "final.loc[final['product_denomination_name'].str.contains('문화누리카드'), 'benefit'] = '40%'\n",
        "final.loc[final['product_denomination_name'].str.contains('축덕카드(신용)'), 'benefit'] = 5000\n",
        "final.loc[final['product_denomination_name'].str.contains('축덕카드(체크)'), 'benefit'] = 3000\n",
        "final.loc[final['product_denomination_name'].str.contains('1인 테이블석 50%'), 'benefit'] = '50%'\n",
        "final.loc[final['product_denomination_name'].str.contains('프리미엄 골드석'), 'benefit'] = '50%'\n",
        "final.loc[final['product_denomination_name'].str.contains('1인 테이블석 할인권'), 'benefit'] = '30%'\n",
        "final.loc[final['product_denomination_name'].str.contains('ㅅㅇ전 게임권'), 'benefit'] = '30%'\n",
        "final.loc[final['product_denomination_name'].str.contains('포스코'), 'benefit'] = '10%'"
      ],
      "metadata": {
        "id": "nU5jHIlJQc3o"
      },
      "execution_count": null,
      "outputs": []
    },
    {
      "cell_type": "code",
      "source": [
        "final['count'] = 1"
      ],
      "metadata": {
        "id": "oEtw-7eLbrf7"
      },
      "execution_count": null,
      "outputs": []
    },
    {
      "cell_type": "code",
      "source": [
        "final.loc[final['product_denomination_name'].str.contains('일반'), 'promotion'] = 0\n",
        "final.loc[final['product_denomination_name'].str.contains('청소년/어린이'), 'promotion'] = 0\n",
        "final.loc[final['product_denomination_name'].str.contains('성인'), 'promotion'] = 0\n",
        "final.loc[final['product_denomination_name'].str.contains('예매권북'), 'promotion'] = 1\n",
        "final.loc[final['product_denomination_name'].str.contains('5천원'), 'promotion'] = 1\n",
        "final.loc[final['product_denomination_name'].str.contains('5,000'), 'promotion'] = 1\n",
        "final.loc[final['product_denomination_name'].str.contains('3,000'), 'promotion'] = 1\n",
        "final.loc[final['product_denomination_name'].str.contains('1,000'), 'promotion'] = 1\n",
        "final.loc[final['product_denomination_name'].str.contains('문화누리카드'), 'promotion'] = 1\n",
        "final.loc[final['product_denomination_name'].str.contains('축덕카드(신용)'), 'promotion'] = 1\n",
        "final.loc[final['product_denomination_name'].str.contains('축덕카드(체크)'), 'promotion'] = 1\n",
        "final.loc[final['product_denomination_name'].str.contains('1인 테이블석 50%'), 'promotion'] = 1\n",
        "final.loc[final['product_denomination_name'].str.contains('프리미엄 골드석'), 'promotion'] =1\n",
        "final.loc[final['product_denomination_name'].str.contains('1인 테이블석 할인권'), 'promotion'] = 1\n",
        "final.loc[final['product_denomination_name'].str.contains('ㅅㅇ전 게임권'), 'promotion'] = 1\n",
        "final.loc[final['product_denomination_name'].str.contains('포스코'), 'promotion'] = 1\n",
        "final.loc[final['product_denomination_name'].str.contains('게임권'), 'promotion'] = 1\n",
        "final.loc[final['product_denomination_name'].str.contains('셀트리온 예매권'), 'promotion'] = 1\n",
        "final.loc[final['product_denomination_name'].str.contains('N회 방문자'), 'promotion'] = 1"
      ],
      "metadata": {
        "id": "CDhPeeqVcfDM"
      },
      "execution_count": null,
      "outputs": []
    },
    {
      "cell_type": "code",
      "source": [
        "final['premium'] = np.where(final['product_grade_name'] =='S석', 0, \n",
        "                np.where(final['product_grade_name'] == 'Exciting석', 0,\n",
        "                np.where(final['product_grade_name'] == 'World class석', 0,\n",
        "                np.where(final['product_grade_name'] == 'With석', 0,\n",
        "                np.where(final['product_grade_name'] == 'Expert석', 0,\n",
        "                np.where(final['product_grade_name'] == 'Wide view석', 0,\n",
        "                np.where(final['product_grade_name'] == '원정석', 0,\n",
        "                np.where(final['product_grade_name'] == 'N석', 0, 1))))))))"
      ],
      "metadata": {
        "id": "UdJCK_06cwLN"
      },
      "execution_count": null,
      "outputs": []
    },
    {
      "cell_type": "code",
      "source": [
        "final['product_grade_name'] = final.product_grade_name.str.replace('석E', '석(E', regex = True)"
      ],
      "metadata": {
        "id": "db1kh3bKfM5t"
      },
      "execution_count": null,
      "outputs": []
    },
    {
      "cell_type": "code",
      "source": [
        "fnn = final[final['cancel_yn']=='N']\n",
        "fn3 = fnn[['idx', 'game_date','MB_IDX_x', 'answer_index', 'previous_result','weather', 'temperature','reserve_detail_no','product_grade_name', 'product_denomination_name','Rank', 'benefit', 'count', 'promotion', 'premium']]\n",
        "fn3['benefit']= fn3['benefit'].fillna(0)\n",
        "fn3"
      ],
      "metadata": {
        "id": "0tn1zNdGgaTH"
      },
      "execution_count": null,
      "outputs": []
    },
    {
      "cell_type": "code",
      "source": [
        "fn4=fn3.groupby(['Rank', 'promotion'])[['count']].sum().reset_index()\n",
        "fn0 =fn4[fn4['promotion']==0.0]\n",
        "fn0['value_count'] = [23, 6, 54, 25, 1, 1]\n",
        "fn0['mean'] = fn0['count']/fn0['value_count']\n",
        "fn0"
      ],
      "metadata": {
        "id": "JQo-2hOCiMhU"
      },
      "execution_count": null,
      "outputs": []
    },
    {
      "cell_type": "code",
      "source": [
        "fn1 =fn4[fn4['promotion']==1.0]\n",
        "fn1['value_count'] = [23, 6, 54, 25, 1, 1]\n",
        "fn1['mean'] = fn1['count']/fn1['value_count']\n",
        "fn1"
      ],
      "metadata": {
        "id": "cBmCEy4EkpWC"
      },
      "execution_count": null,
      "outputs": []
    },
    {
      "cell_type": "code",
      "source": [
        "fnm = pd.merge(fn0, fn1, how='inner', on='Rank')\n",
        "fnm['sum'] = fnm['mean_x'] + fnm['mean_y']\n",
        "fnm['x_mean'] = fnm['mean_x']/fnm['sum']\n",
        "fnm['y_mean'] = fnm['mean_y']/fnm['sum']\n",
        "fnm\n"
      ],
      "metadata": {
        "id": "DIVtPKXSq9me"
      },
      "execution_count": null,
      "outputs": []
    },
    {
      "cell_type": "code",
      "source": [
        "fnm[[ 'count_y','count_x']].plot(kind='bar', alpha = 0.7)"
      ],
      "metadata": {
        "id": "zjzqGJPA1Thp"
      },
      "execution_count": null,
      "outputs": []
    },
    {
      "cell_type": "code",
      "source": [
        "fnm['y_mean'].mean()"
      ],
      "metadata": {
        "id": "wPqf_oyf76RS"
      },
      "execution_count": null,
      "outputs": []
    },
    {
      "cell_type": "code",
      "source": [
        "fnm[['y_mean','x_mean']].plot(kind='bar', alpha = 0.7,legend = False, stacked=True)\n",
        "plt.axhline(fnm['y_mean'].mean(), color=\"red\", linewidth=0.5);"
      ],
      "metadata": {
        "id": "9lK3_wsyxhLI"
      },
      "execution_count": null,
      "outputs": []
    },
    {
      "cell_type": "code",
      "source": [
        "import matplotlib.pyplot as plt\n",
        "import numpy as np\n",
        "\n",
        "# 그림 사이즈, 바 굵기 조정\n",
        "fig, ax = plt.subplots(figsize=(12,6))\n",
        "bar_width = 0.25\n",
        "\n",
        "# 연도가 4개이므로 0, 1, 2, 3 위치를 기준으로 삼음\n",
        "index = np.arange(6)\n",
        "\n",
        "# 각 연도별로 3개 샵의 bar를 순서대로 나타내는 과정, 각 그래프는 0.25의 간격을 두고 그려짐\n",
        "b1 = plt.bar(index, fnm['mean_x'], bar_width, alpha=0.7, color='skyblue', label='General')\n",
        "\n",
        "b2 = plt.bar(index + bar_width, fnm['mean_y'], bar_width, alpha=0.5, color='blue', label='Promotion')\n",
        "\n",
        "\n",
        "# x축 위치를 정 가운데로 조정하고 x축의 텍스트를 year 정보와 매칭\n",
        "plt.xticks(np.arange(bar_width, 0+ bar_width, 1), rank)\n",
        "\n",
        "# x축, y축 이름 및 범례 설정\n",
        "plt.xlabel('rank', size = 13)\n",
        "plt.ylabel('mean', size = 13)\n",
        "plt.legend()\n",
        "plt.show()"
      ],
      "metadata": {
        "id": "DK0hiIjWrOdo"
      },
      "execution_count": null,
      "outputs": []
    },
    {
      "cell_type": "code",
      "source": [
        "fn5=fn3.groupby(['previous_result', 'promotion'])[['count']].sum().reset_index()\n",
        "fn50 =fn5[fn5['promotion']==0.0]\n",
        "fn51 =fn5[fn5['promotion']==1.0]\n",
        "fn50['value_count'] = [7,5,6]\n",
        "fn50['mean'] = fn50['count']/fn50['value_count']\n",
        "fn51['value_count'] = [7,5,6]\n",
        "fn51['mean'] = fn51['count']/fn51['value_count']\n",
        "\n"
      ],
      "metadata": {
        "id": "r0qNRzDez6tG"
      },
      "execution_count": null,
      "outputs": []
    },
    {
      "cell_type": "code",
      "source": [
        "fn55 = pd.merge(fn50, fn51, how='inner', on='previous_result')\n",
        "fn55\n",
        "fn55['sum'] = fn55['mean_x'] + fn55['mean_y']\n",
        "fn55['x_mean'] = fn55['mean_x']/fn55['sum']\n",
        "fn55['y_mean'] = fn55['mean_y']/fn55['sum']\n",
        "fn55"
      ],
      "metadata": {
        "id": "_AMS3yGn0Xt8"
      },
      "execution_count": null,
      "outputs": []
    },
    {
      "cell_type": "code",
      "source": [
        "fn55[['count_y','count_x']].plot(kind='bar', alpha = 0.7)"
      ],
      "metadata": {
        "id": "ZBxD403H2KZ5"
      },
      "execution_count": null,
      "outputs": []
    },
    {
      "cell_type": "code",
      "source": [
        "fn55['y_mean'].mean()"
      ],
      "metadata": {
        "id": "LQ3_CWDD8krx"
      },
      "execution_count": null,
      "outputs": []
    },
    {
      "cell_type": "code",
      "source": [
        "fn55[[ 'y_mean','x_mean']].plot(kind='bar', alpha = 0.7,legend = False, stacked=True)\n",
        "plt.axhline(fn55['y_mean'].mean(), color=\"red\", linewidth=0.5);"
      ],
      "metadata": {
        "id": "tF4Hr0z20J5Y"
      },
      "execution_count": null,
      "outputs": []
    },
    {
      "cell_type": "code",
      "source": [
        "import matplotlib.pyplot as plt\n",
        "import numpy as np\n",
        "\n",
        "# 그림 사이즈, 바 굵기 조정\n",
        "fig, ax = plt.subplots(figsize=(12,6))\n",
        "bar_width = 0.25\n",
        "\n",
        "# 연도가 4개이므로 0, 1, 2, 3 위치를 기준으로 삼음\n",
        "index = np.arange(3)\n",
        "\n",
        "# 각 연도별로 3개 샵의 bar를 순서대로 나타내는 과정, 각 그래프는 0.25의 간격을 두고 그려짐\n",
        "b1 = plt.bar(index, fn55['count_x'], bar_width, alpha=1, color='skyblue', label='General')\n",
        "\n",
        "b2 = plt.bar(index + bar_width, fn55['count_y'], bar_width, alpha=0.8, color='orange', label='Promotion')\n",
        "\n",
        "\n",
        "# x축 위치를 정 가운데로 조정하고 x축의 텍스트를 year 정보와 매칭\n",
        "plt.xticks(np.arange(bar_width, 0+ bar_width, 1), rank)\n",
        "\n",
        "# x축, y축 이름 및 범례 설정\n",
        "plt.xlabel('previous_result', size = 13)\n",
        "plt.ylabel('count', size = 13)\n",
        "plt.legend()\n",
        "plt.show()"
      ],
      "metadata": {
        "id": "qL9mRk-P6FCX"
      },
      "execution_count": null,
      "outputs": []
    },
    {
      "cell_type": "code",
      "source": [
        "fn6=fn3.groupby(['premium','product_grade_name','promotion'])[['count']].sum().reset_index()\n",
        "fn60 = fn6[fn6['premium']==0]\n",
        "fn61 = fn6[fn6['premium']==1]"
      ],
      "metadata": {
        "id": "cYlLQzjdSwI3"
      },
      "execution_count": null,
      "outputs": []
    },
    {
      "cell_type": "code",
      "source": [
        "fn600 = fn60[fn60['promotion']==0]\n",
        "fn601 = fn60[fn60['promotion']==1]\n",
        "fn600m = pd.merge(fn600, fn601, how='inner', on='product_grade_name')\n",
        "fn600m['sum'] = fn600m['count_x'] + fn600m['count_y']\n",
        "fn600m['mean_0'] = fn600m['count_x']/fn600m['sum']\n",
        "fn600m['mean_1'] = fn600m['count_y']/fn600m['sum']\n",
        "fn600m['count_y'].sum()/fn600m['sum'].sum()"
      ],
      "metadata": {
        "id": "mCEnvqERWKHs"
      },
      "execution_count": null,
      "outputs": []
    },
    {
      "cell_type": "code",
      "source": [
        "import matplotlib.pyplot as plt\n",
        "import numpy as np\n",
        "\n",
        "# 그림 사이즈, 바 굵기 조정\n",
        "fig, ax = plt.subplots(figsize=(12,6))\n",
        "bar_width = 0.25\n",
        "\n",
        "# 연도가 4개이므로 0, 1, 2, 3 위치를 기준으로 삼음\n",
        "index = np.arange(7)\n",
        "\n",
        "# 각 연도별로 3개 샵의 bar를 순서대로 나타내는 과정, 각 그래프는 0.25의 간격을 두고 그려짐\n",
        "b1 = plt.bar(index, fn600m['count_x'], bar_width, alpha=0.7, color='skyblue', label='General')\n",
        "\n",
        "b2 = plt.bar(index + bar_width, fn600m['count_y'], bar_width, alpha=0.5, color='blue', label='Promotion')\n",
        "\n",
        "\n",
        "# x축 위치를 정 가운데로 조정하고 x축의 텍스트를 year 정보와 매칭\n",
        "plt.xticks(np.arange(bar_width, 0+ bar_width, 1), rank)\n",
        "\n",
        "# x축, y축 이름 및 범례 설정\n",
        "plt.xlabel('product_grade', size = 13)\n",
        "plt.ylabel('count', size = 13)\n",
        "plt.legend()\n",
        "plt.show()"
      ],
      "metadata": {
        "id": "LzNEFIj_asNl"
      },
      "execution_count": null,
      "outputs": []
    },
    {
      "cell_type": "code",
      "source": [
        "fn610 = fn61[fn61['promotion']==0]\n",
        "fn611 = fn61[fn61['promotion']==1]\n",
        "fn610m = pd.merge(fn610, fn611, how='inner', on='product_grade_name')\n",
        "fn610m['sum'] = fn610m['count_x'] + fn610m['count_y']\n",
        "fn610m['mean_0'] = fn610m['count_x']/fn610m['sum']\n",
        "fn610m['mean_1'] = fn610m['count_y']/fn610m['sum']\n",
        "fn610m['count_y'].sum()/fn610m['sum'].sum()"
      ],
      "metadata": {
        "id": "5O-U5FfOWSq0"
      },
      "execution_count": null,
      "outputs": []
    },
    {
      "cell_type": "code",
      "source": [
        "fn600m"
      ],
      "metadata": {
        "id": "XPUB9O7Z4gFc"
      },
      "execution_count": null,
      "outputs": []
    },
    {
      "cell_type": "code",
      "source": [
        "fn600m[['count_y','count_x']].plot(kind='bar', alpha = 0.7)"
      ],
      "metadata": {
        "id": "J6xgpgnf4nXS"
      },
      "execution_count": null,
      "outputs": []
    },
    {
      "cell_type": "code",
      "source": [
        "fn600m['mean_1'].mean()"
      ],
      "metadata": {
        "id": "NUj0X7qf-Msk"
      },
      "execution_count": null,
      "outputs": []
    },
    {
      "cell_type": "code",
      "source": [
        "fn600m[[ 'mean_1','mean_0']].plot(kind='bar', alpha = 0.7,legend = False, stacked=True)\n",
        "plt.axhline(fn600m['mean_1'].mean(), color=\"red\", linewidth=0.5);"
      ],
      "metadata": {
        "id": "e8vSNgK85bP0"
      },
      "execution_count": null,
      "outputs": []
    },
    {
      "cell_type": "code",
      "source": [
        "fn610m[['count_y','count_x']].plot(kind='bar', alpha = 0.7)"
      ],
      "metadata": {
        "id": "mEW3l4EC6Uct"
      },
      "execution_count": null,
      "outputs": []
    },
    {
      "cell_type": "code",
      "source": [
        "fn610m['mean_1'].mean()"
      ],
      "metadata": {
        "id": "DHZcE24i989O"
      },
      "execution_count": null,
      "outputs": []
    },
    {
      "cell_type": "code",
      "source": [
        "fn610m[[ 'mean_1','mean_0']].plot(kind='bar', alpha = 0.7,legend = False, stacked=True)\n",
        "plt.axhline(fn610m['mean_1'].mean(), color=\"red\", linewidth=0.5);"
      ],
      "metadata": {
        "id": "BfvaRw2Z92Sa"
      },
      "execution_count": null,
      "outputs": []
    },
    {
      "cell_type": "code",
      "source": [
        "import matplotlib.pyplot as plt\n",
        "import numpy as np\n",
        "\n",
        "# 그림 사이즈, 바 굵기 조정\n",
        "fig, ax = plt.subplots(figsize=(12,6))\n",
        "bar_width = 0.25\n",
        "\n",
        "# 연도가 4개이므로 0, 1, 2, 3 위치를 기준으로 삼음\n",
        "index = np.arange(11)\n",
        "\n",
        "# 각 연도별로 3개 샵의 bar를 순서대로 나타내는 과정, 각 그래프는 0.25의 간격을 두고 그려짐\n",
        "b1 = plt.bar(index, fn610m['count_x'], bar_width, alpha=0.7, color='skyblue', label='General')\n",
        "\n",
        "b2 = plt.bar(index + bar_width, fn610m['count_y'], bar_width, alpha=0.5, color='blue', label='Promotion')\n",
        "\n",
        "\n",
        "# x축 위치를 정 가운데로 조정하고 x축의 텍스트를 year 정보와 매칭\n",
        "plt.xticks(np.arange(bar_width, 0+ bar_width, 1), rank)\n",
        "\n",
        "# x축, y축 이름 및 범례 설정\n",
        "plt.xlabel('product_grade', size = 13)\n",
        "plt.ylabel('count', size = 13)\n",
        "plt.legend()\n",
        "plt.show()"
      ],
      "metadata": {
        "id": "jevZiP4gbghF"
      },
      "execution_count": null,
      "outputs": []
    },
    {
      "cell_type": "code",
      "source": [
        "fn3.columns"
      ],
      "metadata": {
        "id": "Qb2xD2E1pjfQ"
      },
      "execution_count": null,
      "outputs": []
    },
    {
      "cell_type": "code",
      "source": [
        "fn7=fn3.groupby(['premium','promotion','product_denomination_name'])[['count']].sum().reset_index()\n",
        "fn70 = fn7[fn7['premium']==0]\n",
        "fn71 = fn7[fn7['premium']==1]"
      ],
      "metadata": {
        "id": "k6rLDAD0pbIs"
      },
      "execution_count": null,
      "outputs": []
    },
    {
      "cell_type": "code",
      "source": [
        "fn701 = fn70[fn70['promotion']==1]\n",
        "fn711 = fn71[fn71['promotion']==1]"
      ],
      "metadata": {
        "id": "-pZ9QDAzscTK"
      },
      "execution_count": null,
      "outputs": []
    },
    {
      "cell_type": "code",
      "source": [
        "fn701=fn701.sort_values(by='count', ascending=False)\n",
        "fn711=fn711.sort_values(by='count', ascending=False)"
      ],
      "metadata": {
        "id": "TEFUlLXirRJR"
      },
      "execution_count": null,
      "outputs": []
    },
    {
      "cell_type": "code",
      "source": [
        "fn70['count'].sum()"
      ],
      "metadata": {
        "id": "KV4HJr_cUOw0"
      },
      "execution_count": null,
      "outputs": []
    },
    {
      "cell_type": "code",
      "source": [
        "fn701"
      ],
      "metadata": {
        "id": "-gmnmDMpVEli"
      },
      "execution_count": null,
      "outputs": []
    },
    {
      "cell_type": "code",
      "source": [
        "fn701['count'].plot.bar()"
      ],
      "metadata": {
        "id": "2MDErFesqVYb"
      },
      "execution_count": null,
      "outputs": []
    },
    {
      "cell_type": "code",
      "source": [
        "fn711"
      ],
      "metadata": {
        "id": "J5HdpAj9XYZi"
      },
      "execution_count": null,
      "outputs": []
    },
    {
      "cell_type": "code",
      "source": [
        "fn711['count'].plot.bar()"
      ],
      "metadata": {
        "id": "kKpM9Ev3uBU6"
      },
      "execution_count": null,
      "outputs": []
    },
    {
      "cell_type": "code",
      "source": [
        "fn8=fn3.groupby(['Rank','promotion','benefit'])[['count']].sum().reset_index()\n",
        "fn8.head(50)"
      ],
      "metadata": {
        "id": "0_dvwn0CvkNi"
      },
      "execution_count": null,
      "outputs": []
    },
    {
      "cell_type": "code",
      "source": [
        "fn9=fn3.groupby(['Rank','premium'])[['count']].sum().reset_index()\n",
        "fn90 = fn9[fn9['premium']==0]\n",
        "fn91= fn9[fn9['premium']==1]\n",
        "fn9m = pd.merge(fn90, fn91, how='inner', on='Rank')\n",
        "fn9m['value_count'] = [23, 6, 54, 25, 1, 1]\n",
        "fn9m"
      ],
      "metadata": {
        "id": "4v_7oC76oJ70"
      },
      "execution_count": null,
      "outputs": []
    },
    {
      "cell_type": "code",
      "source": [
        "fn9m['mean_x'] = fn9m['count_x']/fn9m['value_count']\n",
        "fn9m['mean_y'] = fn9m['count_y']/fn9m['value_count']\n",
        "fn9m['sum'] = fn9m['mean_x']+ fn9m['mean_y']\n",
        "fn9m['x_mean'] = fn9m['mean_x']/fn9m['sum']\n",
        "fn9m['y_mean'] = fn9m['mean_y']/fn9m['sum']\n",
        "fn9m"
      ],
      "metadata": {
        "id": "TY1-zNixak9w"
      },
      "execution_count": null,
      "outputs": []
    },
    {
      "cell_type": "code",
      "source": [
        "fn9m[[ 'y_mean', 'x_mean']].plot(kind='bar', alpha = 0.7,legend = False, stacked=True)"
      ],
      "metadata": {
        "id": "kvhOiS4cbTcb"
      },
      "execution_count": null,
      "outputs": []
    },
    {
      "cell_type": "code",
      "source": [
        "fn10=fn3.groupby(['game_date','premium'])[['count']].sum().reset_index()\n",
        "fn100 = fn10[fn10['premium']==0]\n",
        "fn101= fn10[fn10['premium']==1]\n",
        "fn10m = pd.merge(fn100, fn101, how='inner', on='game_date')\n",
        "fn10m['sum'] = fn10m['count_x'] + fn10m['count_y']\n",
        "fn10m['mean_0'] = fn10m['count_x']/fn10m['sum']\n",
        "fn10m['mean_1'] = fn10m['count_y']/fn10m['sum']\n",
        "fn10m"
      ],
      "metadata": {
        "id": "H11BsbarceIc"
      },
      "execution_count": null,
      "outputs": []
    },
    {
      "cell_type": "code",
      "source": [
        "fn10m['mean_1']>fn10m['mean_1'].mean()"
      ],
      "metadata": {
        "id": "mvQ_5XnFgHhb"
      },
      "execution_count": null,
      "outputs": []
    },
    {
      "cell_type": "code",
      "source": [
        "fn10m[['count_y','count_x']].plot(kind='bar', alpha = 0.7,legend = False, stacked=True)\n",
        "plt.axhline(fn10m['sum'].mean(), color=\"red\", linewidth=0.5)"
      ],
      "metadata": {
        "id": "UPoxoxqE3hsk"
      },
      "execution_count": null,
      "outputs": []
    },
    {
      "cell_type": "code",
      "source": [],
      "metadata": {
        "id": "D4PlaK2h8fWX"
      },
      "execution_count": null,
      "outputs": []
    },
    {
      "cell_type": "code",
      "source": [
        "fn10m[['mean_1','mean_0']].plot(kind='bar', alpha = 0.7,legend = False, stacked=True)\n",
        "plt.axhline(fn10m['mean_1'].mean(), color=\"red\", linewidth=0.5)"
      ],
      "metadata": {
        "id": "XSBKQmy1dYVw"
      },
      "execution_count": null,
      "outputs": []
    },
    {
      "cell_type": "code",
      "source": [
        "n1 = fn3.groupby(['promotion', 'benefit'])[['count']].sum().reset_index()\n",
        "n2= n1[n1['promotion']==1.0].sort_values(by='count', ascending=False)"
      ],
      "metadata": {
        "id": "iTNNkVBrl4Xs"
      },
      "execution_count": null,
      "outputs": []
    },
    {
      "cell_type": "code",
      "source": [
        "n2"
      ],
      "metadata": {
        "id": "EEm0iQi5rPjg"
      },
      "execution_count": null,
      "outputs": []
    },
    {
      "cell_type": "code",
      "source": [
        "fn12=fn3.groupby(['previous_result','promotion','benefit'])[['count']].sum().reset_index()\n",
        "fn121 =fn12[fn12['promotion']==1.0]\n",
        "fn120 =fn121[fn121['previous_result']==0]\n",
        "fn1211 =fn121[fn121['previous_result']==1]\n",
        "fn122 =fn121[fn121['previous_result']==2]\n"
      ],
      "metadata": {
        "id": "q5LD4LZ2xk26"
      },
      "execution_count": null,
      "outputs": []
    },
    {
      "cell_type": "code",
      "source": [
        "fn122.sort_values(by='count', ascending=False)"
      ],
      "metadata": {
        "id": "S-R05ExQx__c"
      },
      "execution_count": null,
      "outputs": []
    },
    {
      "cell_type": "code",
      "source": [
        "colors = ['#eeeee4', '#eeeee4', '#01579B','#0288D1', '#eeeee4', '#eeeee4', '#eeeee4']\n",
        "explode = [0.05, 0.05, 0.05, 0.05, 0.05, 0.05,0.05]\n",
        "fn122['count'].plot.pie(startangle=245,  explode=explode, colors=colors,autopct = '%.1f%%')"
      ],
      "metadata": {
        "id": "MOGVOdFL2eIk"
      },
      "execution_count": null,
      "outputs": []
    },
    {
      "cell_type": "code",
      "source": [
        "fn1211.sort_values(by='count', ascending=False)"
      ],
      "metadata": {
        "id": "jJ5bjbRVyOCK"
      },
      "execution_count": null,
      "outputs": []
    },
    {
      "cell_type": "code",
      "source": [
        "fn122.sort_values(by='count', ascending=False)"
      ],
      "metadata": {
        "id": "9VKFC7oryPsz"
      },
      "execution_count": null,
      "outputs": []
    },
    {
      "cell_type": "code",
      "source": [
        "fn13=fn3.groupby(['premium','promotion','product_denomination_name'])[['count']].sum().reset_index()\n",
        "fn130 = fn13[fn13['premium']==0]\n",
        "fn131 = fn13[fn13['premium']==1]\n",
        "fn130 = fn130[fn130['promotion']==1]\n",
        "fn131 = fn131[fn131['promotion']==1]"
      ],
      "metadata": {
        "id": "Z-JpYRUY6f_N"
      },
      "execution_count": null,
      "outputs": []
    },
    {
      "cell_type": "code",
      "source": [
        "fn130 = fn130.sort_values(by='count', ascending=False)\n",
        "fn130"
      ],
      "metadata": {
        "id": "WgNpKGu28FTI"
      },
      "execution_count": null,
      "outputs": []
    },
    {
      "cell_type": "code",
      "source": [
        "fn130['count'].plot.bar()"
      ],
      "metadata": {
        "id": "XTx9V8i881UI"
      },
      "execution_count": null,
      "outputs": []
    },
    {
      "cell_type": "code",
      "source": [
        "fn131=fn131.sort_values(by='count', ascending=False)\n",
        "fn131"
      ],
      "metadata": {
        "id": "1HWo8BeN8RTL"
      },
      "execution_count": null,
      "outputs": []
    },
    {
      "cell_type": "code",
      "source": [
        "fn131['count'].plot.bar()"
      ],
      "metadata": {
        "id": "fDM_CzimwFax"
      },
      "execution_count": null,
      "outputs": []
    },
    {
      "cell_type": "code",
      "source": [
        "df6 = pd.read_csv('/content/drive/MyDrive/schedule2022120221019212245.csv')\n",
        "df6au=df6[['game_date', 'home_team_name','audience']]\n",
        "df6au=df6au[df6au['home_team_name']=='인천']\n",
        "df6au['audience'].plot.bar()\n",
        "plt.axhline(df6au['audience'].mean(), color=\"red\", linewidth=0.5);"
      ],
      "metadata": {
        "id": "ugu222u45ONH"
      },
      "execution_count": null,
      "outputs": []
    },
    {
      "cell_type": "code",
      "source": [
        "fn14=fn3.groupby(['Rank', 'premium'])[['count']].sum().reset_index()\n",
        "fn140 = fn14[fn14['premium']==0]\n",
        "fn141 = fn14[fn14['premium']==1]\n",
        "fn14m = pd.merge(fn140, fn141, how='inner', on='Rank')\n",
        "fn14m['sum'] = fn14m['count_x']+fn14m['count_y']\n",
        "fn14m['mean_x'] = fn14m['count_x']/fn14m['sum']\n",
        "fn14m['mean_y'] = fn14m['count_y']/fn14m['sum']\n",
        "fn14m"
      ],
      "metadata": {
        "id": "Kp96yRv9_iA0"
      },
      "execution_count": null,
      "outputs": []
    },
    {
      "cell_type": "code",
      "source": [
        "a11 = pd.read_csv('/content/drive/MyDrive/a11.csv')"
      ],
      "metadata": {
        "id": "ItPON_OvTKPO"
      },
      "execution_count": null,
      "outputs": []
    },
    {
      "cell_type": "code",
      "source": [
        "a11s = a11[a11['category']=='좌석']\n",
        "a11s.rename(columns = {'answer_index' : 'sitting_index'}, inplace=True)\n",
        "a11s['date'] = a11s.date.str.replace('/', '-', regex = True)\n",
        "a11s\n",
        "\n",
        "a11t = a11[a11['category']=='티켓']\n",
        "a11t.rename(columns = {'answer_index' : 'ticket_index'}, inplace=True)\n",
        "a11t['date'] = a11t.date.str.replace('/', '-', regex = True)\n",
        "a11t\n",
        "\n",
        "a11p = a11[a11['category']=='특성화']\n",
        "a11p.rename(columns = {'answer_index' : 'premium_index'}, inplace=True)\n",
        "a11p['date'] = a11p.date.str.replace('/', '-', regex = True)\n",
        "a11p\n",
        "\n",
        "a11m = a11[a11['category']=='MD샵']\n",
        "a11m.rename(columns = {'answer_index' : 'md_index'}, inplace=True)\n",
        "a11m['date'] = a11p.date.str.replace('/', '-', regex = True)\n",
        "a11m\n",
        "\n",
        "a11g = a11[a11['category']=='게이트 운영']\n",
        "a11g.rename(columns = {'answer_index' : 'gate_index'}, inplace=True)\n",
        "a11g['date'] = a11p.date.str.replace('/', '-', regex = True)\n",
        "a11g"
      ],
      "metadata": {
        "id": "rfw5896yUYkg"
      },
      "execution_count": null,
      "outputs": []
    },
    {
      "cell_type": "code",
      "source": [
        "a11s = a11s.groupby(['MB_IDX','date'])[['sitting_index']].sum().reset_index()\n",
        "cols = ['MB_IDX', 'date']\n",
        "a11s['Mg'] =a11s[cols].apply(lambda row: ' '.join(row.values.astype(str)), axis=1)\n",
        "a11s=a11s[['Mg', 'sitting_index']]\n",
        "\n",
        "a11t = a11t.groupby(['MB_IDX','date'])[['ticket_index']].sum().reset_index()\n",
        "cols = ['MB_IDX', 'date']\n",
        "a11t['Mg'] =a11t[cols].apply(lambda row: ' '.join(row.values.astype(str)), axis=1)\n",
        "a11t=a11t[['Mg', 'ticket_index']]\n",
        "\n",
        "a11p = a11p.groupby(['MB_IDX','date'])[['premium_index']].sum().reset_index()\n",
        "cols = ['MB_IDX', 'date']\n",
        "a11p['Mg'] =a11p[cols].apply(lambda row: ' '.join(row.values.astype(str)), axis=1)\n",
        "a11p=a11p[['Mg', 'premium_index']]\n",
        "\n",
        "a11m = a11m.groupby(['MB_IDX','date'])[['md_index']].sum().reset_index()\n",
        "cols = ['MB_IDX', 'date']\n",
        "a11m['Mg'] =a11m[cols].apply(lambda row: ' '.join(row.values.astype(str)), axis=1)\n",
        "a11m=a11m[['Mg', 'md_index']]\n",
        "\n",
        "a11g = a11g.groupby(['MB_IDX','date'])[['gate_index']].sum().reset_index()\n",
        "cols = ['MB_IDX', 'date']\n",
        "a11g['Mg'] =a11g[cols].apply(lambda row: ' '.join(row.values.astype(str)), axis=1)\n",
        "a11g=a11g[['Mg', 'gate_index']]"
      ],
      "metadata": {
        "id": "Tg-CRGAPTzSc"
      },
      "execution_count": null,
      "outputs": []
    },
    {
      "cell_type": "code",
      "source": [
        "final.columns"
      ],
      "metadata": {
        "id": "wdmxYZyDHyL1"
      },
      "execution_count": null,
      "outputs": []
    },
    {
      "cell_type": "code",
      "source": [
        "cols = ['MB_IDX_x', 'game_date']\n",
        "final['Mg'] =final[cols].apply(lambda row: ' '.join(row.values.astype(str)), axis=1)\n",
        "final.head(3)"
      ],
      "metadata": {
        "id": "UShr5QvjLoUI"
      },
      "execution_count": null,
      "outputs": []
    },
    {
      "cell_type": "code",
      "source": [
        "a11.MB_IDX.nunique()"
      ],
      "metadata": {
        "id": "42y8Spc9YLfr"
      },
      "execution_count": null,
      "outputs": []
    },
    {
      "cell_type": "code",
      "source": [
        "fi = final[['Mg','MB_IDX_x', 'game_date', 'game_time_y', 'survey_participant', 'participant','day', 'previous_result', 'weather','temperature', 'product_grade_name', 'product_denomination_name', 'Rank', 'benefit','count', 'promotion', 'premium']]\n",
        "ance = pd.merge(fi, a11s, how='outer', on='Mg')\n",
        "ance = pd.merge(ance, a11t, how='outer', on='Mg')\n",
        "ance =pd.merge(ance, a11p, how='outer', on='Mg')\n",
        "ance = pd.merge(ance, a11m, how='outer', on='Mg')\n",
        "ance = pd.merge(ance, a11g, how='outer', on='Mg')"
      ],
      "metadata": {
        "id": "WQQgIrq2H_cU"
      },
      "execution_count": null,
      "outputs": []
    },
    {
      "cell_type": "code",
      "source": [
        "ance.to_csv('ance.csv', index=False)"
      ],
      "metadata": {
        "id": "cRak7tYJNzrV"
      },
      "execution_count": null,
      "outputs": []
    },
    {
      "cell_type": "code",
      "source": [
        "ance.columns"
      ],
      "metadata": {
        "id": "ZhAcnMrZc5hS"
      },
      "execution_count": null,
      "outputs": []
    },
    {
      "cell_type": "code",
      "source": [
        "ance1 = ance[['MB_IDX_x', 'game_date', 'sitting_index', 'product_grade_name', 'premium']]\n",
        "ance1['count'] = 1\n",
        "ance2 = ance[['MB_IDX_x', 'game_date', 'ticket_index', 'product_grade_name', 'product_denomination_name','benefit','premium']]\n",
        "ance2['count'] = 1\n",
        "ance3 = ance[['MB_IDX_x', 'game_date', 'premium_index', 'product_grade_name', 'product_denomination_name','premium']]\n",
        "ance3['count'] = 1"
      ],
      "metadata": {
        "id": "v-pnEl_Qc3R-"
      },
      "execution_count": null,
      "outputs": []
    },
    {
      "cell_type": "code",
      "source": [
        "ance1g=ance1.groupby(['sitting_index','product_grade_name'])[['count']].sum().reset_index()\n",
        "ance10 = ance1g[ance1g['sitting_index']==0]\n",
        "ance11 = ance1g[ance1g['sitting_index']==1]\n",
        "ance12 = ance1g[ance1g['sitting_index']==2]\n",
        "ance13 = ance1g[ance1g['sitting_index']==3]\n",
        "ance14 = ance1g[ance1g['sitting_index']==4]\n",
        "\n",
        "ance2g=ance2.groupby(['ticket_index','benefit'])[['count']].sum().reset_index()\n",
        "ance20 = ance2g[ance2g['ticket_index']==0]\n",
        "ance21 = ance2g[ance2g['ticket_index']==1]\n",
        "ance22 = ance2g[ance2g['ticket_index']==2]\n",
        "ance23 = ance2g[ance2g['ticket_index']==3]\n",
        "ance24 = ance2g[ance2g['ticket_index']==4]\n",
        "\n",
        "ance3g=ance3.groupby(['premium_index','product_grade_name'])[['count']].sum().reset_index()\n",
        "ance30 = ance3g[ance3g['premium_index']==0]\n",
        "ance31 = ance3g[ance3g['premium_index']==1]\n",
        "ance32 = ance3g[ance3g['premium_index']==2]\n",
        "ance33 = ance3g[ance3g['premium_index']==3]\n",
        "ance34 = ance3g[ance3g['premium_index']==4]\n",
        "\n",
        "ance10['count'].plot.bar()"
      ],
      "metadata": {
        "id": "cBCZNOuNeg4B"
      },
      "execution_count": null,
      "outputs": []
    },
    {
      "cell_type": "code",
      "source": [
        "ance10.rename(columns = {'count' : 'count_0'}, inplace=True)\n",
        "ance11.rename(columns = {'count' : 'count_1'}, inplace=True)\n",
        "ance12.rename(columns = {'count' : 'count_2'}, inplace=True)\n",
        "ance13.rename(columns = {'count' : 'count_3'}, inplace=True)\n",
        "ance14.rename(columns = {'count' : 'count_4'}, inplace=True)\n",
        "\n",
        "ance20.rename(columns = {'count' : 'count_0'}, inplace=True)\n",
        "ance21.rename(columns = {'count' : 'count_1'}, inplace=True)\n",
        "ance22.rename(columns = {'count' : 'count_2'}, inplace=True)\n",
        "ance23.rename(columns = {'count' : 'count_3'}, inplace=True)\n",
        "ance24.rename(columns = {'count' : 'count_4'}, inplace=True)\n",
        "\n",
        "ance30.rename(columns = {'count' : 'count_0'}, inplace=True)\n",
        "ance31.rename(columns = {'count' : 'count_1'}, inplace=True)\n",
        "ance32.rename(columns = {'count' : 'count_2'}, inplace=True)\n",
        "ance33.rename(columns = {'count' : 'count_3'}, inplace=True)\n",
        "ance34.rename(columns = {'count' : 'count_4'}, inplace=True)"
      ],
      "metadata": {
        "id": "VFjXqOkYj5qc"
      },
      "execution_count": null,
      "outputs": []
    },
    {
      "cell_type": "code",
      "source": [
        "ance100 =pd.merge(ance10, ance11, how='outer', on='product_grade_name')\n",
        "ance120 = pd.merge(ance100, ance12, how='outer', on='product_grade_name')\n",
        "ance130 = pd.merge(ance120, ance13, how='outer', on='product_grade_name')\n",
        "ance140 = pd.merge(ance130, ance14, how='outer', on='product_grade_name')\n",
        "ance140\n",
        "\n",
        "ance200 =pd.merge(ance20, ance21, how='outer', on='benefit')\n",
        "ance220 = pd.merge(ance200, ance22, how='outer', on='benefit')\n",
        "ance230 = pd.merge(ance220, ance23, how='outer', on='benefit')\n",
        "ance240 = pd.merge(ance230, ance24, how='outer', on='benefit')\n",
        "ance240\n",
        "\n",
        "ance300 =pd.merge(ance30, ance31, how='outer', on='product_grade_name')\n",
        "ance320 = pd.merge(ance300, ance32, how='outer', on='product_grade_name')\n",
        "ance330 = pd.merge(ance320, ance33, how='outer', on='product_grade_name')\n",
        "ance340 = pd.merge(ance330, ance34, how='outer', on='product_grade_name')\n",
        "ance340"
      ],
      "metadata": {
        "id": "L4S-LIRjgv9D"
      },
      "execution_count": null,
      "outputs": []
    },
    {
      "cell_type": "code",
      "source": [
        "ance140['count_0'] = ance140['count_0'].fillna(0)\n",
        "ance140['count_1'] = ance140['count_1'].fillna(0)\n",
        "ance140['count_2'] = ance140['count_2'].fillna(0)\n",
        "ance140['count_3'] = ance140['count_3'].fillna(0)\n",
        "ance140['count_4'] = ance140['count_4'].fillna(0)\n",
        "\n",
        "ance240['count_0'] = ance240['count_0'].fillna(0)\n",
        "ance240['count_1'] = ance240['count_1'].fillna(0)\n",
        "ance240['count_2'] = ance240['count_2'].fillna(0)\n",
        "ance240['count_3'] = ance240['count_3'].fillna(0)\n",
        "ance240['count_4'] = ance240['count_4'].fillna(0)\n",
        "\n",
        "ance340['count_0'] = ance340['count_0'].fillna(0)\n",
        "ance340['count_1'] = ance340['count_1'].fillna(0)\n",
        "ance340['count_2'] = ance340['count_2'].fillna(0)\n",
        "ance340['count_3'] = ance340['count_3'].fillna(0)\n",
        "ance340['count_4'] = ance340['count_4'].fillna(0)"
      ],
      "metadata": {
        "id": "A9lLQjOujOD5"
      },
      "execution_count": null,
      "outputs": []
    },
    {
      "cell_type": "code",
      "source": [
        "ance140['sum'] = ance140['count_0'] + ance140['count_1'] + ance140['count_2'] + ance140['count_3'] + ance140['count_4']\n",
        "ance240['sum'] = ance240['count_0'] + ance240['count_1'] + ance240['count_2'] + ance240['count_3'] + ance240['count_4']\n",
        "ance340['sum'] = ance340['count_0'] + ance340['count_1'] + ance340['count_2'] + ance340['count_3'] + ance340['count_4']\n",
        "ance140"
      ],
      "metadata": {
        "id": "GVcSnxtjhadZ"
      },
      "execution_count": null,
      "outputs": []
    },
    {
      "cell_type": "code",
      "source": [
        "ance140['mean_0'] = ance140['count_0']/ance140['sum']\n",
        "ance140['mean_1'] = ance140['count_1']/ance140['sum']\n",
        "ance140['mean_2'] = ance140['count_2']/ance140['sum']\n",
        "ance140['mean_3'] = ance140['count_3']/ance140['sum']\n",
        "ance140['mean_4'] = ance140['count_4']/ance140['sum']\n",
        "ance140\n",
        "\n",
        "ance240['mean_0'] = ance240['count_0']/ance240['sum']\n",
        "ance240['mean_1'] = ance240['count_1']/ance240['sum']\n",
        "ance240['mean_2'] = ance240['count_2']/ance240['sum']\n",
        "ance240['mean_3'] = ance240['count_3']/ance240['sum']\n",
        "ance240['mean_4'] = ance240['count_4']/ance240['sum']\n",
        "\n",
        "ance340['mean_0'] = ance340['count_0']/ance340['sum']\n",
        "ance340['mean_1'] = ance340['count_1']/ance340['sum']\n",
        "ance340['mean_2'] = ance340['count_2']/ance340['sum']\n",
        "ance340['mean_3'] = ance340['count_3']/ance340['sum']\n",
        "ance340['mean_4'] = ance340['count_4']/ance340['sum']"
      ],
      "metadata": {
        "id": "DgS1FZxqklkI"
      },
      "execution_count": null,
      "outputs": []
    },
    {
      "cell_type": "code",
      "source": [
        "ance140[['product_grade_name','sum','mean_0', 'mean_1', 'mean_2', 'mean_3', 'mean_4']]"
      ],
      "metadata": {
        "id": "tQtApjNHrifC"
      },
      "execution_count": null,
      "outputs": []
    },
    {
      "cell_type": "code",
      "source": [
        "ance140[['mean_0', 'mean_1', 'mean_2', 'mean_3', 'mean_4']].plot(kind='bar', alpha = 0.7,legend=False, stacked=True)"
      ],
      "metadata": {
        "id": "ZEecnAock_Ta"
      },
      "execution_count": null,
      "outputs": []
    },
    {
      "cell_type": "code",
      "source": [
        "ance240"
      ],
      "metadata": {
        "id": "roGCS74gpit2"
      },
      "execution_count": null,
      "outputs": []
    },
    {
      "cell_type": "code",
      "source": [
        "ance240[['benefit','sum','mean_0', 'mean_1', 'mean_2', 'mean_3', 'mean_4']]"
      ],
      "metadata": {
        "id": "yi0TpY1MJmDW"
      },
      "execution_count": null,
      "outputs": []
    },
    {
      "cell_type": "code",
      "source": [
        "ance240[['mean_0', 'mean_1', 'mean_2', 'mean_3', 'mean_4']].plot(kind='bar', alpha = 0.7,legend=False, stacked=True)"
      ],
      "metadata": {
        "id": "CjgTEV5bo0Mt"
      },
      "execution_count": null,
      "outputs": []
    },
    {
      "cell_type": "code",
      "source": [
        "ance340[['product_grade_name', 'sum', 'mean_0', 'mean_1', 'mean_2', 'mean_3', 'mean_4']]"
      ],
      "metadata": {
        "id": "bHsW4Isxp8n8"
      },
      "execution_count": null,
      "outputs": []
    },
    {
      "cell_type": "code",
      "source": [
        "ance340[['mean_0', 'mean_1', 'mean_2', 'mean_3', 'mean_4']].plot(kind='bar', alpha = 0.7,legend=False, stacked=True)"
      ],
      "metadata": {
        "id": "-ckbZjn9o1kX"
      },
      "execution_count": null,
      "outputs": []
    },
    {
      "cell_type": "code",
      "source": [
        "answer = pd.read_csv('/content/drive/MyDrive/customer_expect_2.csv') \n",
        "answer"
      ],
      "metadata": {
        "id": "7MnJdGdTUDRt"
      },
      "execution_count": null,
      "outputs": []
    },
    {
      "cell_type": "code",
      "source": [
        "cols = ['MB_IDX', 'game_date']\n",
        "answer['Mg'] =answer[cols].apply(lambda row: ' '.join(row.values.astype(str)), axis=1)"
      ],
      "metadata": {
        "id": "xXnQ3fHeR-v_"
      },
      "execution_count": null,
      "outputs": []
    },
    {
      "cell_type": "code",
      "source": [
        "fi = final[['Mg','MB_IDX_x', 'game_date', 'game_time_y', 'survey_participant', 'participant','day', 'previous_result', 'weather','temperature', 'product_grade_name', 'product_denomination_name', 'Rank', 'benefit','count', 'promotion', 'premium']]\n",
        "answerm = pd.merge(fi, answer, how='outer', on='Mg')\n",
        "answerm.to_csv('answerm.csv', index=False)"
      ],
      "metadata": {
        "id": "0KxEKkDbUcwB"
      },
      "execution_count": null,
      "outputs": []
    },
    {
      "cell_type": "code",
      "source": [
        "answerm.columns"
      ],
      "metadata": {
        "id": "zm0P7iMuMaUp"
      },
      "execution_count": null,
      "outputs": []
    },
    {
      "cell_type": "code",
      "source": [
        "answer2=answerm[['MB_IDX_x','game_date_x','temperature','product_grade_name','product_denomination_name','Rank','benefit',\n",
        "       'promotion', 'premium','answer_index']]\n",
        "answer2.rename(columns = {'game_date_x' : 'game_date'}, inplace=True)\n",
        "answer2.head(3)"
      ],
      "metadata": {
        "id": "raSqgKuLZ1MB"
      },
      "execution_count": null,
      "outputs": []
    },
    {
      "cell_type": "code",
      "source": [
        "game_goal = pd.read_csv('/content/drive/MyDrive/game_goal.csv') \n",
        "game_goal.head(3)"
      ],
      "metadata": {
        "id": "DeIzWgY8fdG4"
      },
      "execution_count": null,
      "outputs": []
    },
    {
      "cell_type": "code",
      "source": [
        "answerf = pd.merge(answer2,game_goal, how='outer', on='game_date')\n",
        "answerf = answerf.drop_duplicates()\n",
        "answerf.rename(columns = {'total goal' : 'total_goal'}, inplace=True)"
      ],
      "metadata": {
        "id": "O2Q1eIl2ghJB"
      },
      "execution_count": null,
      "outputs": []
    },
    {
      "cell_type": "code",
      "source": [
        "answerf= answerf.dropna(subset=['answer_index'])\n",
        "answerf.head(3)"
      ],
      "metadata": {
        "id": "yW_bW1Ilhxbx"
      },
      "execution_count": null,
      "outputs": []
    },
    {
      "cell_type": "code",
      "source": [
        "answerf.corr()['answer_index'].sort_values(ascending=False).head(10)"
      ],
      "metadata": {
        "id": "ABhqIfbMiGjd"
      },
      "execution_count": null,
      "outputs": []
    },
    {
      "cell_type": "code",
      "source": [
        "sns.histplot(answerf['answer_index'], bins=15);"
      ],
      "metadata": {
        "id": "nS1Pu3jbjrD5"
      },
      "execution_count": null,
      "outputs": []
    },
    {
      "cell_type": "code",
      "source": [
        "answerf.columns"
      ],
      "metadata": {
        "id": "ou0FWSyfk2Y5"
      },
      "execution_count": null,
      "outputs": []
    },
    {
      "cell_type": "code",
      "source": [
        "# 범주형 컬럼과 타겟과의 관계\n",
        "fig = plt.figure()\n",
        "fig.set_size_inches(24, 12)\n",
        "(ax1, ax2, ax3), (ax4, ax5, ax6) = fig.subplots(nrows=2, ncols=3)\n",
        "sns.boxplot(data=answerf, x='weather', y='answer_index', ax=ax1)\n",
        "ax1.set_title('weather - promotion')\n",
        "sns.boxplot(data=answerf, x='day', y='answer_index', ax=ax2)\n",
        "ax2.set_title('answer_index - day')\n",
        "sns.boxplot(data=answerf, x='Rank',y='answer_index', ax=ax3)\n",
        "ax3.set_title('answer_index - Rank')\n",
        "\n",
        "# 수치형 컬럼과 타겟과의 관계\n",
        "sns.scatterplot(data=answerf, x='audiences', y='answer_index', ax=ax4)\n",
        "ax4.set_title('answer_index - audiences')\n",
        "sns.boxplot(data=answerf, x='total_goal', y='answer_index', ax=ax5)\n",
        "ax5.set_title('SalePrice - total_goal')\n",
        "sns.boxplot(data=answerf, x='hometeam_goal', y='answer_index', ax=ax6)\n",
        "ax6.set_title('SalePrice - hometeam_goal')"
      ],
      "metadata": {
        "id": "Z0JhxKzrkCLl"
      },
      "execution_count": null,
      "outputs": []
    },
    {
      "cell_type": "code",
      "source": [
        "answerf.columns"
      ],
      "metadata": {
        "id": "_jV1EGTGonze"
      },
      "execution_count": null,
      "outputs": []
    },
    {
      "cell_type": "code",
      "source": [
        "answerf[['Rank','premium', 'promotion','game_time','game_result','previous_result', 'day', 'weather']] = answerf[['Rank','premium',  'promotion','game_time','game_result','previous_result', 'day', 'weather']].astype('object')"
      ],
      "metadata": {
        "id": "jhJUUBKPoPVU"
      },
      "execution_count": null,
      "outputs": []
    },
    {
      "cell_type": "code",
      "source": [
        "answerf = answerf.dropna(subset=['answer_index'])\n",
        "answerf.info()"
      ],
      "metadata": {
        "id": "Id_zR2fUqo0u"
      },
      "execution_count": null,
      "outputs": []
    },
    {
      "cell_type": "code",
      "source": [
        "from sklearn.model_selection import train_test_split\n",
        "X = answerf.drop('answer_index', axis=1)\n",
        "y = answerf['answer_index']\n",
        "\n",
        "X_train, X_test, y_train, y_test = train_test_split(X, y, test_size=0.2, random_state=42)"
      ],
      "metadata": {
        "id": "Jtjb3wavntkm"
      },
      "execution_count": null,
      "outputs": []
    },
    {
      "cell_type": "code",
      "source": [
        "X_train.shape, X_test.shape, y_train.shape, y_test.shape"
      ],
      "metadata": {
        "id": "-JF8GJGPn3e3"
      },
      "execution_count": null,
      "outputs": []
    },
    {
      "cell_type": "code",
      "source": [
        "numeric_feats = X_train.dtypes[X_train.dtypes != \"object\"].index\n",
        "\n",
        "scaler = StandardScaler()\n",
        "X_train[numeric_feats] = scaler.fit_transform(X_train[numeric_feats])\n",
        "X_test[numeric_feats] = scaler.transform(X_test[numeric_feats])"
      ],
      "metadata": {
        "id": "TG5-xdwCoCYn"
      },
      "execution_count": null,
      "outputs": []
    },
    {
      "cell_type": "code",
      "source": [
        "X_train[numeric_feats].describe().T[['mean', 'std']]"
      ],
      "metadata": {
        "id": "SMWRtEcupzAj"
      },
      "execution_count": null,
      "outputs": []
    },
    {
      "cell_type": "code",
      "source": [
        "from category_encoders import OneHotEncoder\n",
        "\n",
        "ohe = OneHotEncoder()\n",
        "\n",
        "# 인코딩하는 방법을 눈여겨 보세요.\n",
        "\n",
        "X_train_ohe = ohe.fit_transform(X_train)\n",
        "X_test_ohe = ohe.transform(X_test)"
      ],
      "metadata": {
        "id": "BcLhjXZHqAjf"
      },
      "execution_count": null,
      "outputs": []
    },
    {
      "cell_type": "code",
      "source": [
        "ohe.category_mapping"
      ],
      "metadata": {
        "id": "v211SiyeqNEC"
      },
      "execution_count": null,
      "outputs": []
    },
    {
      "cell_type": "code",
      "source": [
        "from sklearn.metrics import r2_score, mean_absolute_error\n",
        "\n",
        "baseline = [y_train.mean()] * len(y_train)\n",
        "baseline_r2 = r2_score(y_train, baseline)\n",
        "baseline_mae = mean_absolute_error(y_train, baseline)\n",
        "print(f'기준모델의 r2_score: {baseline_r2}')\n",
        "print(f'기준모델의 mae : {baseline_mae}')"
      ],
      "metadata": {
        "id": "bNB4_lbcqSXQ"
      },
      "execution_count": null,
      "outputs": []
    },
    {
      "cell_type": "code",
      "source": [
        "def print_score(model, X_train, y_train, X_test, y_test) :\n",
        "\n",
        "    train_score = np.round(model.score(X_train, y_train) , 3)\n",
        "    val_score = np.round(np.mean(cross_val_score(model, X_train, y_train, scoring='r2', cv=3).round(3)),3)\n",
        "    test_score = np.round(model.score(X_test, y_test),3)\n",
        "    print(f'학습 세트 r2_score : {train_score}')\n",
        "    print(f'검증 세트 r2_score : {val_score}')\n",
        "    print(f'테스트 세트 r2_score : {test_score}')\n",
        "\n",
        "    return train_score, val_score, test_score"
      ],
      "metadata": {
        "id": "8B3yUY8GriS0"
      },
      "execution_count": null,
      "outputs": []
    },
    {
      "cell_type": "code",
      "source": [
        "from sklearn.model_selection import cross_val_score\n",
        "\n",
        "# 선형회귀를 ols라는 객체에 저장합니다. \n",
        "ols = LinearRegression()\n",
        "\n",
        "# 모델 학습\n",
        "ols.fit(X_train_ohe, y_train)\n",
        "\n",
        "# 성능 비교\n",
        "ols_train, ols_val, ols_test = print_score(ols,X_train_ohe, y_train, X_test_ohe, y_test)"
      ],
      "metadata": {
        "id": "5GrOZ9kQrkuI"
      },
      "execution_count": null,
      "outputs": []
    },
    {
      "cell_type": "code",
      "source": [
        "ols_coef = pd.Series(ols.coef_, X_train_ohe.columns)\n",
        "ols_coef.sort_values(ascending=False).head(20)"
      ],
      "metadata": {
        "id": "ongUBhBmroRp"
      },
      "execution_count": null,
      "outputs": []
    },
    {
      "cell_type": "code",
      "source": [
        "from sklearn.feature_selection import f_regression, SelectKBest\n",
        "\n",
        "# selector를 정의합니다. \n",
        "\n",
        "\n",
        "selector = SelectKBest(score_func= f_regression, k=50)\n",
        "\n",
        "# 학습 데이터에 fit_transform\n",
        "X_train_selected = selector.fit_transform(X_train_ohe, y_train)\n",
        "\n",
        "# 테스트 데이터는 transform\n",
        "X_test_selected = selector.transform(X_test_ohe)"
      ],
      "metadata": {
        "id": "3BYiYy88sDxk"
      },
      "execution_count": null,
      "outputs": []
    },
    {
      "cell_type": "code",
      "source": [
        "# 어떤 특성이 선택되었는지 확인해봅시다.\n",
        "selector.get_feature_names_out()"
      ],
      "metadata": {
        "id": "9BNjExEOsGws"
      },
      "execution_count": null,
      "outputs": []
    },
    {
      "cell_type": "code",
      "source": [
        "# 다중선형회귀의 회귀계수 크기가 큰 상위 50개와 selectkbest로 선택된 50개를 비교해봤을 때 총 3개의 특성이 겹칩니다.\n",
        "intersection_coef = set(ols_coef.head(50).index) & set(selector.get_feature_names_out())\n",
        "print(len(intersection_coef))\n",
        "print(intersection_coef)\n",
        "\n",
        "# 타겟값과 상관계수가 가장 큰 50개의 컬럼과 비교했을 때는 36개가 겹칩니다. \n",
        "# 특성들과 타겟간의 상관관계를 구하는 방법이 다르기 때문에 결과가 다르게 나옵니다.\n",
        "tmp = pd.concat([X_train_ohe, y_train], axis=1).corr()['answer_index'].sort_values(ascending=False)[1:51]\n",
        "intersection_corr = set(tmp.index) & set(selector.get_feature_names_out())\n",
        "print(len(intersection_corr))\n",
        "print(intersection_corr)"
      ],
      "metadata": {
        "id": "g0dhnyGzsMAD"
      },
      "execution_count": null,
      "outputs": []
    },
    {
      "cell_type": "code",
      "source": [
        "# 50개의 특성으로 다중선형회귀 모델을 만들어보겠습니다.\n",
        "ols_fs = LinearRegression()\n",
        "ols_fs.fit(X_train_selected, y_train)\n",
        "\n",
        "# 성능 비교\n",
        "ols_fs_train, ols_fs_val, ols_fs_test = print_score(ols_fs, X_train_selected, y_train, X_test_selected, y_test)"
      ],
      "metadata": {
        "id": "3BbJaK8wsRdU"
      },
      "execution_count": null,
      "outputs": []
    },
    {
      "cell_type": "code",
      "source": [
        "ols_fs_coef = pd.Series(ols_fs.coef_, selector.get_feature_names_out())\n",
        "ols_fs_coef.sort_values(ascending=False)"
      ],
      "metadata": {
        "id": "aoQWF3xAsaXN"
      },
      "execution_count": null,
      "outputs": []
    },
    {
      "cell_type": "code",
      "source": [
        "# 상위 20개의 특성의 회귀계수만 시각화해보겠습니다.\n",
        "\n",
        "ols_fs_coef.sort_values().tail(20).plot.barh(figsize=(6, 8))\n",
        "plt.show()"
      ],
      "metadata": {
        "id": "VKCzzww5sc9S"
      },
      "execution_count": null,
      "outputs": []
    },
    {
      "cell_type": "code",
      "source": [
        "from sklearn.linear_model import RidgeCV, LassoCV"
      ],
      "metadata": {
        "id": "9I6OSoXvsu3a"
      },
      "execution_count": null,
      "outputs": []
    },
    {
      "cell_type": "code",
      "source": [
        "\n",
        "\"\"\"\n",
        "패널티값(alpha)이 커질수록 회귀계수가 작아지는 것을 그래프로 확인해보세요.\n",
        "\"\"\"\n",
        "\n",
        "for alpha in [0.000001, 0.001, 0.01, 1.0, 100]:\n",
        "        \n",
        "    print(f'Lasso Regression, alpha={alpha}')\n",
        "\n",
        "    # Ridge 모델 학습\n",
        "    lasso = Lasso(alpha=alpha)  \n",
        "    lasso.fit(X_train_ohe, y_train)\n",
        "\n",
        "    # 성능 확인\n",
        "    print_score(lasso, X_train_ohe, y_train, X_test_ohe, y_test)\n",
        "\n",
        "    # plot coefficients\n",
        "    # 절대값 상위 40개의 회귀계수만 그래프에 나타냈습니다. \n",
        "    coefficients = pd.Series(lasso.coef_, X_train_ohe.columns)\n",
        "    idx = np.abs(coefficients).head(40).index\n",
        "    plt.figure(figsize=(6, 8))\n",
        "    coefficients[idx].sort_values().plot.barh()\n",
        "    plt.show()"
      ],
      "metadata": {
        "id": "q3ty3I1qsw7o"
      },
      "execution_count": null,
      "outputs": []
    },
    {
      "cell_type": "code",
      "source": [
        "finaln = final[final['cancel_yn']=='N']\n",
        "finaln.head(3)"
      ],
      "metadata": {
        "id": "Mp7lN-LaZyMv"
      },
      "execution_count": null,
      "outputs": []
    },
    {
      "cell_type": "code",
      "source": [
        "finalng=finaln.groupby(['MB_IDX_x','product_grade_name','product_denomination_name','premium'])[['count']].sum().reset_index()\n"
      ],
      "metadata": {
        "id": "Jir4wwLWqLWu"
      },
      "execution_count": null,
      "outputs": []
    },
    {
      "cell_type": "code",
      "source": [
        "premium = finalng.groupby(['MB_IDX_x'])[['premium']].max().reset_index()\n",
        "premium0 = premium[premium['premium']==0]\n",
        "premium1 = premium[premium['premium']==1]\n",
        "premium1"
      ],
      "metadata": {
        "id": "xWCaJnc1Irez"
      },
      "execution_count": null,
      "outputs": []
    },
    {
      "cell_type": "code",
      "source": [
        "fv1 = finalng['MB_IDX_x'].value_counts().to_frame().reset_index()\n",
        "visit1 = fv1[fv1['MB_IDX_x']==1]\n",
        "visit1.rename(columns = {'MB_IDX_x' : 'visit_times'}, inplace=True)\n",
        "visit1.rename(columns = {'index' : 'MB_IDX_x'}, inplace=True)\n",
        "visit1"
      ],
      "metadata": {
        "id": "nw31sFA9HXzR"
      },
      "execution_count": null,
      "outputs": []
    },
    {
      "cell_type": "code",
      "source": [
        "fv1 = finalng['MB_IDX_x'].value_counts().to_frame().reset_index()\n",
        "visit2 = fv1[fv1['MB_IDX_x']>1]\n",
        "visit2.rename(columns = {'MB_IDX_x' : 'visit_times'}, inplace=True)\n",
        "visit2.rename(columns = {'index' : 'MB_IDX_x'}, inplace=True)\n",
        "visit2"
      ],
      "metadata": {
        "id": "Fx6a7oztIdfK"
      },
      "execution_count": null,
      "outputs": []
    },
    {
      "cell_type": "code",
      "source": [
        "alist = pd.merge(premium1, visit1, how='inner', on='MB_IDX_x').set_index('MB_IDX_x').index\n",
        "blist = pd.merge(premium1, visit2, how='inner', on='MB_IDX_x').set_index('MB_IDX_x').index\n",
        "clist = pd.merge(premium0, visit1, how='inner', on='MB_IDX_x').set_index('MB_IDX_x').index\n",
        "dlist = pd.merge(premium0, visit2, how='inner', on='MB_IDX_x').set_index('MB_IDX_x').index"
      ],
      "metadata": {
        "id": "oELoaaNQJ5p_"
      },
      "execution_count": null,
      "outputs": []
    },
    {
      "cell_type": "code",
      "source": [
        "explain=finaln.groupby(['MB_IDX_x','game_date','product_grade_name','product_denomination_name','premium'])[['count']].sum().reset_index()\n",
        "af = explain[explain['MB_IDX_x'].isin(alist)]"
      ],
      "metadata": {
        "id": "w9671njQC45-"
      },
      "execution_count": null,
      "outputs": []
    },
    {
      "cell_type": "code",
      "source": [
        "bf = explain[explain['MB_IDX_x'].isin(blist)]"
      ],
      "metadata": {
        "id": "gFovlXlVKuFS"
      },
      "execution_count": null,
      "outputs": []
    },
    {
      "cell_type": "code",
      "source": [
        "cf=explain[explain['MB_IDX_x'].isin(clist)]"
      ],
      "metadata": {
        "id": "DkJsCZmJF1Lf"
      },
      "execution_count": null,
      "outputs": []
    },
    {
      "cell_type": "code",
      "source": [
        "ddf = explain[explain['MB_IDX_x'].isin(dlist)]"
      ],
      "metadata": {
        "id": "QRKt91HEF3cH"
      },
      "execution_count": null,
      "outputs": []
    },
    {
      "cell_type": "code",
      "source": [
        "aff = ddf.product_grade_name.value_counts(normalize=True).to_frame().reset_index()\n",
        "aff"
      ],
      "metadata": {
        "id": "FARljPfK2sZo"
      },
      "execution_count": null,
      "outputs": []
    },
    {
      "cell_type": "code",
      "source": [
        "ddf.product_denomination_name.value_counts(normalize=True).to_frame().reset_index()"
      ],
      "metadata": {
        "id": "r6FmFG6x2uXj"
      },
      "execution_count": null,
      "outputs": []
    }
  ],
  "metadata": {
    "colab": {
      "provenance": [],
      "authorship_tag": "ABX9TyO8NOhhTJRXkVa9dgiiwl7W",
      "include_colab_link": true
    },
    "kernelspec": {
      "display_name": "Python 3",
      "name": "python3"
    },
    "language_info": {
      "name": "python"
    }
  },
  "nbformat": 4,
  "nbformat_minor": 0
}